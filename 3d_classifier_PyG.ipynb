{
  "cells": [
    {
      "cell_type": "code",
      "execution_count": 1,
      "id": "a683650d-9deb-45f7-8d82-17d0203ec8f9",
      "metadata": {
        "colab": {
          "base_uri": "https://localhost:8080/"
        },
        "id": "a683650d-9deb-45f7-8d82-17d0203ec8f9",
        "outputId": "34b04cc1-d6b5-482d-e863-e28dd7c6cf70"
      },
      "outputs": [],
      "source": [
        "import numpy as np\n",
        "import torch as th\n",
        "\n",
        "#!pip install forgi\n",
        "import forgi\n",
        "import forgi.graph.bulge_graph as fgb\n",
        "import forgi.threedee as ft\n",
        "import forgi.threedee.model.coarse_grain as ftmc\n",
        "\n",
        "\n",
        "import matplotlib.pyplot as plt\n",
        "import networkx as nx\n",
        "import os\n"
      ]
    },
    {
      "cell_type": "code",
      "execution_count": 2,
      "id": "_MuRd2MIU0bz",
      "metadata": {
        "colab": {
          "base_uri": "https://localhost:8080/"
        },
        "id": "_MuRd2MIU0bz",
        "outputId": "9ee780bf-27d4-4d61-c35b-f1f03e120df4"
      },
      "outputs": [
        {
          "name": "stdout",
          "output_type": "stream",
          "text": [
            "1.10.2\n",
            "True\n"
          ]
        }
      ],
      "source": [
        "print(th.__version__)\n",
        "print(th.cuda.is_available())\n",
        "\n",
        "#!tar -xf data.tar.xz"
      ]
    },
    {
      "cell_type": "code",
      "execution_count": 3,
      "id": "vx871ioOqetL",
      "metadata": {
        "colab": {
          "base_uri": "https://localhost:8080/"
        },
        "id": "vx871ioOqetL",
        "outputId": "aac9385c-242b-4c45-c931-63fe1e57c4af"
      },
      "outputs": [],
      "source": [
        "#install PyG in google colab\n",
        "\n",
        "#!pip install torch-scatter torch-sparse torch-cluster torch-spline-conv torch-geometric -f https://data.pyg.org/whl/torch-1.10.0+cu111.html"
      ]
    },
    {
      "cell_type": "markdown",
      "id": "n2IxR1AxZdYn",
      "metadata": {
        "id": "n2IxR1AxZdYn"
      },
      "source": [
        "TODO:\n",
        "*  include checkpoints, that save model parameters for later testing **DONE**\n",
        "*  how to avoid negative RMSD predicitons?\n",
        "*  **implement gpu usage**\n",
        "*  use dgl.save_graph() to store a graph, so the structure can be used for several steps?\n",
        "*  use forgi.threedee.model.coarse_grain.CoarseGrainRNA.rotate() to rotate cg RNAs and see if the classification changes\n",
        "*  future --> find where ernwin writes/stores output of structure for each n steps\n",
        "*  finetune the model\n",
        "*  make larger batch of training data for testing\n",
        "*  include logger (maybe wandb?)\n",
        "\n"
      ]
    },
    {
      "cell_type": "code",
      "execution_count": 10,
      "id": "81afa4b6-ee92-4662-826b-de338ca595cf",
      "metadata": {
        "id": "81afa4b6-ee92-4662-826b-de338ca595cf",
        "tags": []
      },
      "outputs": [],
      "source": [
        "#Graph Building\n",
        "from torch_geometric.data import Data\n",
        "\n",
        "#load coarse grain file\n",
        "def load_cg_file(file): \n",
        "    cg = ftmc.CoarseGrainRNA.from_bg_file(file) \n",
        "    c_dict = dict(cg.coords)\n",
        "    t_dict = dict(cg.twists)\n",
        "    coord_dict = {}\n",
        "    twist_dict = {}\n",
        "    for e in c_dict:\n",
        "        a = th.from_numpy(c_dict[e][0])\n",
        "        b = th.from_numpy(c_dict[e][1])\n",
        "        coord_dict[e] = a, b\n",
        "        if e in t_dict:\n",
        "            c = th.from_numpy(t_dict[e][0])\n",
        "            d = th.from_numpy(t_dict[e][1])\n",
        "            twist_dict[e] = c, d\n",
        "        \n",
        "    # Get elements and neighbours:\n",
        "    connections = {}\n",
        "    for elem in cg.sorted_element_iterator():\n",
        "        neighbours = cg.connections(elem)\n",
        "        if elem not in connections:\n",
        "            connections[elem] = cg.connections(elem)\n",
        "    return coord_dict, twist_dict, connections\n",
        "\n",
        "def build_graph(coord_dict, twist_dict, connections, label):\n",
        "    #dictionary to convert type\n",
        "    type_transl = {\n",
        "        \"h\": [1, 0, 0, 0, 0, 0],\n",
        "        \"i\": [0, 1, 0, 0, 0, 0],\n",
        "        \"m\": [0, 0, 1, 0, 0, 0],\n",
        "        \"s\": [0, 0, 0, 1, 0, 0],\n",
        "        \"f\": [0, 0, 0, 0, 1, 0],\n",
        "        \"t\": [0, 0, 0, 0, 0, 1]\n",
        "    } \n",
        "\n",
        "    #encode nodes numerically for edge index\n",
        "    num_graph = {}\n",
        "    for num, n in enumerate(sorted(connections)):\n",
        "        num_graph[n] = num\n",
        "\n",
        "\n",
        "    #build graph and edges\n",
        "    u = []\n",
        "    v = []\n",
        "    for node in connections:\n",
        "        for c in connections[node]:\n",
        "            u.append(num_graph[node])\n",
        "            v.append(num_graph[c])\n",
        "    \n",
        "    edge_index = th.tensor([u, v], dtype=th.long)\n",
        "\n",
        "    x = []\n",
        "    for elem in sorted(connections):\n",
        "        a = np.array(type_transl[elem[0]])\n",
        "        b = np.concatenate(coord_dict[elem])\n",
        "        if elem in twist_dict:\n",
        "            c = np.concatenate(twist_dict[elem]) \n",
        "        else:\n",
        "            c = np.zeros(6)\n",
        "        z = np.append(a, [b, c])\n",
        "        x.append(z)\n",
        "    x = np.array(x)\n",
        "    x = th.tensor(x, dtype=th.float32)\n",
        "\n",
        "    graph = Data(x=x, edge_index=edge_index, y=label)\n",
        "\n",
        "    return graph\n"
      ]
    },
    {
      "cell_type": "code",
      "execution_count": 5,
      "id": "65010c86-88ed-4940-b36f-5af93ea50a6d",
      "metadata": {
        "id": "65010c86-88ed-4940-b36f-5af93ea50a6d"
      },
      "outputs": [],
      "source": [
        "#create a dict with name and rmsd as labels\n",
        "def get_rmsd_dict(rmsd_list):\n",
        "    rmsd_dict = {}\n",
        "    with open(rmsd_list, \"r\") as fh:\n",
        "        for line in fh.readlines():\n",
        "            name, rmsd = (line.rstrip()).split(\"\\t\")\n",
        "            rmsd_dict[name] = float(rmsd)\n",
        "    return rmsd_dict\n"
      ]
    },
    {
      "cell_type": "code",
      "execution_count": 6,
      "id": "ZU_znRFH141n",
      "metadata": {
        "id": "ZU_znRFH141n"
      },
      "outputs": [],
      "source": [
        "#Graph Dataset Class\n",
        "from torch_geometric.data import InMemoryDataset\n",
        "\n",
        "class CGDataset(InMemoryDataset):\n",
        "    def __init__(self, root, rmsd_list, transform=None, pre_transform=None):\n",
        "        self.file_path = root\n",
        "        self.rmsd_list = rmsd_list\n",
        "        super(CGDataset, self).__init__(root, transform, pre_transform)\n",
        "        self.data, self.slices = th.load(self.processed_paths[0])\n",
        "\n",
        "    @property\n",
        "    def raw_file_names(self):\n",
        "        return [f for f in os.listdir(self.file_path) if os.path.isfile(os.path.join(self.file_path, f))]\n",
        "    \n",
        "    @property\n",
        "    def processed_file_names(self):\n",
        "        return ['data.pt']\n",
        "\n",
        "    def process(self):\n",
        "        self.graphs = []\n",
        "        rmsd_dict = get_rmsd_dict(self.rmsd_list)\n",
        "        \n",
        "        files = []\n",
        "\n",
        "        for file in self.raw_file_names:\n",
        "            if file.endswith(\".cg\"):\n",
        "                files.append(file)\n",
        "\n",
        "        for struc in files:\n",
        "            coord_dict, twist_dict, connections = load_cg_file(os.path.join(self.file_path, struc))\n",
        "            graph = build_graph(coord_dict, twist_dict, connections, rmsd_dict[struc])\n",
        "            self.graphs.append(graph)\n",
        "\n",
        "        if self.pre_filter is not None:\n",
        "            self.graphs = [data for data in self.graphs if self.pre_filter(data)]\n",
        "\n",
        "        if self.pre_transform is not None:\n",
        "            self.graphs = [self.pre_transform(data) for data in self.graphs]\n",
        "\n",
        "        data, slices = self.collate(self.graphs)\n",
        "        th.save((data, slices), self.processed_paths[0])\n",
        "        \n",
        "    '''\n",
        "    def get(self, idx):\n",
        "        data = torch.load(osp.join(self.processed_dir, f'data_{idx}.pt'))\n",
        "        return data\n",
        "\n",
        "    def len(self):\n",
        "        return len(self.graphs)\n",
        "    '''\n"
      ]
    },
    {
      "cell_type": "code",
      "execution_count": 26,
      "id": "fec1a7b3-8adc-45a3-83ab-7cb02f31a4af",
      "metadata": {
        "id": "fec1a7b3-8adc-45a3-83ab-7cb02f31a4af"
      },
      "outputs": [],
      "source": [
        "#Model\n",
        "\n",
        "import torch.nn.functional as F\n",
        "import torch_geometric.nn as tgnn\n",
        "\n",
        "#Coarse Grain RNA Classifier Model\n",
        "class CG_Classifier(th.nn.Module):\n",
        "    def __init__(self):\n",
        "        self.c = 0\n",
        "        super(CG_Classifier, self).__init__()\n",
        "        \n",
        "        self.conv1 = tgnn.TAGConv(18, 200, K=2, node_dim=1)\n",
        "        self.conv2 = tgnn.TAGConv(200, 150, K=2, node_dim=1)\n",
        "        self.conv3 = tgnn.TAGConv(150, 100, K=2, node_dim=1)\n",
        "        self.conv4 = tgnn.TAGConv(100, 50, K=2, node_dim=1)\n",
        "        self.conv5 = tgnn.TAGConv(50, 25, K=2, node_dim=1)\n",
        "        \n",
        "        self.sage_conv1 = tgnn.SAGEConv(25, 60, node_dim=1)\n",
        "        self.sage_conv2 = tgnn.SAGEConv(60, 50, node_dim=1)\n",
        "        self.sage_conv3 = tgnn.SAGEConv(50, 40, node_dim=1)\n",
        "        self.sage_conv4 = tgnn.SAGEConv(40, 30, node_dim=1)\n",
        "        self.sage_conv5 = tgnn.SAGEConv(30, 20, node_dim=1)\n",
        "        \n",
        "        self.readout = tgnn.SAGPooling(20)\n",
        "        \n",
        "        self.classify = th.nn.Sequential(\n",
        "            th.nn.Linear(20, 512),\n",
        "            th.nn.ELU(),\n",
        "            th.nn.Linear(512, 512),\n",
        "            th.nn.ELU(),\n",
        "            th.nn.Linear(512, 512),\n",
        "            th.nn.ELU(),\n",
        "            th.nn.Linear(512, 512),\n",
        "            th.nn.ELU(),\n",
        "            th.nn.Linear(512, 1)\n",
        "        )\n",
        "        \n",
        "    def forward(self, g):\n",
        "        edge_i = g.edge_index\n",
        "        nf = g.x\n",
        "        \n",
        "        nf = self.conv1(nf, edge_i)\n",
        "        nf = F.elu(nf)\n",
        "        nf = self.conv2(nf, edge_i)\n",
        "        nf = F.elu(nf)\n",
        "        nf = self.conv3(nf, edge_i)\n",
        "        nf = F.elu(nf)\n",
        "        nf = self.conv4(nf, edge_i)\n",
        "        nf = F.elu(nf)\n",
        "        nf = self.conv5(nf, edge_i)\n",
        "\n",
        "        nf = self.sage_conv1(nf, edge_i)\n",
        "        nf = F.elu(nf)\n",
        "        nf = self.sage_conv2(nf, edge_i)\n",
        "        nf = F.elu(nf)\n",
        "        nf = self.sage_conv3(nf, edge_i)\n",
        "        nf = F.elu(nf)\n",
        "        nf = self.sage_conv4(nf, edge_i)\n",
        "        nf = F.elu(nf)\n",
        "        nf = self.sage_conv5(nf, edge_i)\n",
        "        nf = F.elu(nf)\n",
        "\n",
        "        tcw = self.readout(nf, edge_i)\n",
        "        \n",
        "        return self.classify(tcw[0])#_mean)"
      ]
    },
    {
      "cell_type": "code",
      "execution_count": 38,
      "id": "j4O333bvAQ1V",
      "metadata": {
        "colab": {
          "base_uri": "https://localhost:8080/"
        },
        "id": "j4O333bvAQ1V",
        "outputId": "07169a87-9bfa-438b-9a8b-f05735d81fb7"
      },
      "outputs": [
        {
          "name": "stderr",
          "output_type": "stream",
          "text": [
            "Processing...\n",
            "Done!\n"
          ]
        }
      ],
      "source": [
        "#Training Set\n",
        "from torch_geometric.loader import DataLoader\n",
        "import torch_geometric.transforms as T\n",
        "\n",
        "training_dir = \"./data/old_training_set\"\n",
        "rmsd_list = \"./data/old_train_rmsd_list.txt\"\n",
        "\n",
        "training_dataset = CGDataset(training_dir, rmsd_list)\n"
      ]
    },
    {
      "cell_type": "code",
      "execution_count": 39,
      "id": "bq8dpernrILf",
      "metadata": {
        "colab": {
          "base_uri": "https://localhost:8080/"
        },
        "id": "bq8dpernrILf",
        "outputId": "18654cbb-a816-490f-fc60-015f5c432b3c"
      },
      "outputs": [
        {
          "name": "stderr",
          "output_type": "stream",
          "text": [
            "Processing...\n",
            "Done!\n"
          ]
        }
      ],
      "source": [
        "#Validation Set\n",
        "val_dir = \"./data/val_set\"\n",
        "val_rmsd = \"./data/val_rmsd_list.txt\"\n",
        "\n",
        "val_dataset = CGDataset(val_dir, val_rmsd)\n",
        "\n",
        "val_dataloader = DataLoader(val_dataset)"
      ]
    },
    {
      "cell_type": "code",
      "execution_count": 30,
      "id": "8f96d73c",
      "metadata": {},
      "outputs": [
        {
          "name": "stdout",
          "output_type": "stream",
          "text": [
            "torch.Size([15382, 18])\n",
            "True\n",
            "1083\n"
          ]
        }
      ],
      "source": [
        "print(training_dataset.data.x.shape)\n",
        "print(training_dataset.data.is_undirected())\n",
        "print(len(training_dataset))"
      ]
    },
    {
      "cell_type": "code",
      "execution_count": 35,
      "id": "2943be90-6647-4c26-b967-a2563a142877",
      "metadata": {
        "colab": {
          "base_uri": "https://localhost:8080/",
          "height": 489
        },
        "id": "2943be90-6647-4c26-b967-a2563a142877",
        "outputId": "9636ec89-031d-4ab8-b8a0-3b21c105f5a9"
      },
      "outputs": [
        {
          "name": "stdout",
          "output_type": "stream",
          "text": [
            "Data(x=[12, 18], edge_index=[2, 36], y=[1], edge_weight=[36])\n"
          ]
        },
        {
          "ename": "RuntimeError",
          "evalue": "The size of tensor a (36) must match the size of tensor b (12) at non-singleton dimension 0",
          "output_type": "error",
          "traceback": [
            "\u001b[0;31m---------------------------------------------------------------------------\u001b[0m",
            "\u001b[0;31mRuntimeError\u001b[0m                              Traceback (most recent call last)",
            "\u001b[1;32m/home/milan/MS_Arbeit/3d_classifier/3d_classifier_PyG.ipynb Cell 12'\u001b[0m in \u001b[0;36m<module>\u001b[0;34m\u001b[0m\n\u001b[1;32m     <a href='vscode-notebook-cell:/home/milan/MS_Arbeit/3d_classifier/3d_classifier_PyG.ipynb#ch0000010?line=28'>29</a>\u001b[0m \u001b[39mfor\u001b[39;00m i \u001b[39min\u001b[39;00m \u001b[39mrange\u001b[39m(batch_size):\n\u001b[1;32m     <a href='vscode-notebook-cell:/home/milan/MS_Arbeit/3d_classifier/3d_classifier_PyG.ipynb#ch0000010?line=29'>30</a>\u001b[0m     \u001b[39mprint\u001b[39m(batch[i])\n\u001b[0;32m---> <a href='vscode-notebook-cell:/home/milan/MS_Arbeit/3d_classifier/3d_classifier_PyG.ipynb#ch0000010?line=30'>31</a>\u001b[0m     pred \u001b[39m=\u001b[39m model(batch[i]) \n\u001b[1;32m     <a href='vscode-notebook-cell:/home/milan/MS_Arbeit/3d_classifier/3d_classifier_PyG.ipynb#ch0000010?line=31'>32</a>\u001b[0m     logits\u001b[39m.\u001b[39mappend(pred)\n\u001b[1;32m     <a href='vscode-notebook-cell:/home/milan/MS_Arbeit/3d_classifier/3d_classifier_PyG.ipynb#ch0000010?line=33'>34</a>\u001b[0m loss \u001b[39m=\u001b[39m F\u001b[39m.\u001b[39msmooth_l1_loss(logits, batch\u001b[39m.\u001b[39my, reduction\u001b[39m=\u001b[39m\u001b[39m'\u001b[39m\u001b[39mmean\u001b[39m\u001b[39m'\u001b[39m) \u001b[39m# take a look at size of pred and batch.y --> might be due to data processing (node features)\u001b[39;00m\n",
            "File \u001b[0;32m~/anaconda3/envs/torchgeo/lib/python3.9/site-packages/torch/nn/modules/module.py:1102\u001b[0m, in \u001b[0;36mModule._call_impl\u001b[0;34m(self, *input, **kwargs)\u001b[0m\n\u001b[1;32m   <a href='file:///~/anaconda3/envs/torchgeo/lib/python3.9/site-packages/torch/nn/modules/module.py?line=1097'>1098</a>\u001b[0m \u001b[39m# If we don't have any hooks, we want to skip the rest of the logic in\u001b[39;00m\n\u001b[1;32m   <a href='file:///~/anaconda3/envs/torchgeo/lib/python3.9/site-packages/torch/nn/modules/module.py?line=1098'>1099</a>\u001b[0m \u001b[39m# this function, and just call forward.\u001b[39;00m\n\u001b[1;32m   <a href='file:///~/anaconda3/envs/torchgeo/lib/python3.9/site-packages/torch/nn/modules/module.py?line=1099'>1100</a>\u001b[0m \u001b[39mif\u001b[39;00m \u001b[39mnot\u001b[39;00m (\u001b[39mself\u001b[39m\u001b[39m.\u001b[39m_backward_hooks \u001b[39mor\u001b[39;00m \u001b[39mself\u001b[39m\u001b[39m.\u001b[39m_forward_hooks \u001b[39mor\u001b[39;00m \u001b[39mself\u001b[39m\u001b[39m.\u001b[39m_forward_pre_hooks \u001b[39mor\u001b[39;00m _global_backward_hooks\n\u001b[1;32m   <a href='file:///~/anaconda3/envs/torchgeo/lib/python3.9/site-packages/torch/nn/modules/module.py?line=1100'>1101</a>\u001b[0m         \u001b[39mor\u001b[39;00m _global_forward_hooks \u001b[39mor\u001b[39;00m _global_forward_pre_hooks):\n\u001b[0;32m-> <a href='file:///~/anaconda3/envs/torchgeo/lib/python3.9/site-packages/torch/nn/modules/module.py?line=1101'>1102</a>\u001b[0m     \u001b[39mreturn\u001b[39;00m forward_call(\u001b[39m*\u001b[39;49m\u001b[39minput\u001b[39;49m, \u001b[39m*\u001b[39;49m\u001b[39m*\u001b[39;49mkwargs)\n\u001b[1;32m   <a href='file:///~/anaconda3/envs/torchgeo/lib/python3.9/site-packages/torch/nn/modules/module.py?line=1102'>1103</a>\u001b[0m \u001b[39m# Do not call functions when jit is used\u001b[39;00m\n\u001b[1;32m   <a href='file:///~/anaconda3/envs/torchgeo/lib/python3.9/site-packages/torch/nn/modules/module.py?line=1103'>1104</a>\u001b[0m full_backward_hooks, non_full_backward_hooks \u001b[39m=\u001b[39m [], []\n",
            "\u001b[1;32m/home/milan/MS_Arbeit/3d_classifier/3d_classifier_PyG.ipynb Cell 8'\u001b[0m in \u001b[0;36mCG_Classifier.forward\u001b[0;34m(self, g)\u001b[0m\n\u001b[1;32m     <a href='vscode-notebook-cell:/home/milan/MS_Arbeit/3d_classifier/3d_classifier_PyG.ipynb#ch0000007?line=38'>39</a>\u001b[0m edge_i \u001b[39m=\u001b[39m g\u001b[39m.\u001b[39medge_index\n\u001b[1;32m     <a href='vscode-notebook-cell:/home/milan/MS_Arbeit/3d_classifier/3d_classifier_PyG.ipynb#ch0000007?line=39'>40</a>\u001b[0m nf \u001b[39m=\u001b[39m g\u001b[39m.\u001b[39mx\n\u001b[0;32m---> <a href='vscode-notebook-cell:/home/milan/MS_Arbeit/3d_classifier/3d_classifier_PyG.ipynb#ch0000007?line=41'>42</a>\u001b[0m nf \u001b[39m=\u001b[39m \u001b[39mself\u001b[39;49m\u001b[39m.\u001b[39;49mconv1(nf, edge_i)\n\u001b[1;32m     <a href='vscode-notebook-cell:/home/milan/MS_Arbeit/3d_classifier/3d_classifier_PyG.ipynb#ch0000007?line=42'>43</a>\u001b[0m nf \u001b[39m=\u001b[39m F\u001b[39m.\u001b[39melu(nf)\n\u001b[1;32m     <a href='vscode-notebook-cell:/home/milan/MS_Arbeit/3d_classifier/3d_classifier_PyG.ipynb#ch0000007?line=43'>44</a>\u001b[0m nf \u001b[39m=\u001b[39m \u001b[39mself\u001b[39m\u001b[39m.\u001b[39mconv2(nf, edge_i)\n",
            "File \u001b[0;32m~/anaconda3/envs/torchgeo/lib/python3.9/site-packages/torch/nn/modules/module.py:1102\u001b[0m, in \u001b[0;36mModule._call_impl\u001b[0;34m(self, *input, **kwargs)\u001b[0m\n\u001b[1;32m   <a href='file:///~/anaconda3/envs/torchgeo/lib/python3.9/site-packages/torch/nn/modules/module.py?line=1097'>1098</a>\u001b[0m \u001b[39m# If we don't have any hooks, we want to skip the rest of the logic in\u001b[39;00m\n\u001b[1;32m   <a href='file:///~/anaconda3/envs/torchgeo/lib/python3.9/site-packages/torch/nn/modules/module.py?line=1098'>1099</a>\u001b[0m \u001b[39m# this function, and just call forward.\u001b[39;00m\n\u001b[1;32m   <a href='file:///~/anaconda3/envs/torchgeo/lib/python3.9/site-packages/torch/nn/modules/module.py?line=1099'>1100</a>\u001b[0m \u001b[39mif\u001b[39;00m \u001b[39mnot\u001b[39;00m (\u001b[39mself\u001b[39m\u001b[39m.\u001b[39m_backward_hooks \u001b[39mor\u001b[39;00m \u001b[39mself\u001b[39m\u001b[39m.\u001b[39m_forward_hooks \u001b[39mor\u001b[39;00m \u001b[39mself\u001b[39m\u001b[39m.\u001b[39m_forward_pre_hooks \u001b[39mor\u001b[39;00m _global_backward_hooks\n\u001b[1;32m   <a href='file:///~/anaconda3/envs/torchgeo/lib/python3.9/site-packages/torch/nn/modules/module.py?line=1100'>1101</a>\u001b[0m         \u001b[39mor\u001b[39;00m _global_forward_hooks \u001b[39mor\u001b[39;00m _global_forward_pre_hooks):\n\u001b[0;32m-> <a href='file:///~/anaconda3/envs/torchgeo/lib/python3.9/site-packages/torch/nn/modules/module.py?line=1101'>1102</a>\u001b[0m     \u001b[39mreturn\u001b[39;00m forward_call(\u001b[39m*\u001b[39;49m\u001b[39minput\u001b[39;49m, \u001b[39m*\u001b[39;49m\u001b[39m*\u001b[39;49mkwargs)\n\u001b[1;32m   <a href='file:///~/anaconda3/envs/torchgeo/lib/python3.9/site-packages/torch/nn/modules/module.py?line=1102'>1103</a>\u001b[0m \u001b[39m# Do not call functions when jit is used\u001b[39;00m\n\u001b[1;32m   <a href='file:///~/anaconda3/envs/torchgeo/lib/python3.9/site-packages/torch/nn/modules/module.py?line=1103'>1104</a>\u001b[0m full_backward_hooks, non_full_backward_hooks \u001b[39m=\u001b[39m [], []\n",
            "File \u001b[0;32m~/anaconda3/envs/torchgeo/lib/python3.9/site-packages/torch_geometric/nn/conv/tag_conv.py:73\u001b[0m, in \u001b[0;36mTAGConv.forward\u001b[0;34m(self, x, edge_index, edge_weight)\u001b[0m\n\u001b[1;32m     <a href='file:///~/anaconda3/envs/torchgeo/lib/python3.9/site-packages/torch_geometric/nn/conv/tag_conv.py?line=69'>70</a>\u001b[0m out \u001b[39m=\u001b[39m \u001b[39mself\u001b[39m\u001b[39m.\u001b[39mlins[\u001b[39m0\u001b[39m](x)\n\u001b[1;32m     <a href='file:///~/anaconda3/envs/torchgeo/lib/python3.9/site-packages/torch_geometric/nn/conv/tag_conv.py?line=70'>71</a>\u001b[0m \u001b[39mfor\u001b[39;00m lin \u001b[39min\u001b[39;00m \u001b[39mself\u001b[39m\u001b[39m.\u001b[39mlins[\u001b[39m1\u001b[39m:]:\n\u001b[1;32m     <a href='file:///~/anaconda3/envs/torchgeo/lib/python3.9/site-packages/torch_geometric/nn/conv/tag_conv.py?line=71'>72</a>\u001b[0m     \u001b[39m# propagate_type: (x: Tensor, edge_weight: OptTensor)\u001b[39;00m\n\u001b[0;32m---> <a href='file:///~/anaconda3/envs/torchgeo/lib/python3.9/site-packages/torch_geometric/nn/conv/tag_conv.py?line=72'>73</a>\u001b[0m     x \u001b[39m=\u001b[39m \u001b[39mself\u001b[39;49m\u001b[39m.\u001b[39;49mpropagate(edge_index, x\u001b[39m=\u001b[39;49mx, edge_weight\u001b[39m=\u001b[39;49medge_weight,\n\u001b[1;32m     <a href='file:///~/anaconda3/envs/torchgeo/lib/python3.9/site-packages/torch_geometric/nn/conv/tag_conv.py?line=73'>74</a>\u001b[0m                        size\u001b[39m=\u001b[39;49m\u001b[39mNone\u001b[39;49;00m)\n\u001b[1;32m     <a href='file:///~/anaconda3/envs/torchgeo/lib/python3.9/site-packages/torch_geometric/nn/conv/tag_conv.py?line=74'>75</a>\u001b[0m     out \u001b[39m+\u001b[39m\u001b[39m=\u001b[39m lin\u001b[39m.\u001b[39mforward(x)\n\u001b[1;32m     <a href='file:///~/anaconda3/envs/torchgeo/lib/python3.9/site-packages/torch_geometric/nn/conv/tag_conv.py?line=75'>76</a>\u001b[0m \u001b[39mreturn\u001b[39;00m out\n",
            "File \u001b[0;32m~/anaconda3/envs/torchgeo/lib/python3.9/site-packages/torch_geometric/nn/conv/message_passing.py:317\u001b[0m, in \u001b[0;36mMessagePassing.propagate\u001b[0;34m(self, edge_index, size, **kwargs)\u001b[0m\n\u001b[1;32m    <a href='file:///~/anaconda3/envs/torchgeo/lib/python3.9/site-packages/torch_geometric/nn/conv/message_passing.py?line=314'>315</a>\u001b[0m     \u001b[39mif\u001b[39;00m res \u001b[39mis\u001b[39;00m \u001b[39mnot\u001b[39;00m \u001b[39mNone\u001b[39;00m:\n\u001b[1;32m    <a href='file:///~/anaconda3/envs/torchgeo/lib/python3.9/site-packages/torch_geometric/nn/conv/message_passing.py?line=315'>316</a>\u001b[0m         msg_kwargs \u001b[39m=\u001b[39m res[\u001b[39m0\u001b[39m] \u001b[39mif\u001b[39;00m \u001b[39misinstance\u001b[39m(res, \u001b[39mtuple\u001b[39m) \u001b[39melse\u001b[39;00m res\n\u001b[0;32m--> <a href='file:///~/anaconda3/envs/torchgeo/lib/python3.9/site-packages/torch_geometric/nn/conv/message_passing.py?line=316'>317</a>\u001b[0m out \u001b[39m=\u001b[39m \u001b[39mself\u001b[39;49m\u001b[39m.\u001b[39;49mmessage(\u001b[39m*\u001b[39;49m\u001b[39m*\u001b[39;49mmsg_kwargs)\n\u001b[1;32m    <a href='file:///~/anaconda3/envs/torchgeo/lib/python3.9/site-packages/torch_geometric/nn/conv/message_passing.py?line=317'>318</a>\u001b[0m \u001b[39mfor\u001b[39;00m hook \u001b[39min\u001b[39;00m \u001b[39mself\u001b[39m\u001b[39m.\u001b[39m_message_forward_hooks\u001b[39m.\u001b[39mvalues():\n\u001b[1;32m    <a href='file:///~/anaconda3/envs/torchgeo/lib/python3.9/site-packages/torch_geometric/nn/conv/message_passing.py?line=318'>319</a>\u001b[0m     res \u001b[39m=\u001b[39m hook(\u001b[39mself\u001b[39m, (msg_kwargs, ), out)\n",
            "File \u001b[0;32m~/anaconda3/envs/torchgeo/lib/python3.9/site-packages/torch_geometric/nn/conv/tag_conv.py:79\u001b[0m, in \u001b[0;36mTAGConv.message\u001b[0;34m(self, x_j, edge_weight)\u001b[0m\n\u001b[1;32m     <a href='file:///~/anaconda3/envs/torchgeo/lib/python3.9/site-packages/torch_geometric/nn/conv/tag_conv.py?line=77'>78</a>\u001b[0m \u001b[39mdef\u001b[39;00m \u001b[39mmessage\u001b[39m(\u001b[39mself\u001b[39m, x_j: Tensor, edge_weight: OptTensor) \u001b[39m-\u001b[39m\u001b[39m>\u001b[39m Tensor:\n\u001b[0;32m---> <a href='file:///~/anaconda3/envs/torchgeo/lib/python3.9/site-packages/torch_geometric/nn/conv/tag_conv.py?line=78'>79</a>\u001b[0m     \u001b[39mreturn\u001b[39;00m x_j \u001b[39mif\u001b[39;00m edge_weight \u001b[39mis\u001b[39;00m \u001b[39mNone\u001b[39;00m \u001b[39melse\u001b[39;00m edge_weight\u001b[39m.\u001b[39;49mview(\u001b[39m-\u001b[39;49m\u001b[39m1\u001b[39;49m, \u001b[39m1\u001b[39;49m) \u001b[39m*\u001b[39;49m x_j\n",
            "\u001b[0;31mRuntimeError\u001b[0m: The size of tensor a (36) must match the size of tensor b (12) at non-singleton dimension 0"
          ]
        }
      ],
      "source": [
        "#Training\n",
        "import time\n",
        "start = time.perf_counter()\n",
        "\n",
        "device = th.device('cpu') #('cuda' if th.cuda.is_available() else 'cpu')\n",
        "model = CG_Classifier().to(device)\n",
        "\n",
        "b_size = 32\n",
        "train_dataloader = DataLoader(training_dataset, batch_size=b_size, shuffle=True)\n",
        "\n",
        "\n",
        "opt = th.optim.Adam(model.parameters(), lr=1e-3)\n",
        "model.train()\n",
        "\n",
        "epochs = 50\n",
        "\n",
        "#val setup\n",
        "val_losses = []\n",
        "\n",
        "#training setup\n",
        "epoch_losses = []\n",
        "for epoch in range(epochs):\n",
        "    epoch_loss = 0\n",
        "    \n",
        "    for iter, batch in enumerate(train_dataloader):\n",
        "        opt.zero_grad()\n",
        "        batch_size = batch.size(0)\n",
        "        logits = []\n",
        "        for i in range(batch_size):\n",
        "            print(batch[i])\n",
        "            pred = model(batch[i]) \n",
        "            logits.append(pred)\n",
        "        \n",
        "        loss = F.smooth_l1_loss(logits, batch.y, reduction='mean')\n",
        "\n",
        "        loss.backward()\n",
        "        opt.step()\n",
        "        epoch_loss += loss.detach().item()\n",
        "    \n",
        "    epoch_loss /= (iter + 1)\n",
        "    epoch_losses.append(epoch_loss)\n",
        "\n",
        "    #val setup\n",
        "    val_loss = 0\n",
        "    for i, v_graph in enumerate(val_dataloader):\n",
        "        val_pred = model(v_graph)\n",
        "        v_loss = F.smooth_l1_loss(val_pred, v_graph.y, reduction='mean')\n",
        "        val_loss += v_loss.detach().item()\n",
        "\n",
        "    val_loss /= (i + 1)\n",
        "    \n",
        "    val_losses.append(val_loss)\n",
        "    \n",
        "    #if epoch >= 20:\n",
        "    #    th.save(model.state_dict(), \"model_data/model_epoch\" + str(epoch) + \".pth\")\n",
        "    \n",
        "    if epoch % 5 == 0:\n",
        "        print(\"Epoch {}: Training loss {:.4f}, Validation loss {:.4f}\".format(epoch, epoch_loss, val_loss))\n",
        "        \n",
        "end = time.perf_counter()\n",
        "\n",
        "print(\"Training took {:.2f} minutes\".format((end - start)/60/60))\n",
        "print(\"Minimum Training Loss {:.4f} in epoch {}\".format(min(epoch_losses), epoch_losses.index(min(epoch_losses))))\n",
        "print(\"Minimum Validation Loss {:.4f} in epoch {}\".format(min(val_losses), val_losses.index(min(val_losses))))\n",
        "\n",
        "#plot the training run\n",
        "plt.plot(epoch_losses)\n",
        "plt.plot(val_losses, 'r')\n",
        "plt.title(\"Training Loss\")\n",
        "plt.ylim(ymax=10, ymin=0)\n",
        "plt.draw()"
      ]
    },
    {
      "cell_type": "code",
      "execution_count": null,
      "id": "ed5b41a5-5213-49df-bd67-9984f67183f5",
      "metadata": {
        "colab": {
          "base_uri": "https://localhost:8080/",
          "height": 281
        },
        "id": "ed5b41a5-5213-49df-bd67-9984f67183f5",
        "outputId": "4a0594fa-255d-4bf4-fb4b-55f761a3b36c"
      },
      "outputs": [
        {
          "data": {
            "image/png": "[encoded data removed]",
            "text/plain": [
              "<Figure size 432x288 with 1 Axes>"
            ]
          },
          "metadata": {
            "needs_background": "light"
          },
          "output_type": "display_data"
        }
      ],
      "source": [
        "#plot the training run\n",
        "plt.plot(epoch_losses)\n",
        "plt.plot(val_losses, 'r')\n",
        "plt.title(\"Training Loss\")\n",
        "plt.ylim(ymax = 6, ymin = 0)\n",
        "plt.axvline(x = 455, c = 'g', ls = ':')\n",
        "plt.draw()"
      ]
    },
    {
      "cell_type": "code",
      "execution_count": null,
      "id": "AArBQDKxIIBf",
      "metadata": {
        "id": "AArBQDKxIIBf"
      },
      "outputs": [],
      "source": [
        "#Test Data\n",
        "test_dir = \"./data/test_set\"\n",
        "test_rmsd = \"./data/test_rmsd_list.txt\"\n",
        "\n",
        "test_dataset = CGDataset(test_dir, test_rmsd)\n",
        "\n",
        "test_dataloader = DataLoader(test_dataset)"
      ]
    },
    {
      "cell_type": "code",
      "execution_count": null,
      "id": "eUo0_OJpxrV4",
      "metadata": {
        "colab": {
          "base_uri": "https://localhost:8080/",
          "height": 455
        },
        "id": "eUo0_OJpxrV4",
        "outputId": "6bde702c-94a8-45dc-a654-8776f0b9a111"
      },
      "outputs": [
        {
          "name": "stdout",
          "output_type": "stream",
          "text": [
            "tensor([0.]) tensor([0.0301], grad_fn=<AddBackward0>) 0.03013432025909424\n",
            "tensor([29.3100]) tensor([4.4378], grad_fn=<AddBackward0>) 24.872236251831055\n",
            "Mean Test loss: \t 3.4010\n",
            "Std. Dev. of Test loss:  4.2547\n",
            "Min loss: \t\t 0.0301\n",
            "First Quantile: \t 0.5217\n",
            "Median: \t\t 2.3516\n",
            "Third Quantile: \t 4.3725\n",
            "Max Loss: \t\t 24.8722\n",
            "[14.994844436645508, 15.1478271484375, 16.651601791381836, 18.817138671875, 24.872236251831055]\n"
          ]
        },
        {
          "data": {
            "image/png": "[encoded data removed]",
            "text/plain": [
              "<Figure size 432x288 with 1 Axes>"
            ]
          },
          "metadata": {
            "needs_background": "light"
          },
          "output_type": "display_data"
        }
      ],
      "source": [
        "#Test\n",
        "import math\n",
        "\n",
        "model.load_state_dict(th.load(\"model_data/model_epoch457.pth\"))\n",
        "model.eval()\n",
        "\n",
        "max_label = 0\n",
        "max_loss = 0\n",
        "max_pred = 0\n",
        "min_label = math.inf\n",
        "min_loss = math.inf\n",
        "min_pred = math.inf\n",
        "test_losses = []\n",
        "for test_graph, test_label in test_dataloader:\n",
        "    test_pred = model(test_graph)\n",
        "    test_loss = F.l1_loss(test_pred, test_label).item() #smooth_l1_loss\n",
        "    test_losses.append(test_loss)\n",
        "    if test_loss > max_loss:\n",
        "        max_loss = test_loss\n",
        "        max_label = test_label\n",
        "        max_pred = test_pred\n",
        "    if test_loss < min_loss:\n",
        "        min_loss = test_loss\n",
        "        min_label = test_label\n",
        "        min_pred = test_pred\n",
        "    if test_pred < 0:\n",
        "        print(test_label, test_pred)\n",
        "\n",
        "print(min_label, min_pred, min_loss)\n",
        "print(max_label, max_pred, max_loss)\n",
        "test_mean = np.mean(test_losses)\n",
        "test_std = np.std(test_losses)\n",
        "test_fq = np.quantile(test_losses, q = 0.25)\n",
        "test_median = np.median(test_losses)\n",
        "test_tq = np.quantile(test_losses, q = 0.75)\n",
        "print(\"Mean Test loss: \\t {:.4f}\".format(test_mean))\n",
        "print(\"Std. Dev. of Test loss:  {:.4f}\".format(test_std))\n",
        "print(\"Min loss: \\t\\t {:.4f}\".format(min(test_losses)))\n",
        "print(\"First Quantile: \\t {:.4f}\".format(test_fq))\n",
        "print(\"Median: \\t\\t {:.4f}\".format(test_median))\n",
        "print(\"Third Quantile: \\t {:.4f}\".format(test_tq))\n",
        "print(\"Max Loss: \\t\\t {:.4f}\".format(max(test_losses)))\n",
        "\n",
        "print(sorted(test_losses)[-5:])\n",
        "\n",
        "plt.plot(sorted(test_losses))\n",
        "plt.title(\"Sorted Test Losses\")\n",
        "plt.axhline(y = test_fq, color = 'r')\n",
        "plt.axhline(y = test_median, color = 'r')\n",
        "plt.axhline(y = test_tq, color = 'r')\n",
        "plt.draw()"
      ]
    },
    {
      "cell_type": "code",
      "execution_count": null,
      "id": "35ebadfa-2a66-46ea-ac4d-e6ff32b2205b",
      "metadata": {
        "colab": {
          "base_uri": "https://localhost:8080/"
        },
        "id": "35ebadfa-2a66-46ea-ac4d-e6ff32b2205b",
        "outputId": "91faabfb-249f-4f47-a431-3fa756f17313"
      },
      "outputs": [
        {
          "name": "stdout",
          "output_type": "stream",
          "text": [
            "Graph\n",
            " Graph(num_nodes=12, num_edges=24,\n",
            "      ndata_schemes={'type': Scheme(shape=(6,), dtype=torch.float32), 'coord': Scheme(shape=(6,), dtype=torch.float32), 'twist': Scheme(shape=(6,), dtype=torch.float32)}\n",
            "      edata_schemes={})\n",
            "Coords\n",
            " tensor([[-16.2003,  25.8341,  -9.3669,  -0.8601,  41.7801,  -5.0967],\n",
            "        [-37.3710,  27.7035, -16.8027, -50.1810,  23.7290, -25.6145],\n",
            "        [ -0.4467,  28.9303,   4.6981,   5.9378,  43.9982,  -1.4396],\n",
            "        [  0.0000,  15.3020,   1.0000, -20.7810,  27.7567, -10.5808],\n",
            "        [-20.7810,  27.7567, -10.5808, -27.2883,  29.1766, -16.1930],\n",
            "        [-27.2883,  29.1766, -16.1930,   2.8537,  19.2841,   4.1874],\n",
            "        [  2.8537,  19.2841,   4.1874,   0.0000,  15.3020,   1.0000],\n",
            "        [  0.0000,   0.0000,   1.0000,   0.0000,  15.3020,   1.0000],\n",
            "        [-20.7810,  27.7567, -10.5808, -16.2003,  25.8341,  -9.3669],\n",
            "        [-27.2883,  29.1766, -16.1930, -37.3710,  27.7035, -16.8027],\n",
            "        [  2.8537,  19.2841,   4.1874,  -0.4467,  28.9303,   4.6981],\n",
            "        [  0.0000,   0.0000,   1.0000,  -3.9470, -11.6721,   8.3097]])\n",
            "Adjacency\n",
            " tensor(indices=tensor([[ 3,  6, 11,  7,  8,  3,  0,  4,  8,  8,  9,  4,  1,  5,\n",
            "                         9,  9, 10,  5,  2,  6, 10,  7,  7, 10],\n",
            "                       [ 7,  7,  7,  3,  3,  8,  8,  8,  0,  4,  4,  9,  9,  9,\n",
            "                         1,  5,  5, 10, 10, 10,  2, 11,  6,  6]]),\n",
            "       values=tensor([1., 1., 1., 1., 1., 1., 1., 1., 1., 1., 1., 1., 1., 1.,\n",
            "                      1., 1., 1., 1., 1., 1., 1., 1., 1., 1.]),\n",
            "       size=(12, 12), nnz=24, layout=torch.sparse_coo)\n",
            "Adjacency new\n",
            " tensor([[0.0000e+00, 0.0000e+00, 0.0000e+00, 0.0000e+00, 0.0000e+00, 0.0000e+00],\n",
            "        [0.0000e+00, 0.0000e+00, 4.3078e-30, 0.0000e+00, 0.0000e+00, 0.0000e+00],\n",
            "        [0.0000e+00, 4.3078e-30, 2.4000e+01, 0.0000e+00, 0.0000e+00, 0.0000e+00],\n",
            "        [0.0000e+00, 0.0000e+00, 0.0000e+00, 0.0000e+00, 0.0000e+00, 0.0000e+00],\n",
            "        [0.0000e+00, 0.0000e+00, 0.0000e+00, 0.0000e+00, 0.0000e+00, 0.0000e+00],\n",
            "        [0.0000e+00, 0.0000e+00, 0.0000e+00, 0.0000e+00, 0.0000e+00, 0.0000e+00]],\n",
            "       grad_fn=<MmBackward0>)\n",
            "feature\n",
            " tensor([[ 0.0000e+00,  0.0000e+00,  0.0000e+00,  0.0000e+00,  0.0000e+00,\n",
            "          0.0000e+00,  0.0000e+00,  0.0000e+00,  0.0000e+00,  0.0000e+00],\n",
            "        [ 8.2629e-29, -6.2396e-29,  7.5508e-30, -2.9423e-29, -6.1558e-29,\n",
            "         -4.1696e-29,  1.0356e-29,  2.0964e-29, -3.9570e-29, -2.4402e-29],\n",
            "        [ 1.2426e+03,  1.1420e+02,  3.3931e+02, -4.9434e+02, -4.1618e+01,\n",
            "         -7.5523e+02, -2.9847e+02,  1.9830e+02, -4.7252e+02,  1.1900e+02],\n",
            "        [ 0.0000e+00,  0.0000e+00,  0.0000e+00,  0.0000e+00,  0.0000e+00,\n",
            "          0.0000e+00,  0.0000e+00,  0.0000e+00,  0.0000e+00,  0.0000e+00],\n",
            "        [ 0.0000e+00,  0.0000e+00,  0.0000e+00,  0.0000e+00,  0.0000e+00,\n",
            "          0.0000e+00,  0.0000e+00,  0.0000e+00,  0.0000e+00,  0.0000e+00],\n",
            "        [ 0.0000e+00,  0.0000e+00,  0.0000e+00,  0.0000e+00,  0.0000e+00,\n",
            "          0.0000e+00,  0.0000e+00,  0.0000e+00,  0.0000e+00,  0.0000e+00]],\n",
            "       grad_fn=<MmBackward0>)\n",
            "Set2Set\n",
            "tensor([[-5.8577e-02,  5.0255e-02, -2.0195e-01, -7.6275e-02, -4.9203e-02,\n",
            "         -2.7482e-01, -3.7208e+01,  2.7725e+01, -1.6787e+01, -4.9971e+01,\n",
            "          2.3792e+01, -2.5477e+01]], grad_fn=<CatBackward0>)\n"
          ]
        }
      ],
      "source": [
        "#play ground for diffpool\n",
        "#adapted from: https://github.com/dmlc/dgl/blob/master/examples/pytorch/diffpool/model/dgl_layers/gnn.py\n",
        "import numpy as np\n",
        "import dgl.nn as dglnn\n",
        "import torch.nn.functional as F\n",
        "\n",
        "test_g = training_dataset[0][0]\n",
        "\n",
        "#Diffpool returns a new adjacency matrix\n",
        "# --> difficult/cant be used with the graph structure in dgl\n",
        "# --> use pytorch geometric instead of dgl (or in addition?) when trying out diffpool?\n",
        "\n",
        "def diffpool(g, feat):\n",
        "    feat_gc = dglnn.SAGEConv(6, 10, 'pool')\n",
        "    pool_gc = dglnn.SAGEConv(10, 6, 'pool')\n",
        "\n",
        "    feat = feat_gc(g, feat)\n",
        "    device = feat.device\n",
        "\n",
        "    assign_tensor = pool_gc(g, feat)  # size = (sum_N, N_a), N_a is num of nodes in pooled graph.\n",
        "    assign_tensor = F.softmax(assign_tensor, dim=1)\n",
        "    assign_tensor = th.split(assign_tensor, g.batch_num_nodes().tolist())\n",
        "    assign_tensor = th.block_diag(*assign_tensor)  # size = (sum_N, batch_size * N_a)\n",
        "\n",
        "    h = th.matmul(th.t(assign_tensor), feat)\n",
        "    adj = g.adjacency_matrix(transpose=True, ctx=device)\n",
        "    adj_new = th.sparse.mm(adj, assign_tensor)\n",
        "    adj_new = th.mm(th.t(assign_tensor), adj_new)\n",
        "\n",
        "    print(\"Graph\\n\", g)\n",
        "    print(\"Coords\\n\",g.ndata[\"coord\"])\n",
        "    print(\"Adjacency\\n\",adj)\n",
        "    print(\"Adjacency new\\n\",adj_new)\n",
        "    print(\"feature\\n\",h)\n",
        "    return adj_new, h\n",
        "\n",
        "\n",
        "feat = test_g.ndata[\"coord\"]\n",
        "\n",
        "new, h = diffpool(test_g, feat)\n",
        "#new, h = diffpool(new, h)\n",
        "\n",
        "s2s = dglnn.Set2Set(6, 3, 3)\n",
        "print(\"Set2Set\")\n",
        "print(s2s(test_g, feat))"
      ]
    },
    {
      "cell_type": "code",
      "execution_count": null,
      "id": "fb1a1064-da56-4fab-9ce5-fc0aa0952ef0",
      "metadata": {
        "id": "fb1a1064-da56-4fab-9ce5-fc0aa0952ef0"
      },
      "outputs": [],
      "source": []
    }
  ],
  "metadata": {
    "accelerator": "GPU",
    "colab": {
      "collapsed_sections": [],
      "name": "3d_classifier_PyG.ipynb",
      "provenance": []
    },
    "kernelspec": {
      "display_name": "Python 3 (ipykernel)",
      "language": "python",
      "name": "python3"
    },
    "language_info": {
      "codemirror_mode": {
        "name": "ipython",
        "version": 3
      },
      "file_extension": ".py",
      "mimetype": "text/x-python",
      "name": "python",
      "nbconvert_exporter": "python",
      "pygments_lexer": "ipython3",
      "version": "3.9.10"
    }
  },
  "nbformat": 4,
  "nbformat_minor": 5
}
