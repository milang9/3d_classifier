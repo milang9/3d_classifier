{
 "cells": [
  {
   "cell_type": "code",
   "execution_count": 16,
   "metadata": {},
   "outputs": [
    {
     "name": "stdout",
     "output_type": "stream",
     "text": [
      "Training Set\n",
      "Number of Structures: 1083\n",
      "{'pdb': 100, 'br0': 62, 'be0': 6}\n"
     ]
    },
    {
     "data": {
      "image/png": "[encoded data removed]",
      "text/plain": [
       "<Figure size 432x288 with 1 Axes>"
      ]
     },
     "metadata": {
      "needs_background": "light"
     },
     "output_type": "display_data"
    },
    {
     "name": "stdout",
     "output_type": "stream",
     "text": [
      "Validation Set\n",
      "Number of Structures: 396\n",
      "{'br0': 18, 'pdb': 36}\n"
     ]
    },
    {
     "data": {
      "image/png": "[encoded data removed]",
      "text/plain": [
       "<Figure size 432x288 with 1 Axes>"
      ]
     },
     "metadata": {
      "needs_background": "light"
     },
     "output_type": "display_data"
    },
    {
     "name": "stdout",
     "output_type": "stream",
     "text": [
      "Test Set\n",
      "Number of Structures: 277\n",
      "{'pdb': 42, 'br0': 18, 'be0': 4}\n"
     ]
    },
    {
     "data": {
      "image/png": "[encoded data removed]",
      "text/plain": [
       "<Figure size 432x288 with 1 Axes>"
      ]
     },
     "metadata": {
      "needs_background": "light"
     },
     "output_type": "display_data"
    }
   ],
   "source": [
    "import matplotlib.pyplot as plt\n",
    "\n",
    "for list in [\"../data/train_rmsd_list.txt\", \"../data/val_rmsd_list.txt\", \"../data/test_rmsd_list.txt\"]:\n",
    "    with open(list) as fh:\n",
    "        rmsd_list = []\n",
    "        count_dict = {}\n",
    "        for line in fh.readlines():\n",
    "            name, rmsd = (line.rstrip()).split(\"\\t\")\n",
    "            rmsd = float(rmsd)\n",
    "            rmsd_list.append(rmsd)\n",
    "        \n",
    "            if rmsd < 1:\n",
    "                if name[-6:-3] == \"001\" or name[-7:-5] == \"rf\":\n",
    "                    if \"pdb\" not in count_dict:\n",
    "                        count_dict[\"pdb\"] = 1\n",
    "                    else:\n",
    "                        count_dict[\"pdb\"] += 1\n",
    "                else:\n",
    "                    cat = name[-6:-3]\n",
    "                    if cat not in count_dict:\n",
    "                        count_dict[cat] = 1\n",
    "                    else:\n",
    "                        count_dict[cat] += 1\n",
    "    if \"train\" in list:\n",
    "        print(\"Training Set\")\n",
    "    elif \"val\" in list:\n",
    "        print(\"Validation Set\")\n",
    "    elif \"test\" in list:\n",
    "        print(\"Test Set\")\n",
    "    print(\"Number of Structures:\", len(rmsd_list))\n",
    "    print(count_dict)\n",
    "    plt.hist(rmsd_list, bins = range(int(min(rmsd_list)), int(max(rmsd_list))+1, 1))\n",
    "    plt.show()"
   ]
  },
  {
   "cell_type": "code",
   "execution_count": 12,
   "metadata": {},
   "outputs": [
    {
     "data": {
      "image/png": "[encoded data removed]",
      "text/plain": [
       "<Figure size 432x288 with 1 Axes>"
      ]
     },
     "metadata": {
      "needs_background": "light"
     },
     "output_type": "display_data"
    }
   ],
   "source": [
    "import matplotlib.pyplot as plt\n",
    "plt.hist(rmsd_list, bins = range(int(min(rmsd_list)), int(max(rmsd_list))+1, 1))\n",
    "plt.show()"
   ]
  }
 ],
 "metadata": {
  "interpreter": {
   "hash": "916dbcbb3f70747c44a77c7bcd40155683ae19c65e1c03b4aa3499c5328201f1"
  },
  "kernelspec": {
   "display_name": "Python 3.8.10 64-bit",
   "language": "python",
   "name": "python3"
  },
  "language_info": {
   "codemirror_mode": {
    "name": "ipython",
    "version": 3
   },
   "file_extension": ".py",
   "mimetype": "text/x-python",
   "name": "python",
   "nbconvert_exporter": "python",
   "pygments_lexer": "ipython3",
   "version": "3.9.9"
  },
  "orig_nbformat": 4
 },
 "nbformat": 4,
 "nbformat_minor": 2
}
