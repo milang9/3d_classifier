{
 "cells": [
  {
   "cell_type": "code",
   "execution_count": 16,
   "metadata": {},
   "outputs": [
    {
     "name": "stdout",
     "output_type": "stream",
     "text": [
      "files 0\n",
      "ROG energy 0\n",
      "Positive energy 0\n",
      "no energy 0\n",
      "0\n"
     ]
    }
   ],
   "source": [
    "import numpy as np\n",
    "\n",
    "import forgi.threedee.model.coarse_grain as ftmc\n",
    "import os\n",
    "\n",
    "def get_rmsd_dict(rmsd_list):\n",
    "    rmsd_dict = {}\n",
    "    with open(rmsd_list, \"r\") as fh:\n",
    "        for line in fh.readlines():\n",
    "            name, rmsd = (line.rstrip()).split(\"\\t\")\n",
    "            rmsd_dict[name] = float(rmsd)\n",
    "    return rmsd_dict\n",
    "\n",
    "rmsd_dict = get_rmsd_dict(\"../data/truncated_train_rmsd.txt\")\n",
    "\n",
    "file_path = \"../data/old_training_set\" #\"../data/val_set\"#\"../data/test_set\" #\"../data/train_set/\"\n",
    "\n",
    "energy_file = \"../data/old_train_energy.txt\"#\"../data/val_energy.txt\"#\"../data/test_energy.txt\" #\"../data/train_energy.txt\"\n",
    "\n",
    "write = False\n",
    "\n",
    "#file = \"../data/train_set/1c2x_C_5srRNA_C_br0.cg\"\n",
    "c_files = 0\n",
    "c_has = 0\n",
    "c_not = 0\n",
    "pos_e = 0\n",
    "lines = []\n",
    "for file in [f for f in os.listdir(file_path) if os.path.isfile(os.path.join(file_path, f))]:\n",
    "    if file in rmsd_dict.keys():\n",
    "        cg = ftmc.CoarseGrainRNA.from_bg_file(file_path + file)\n",
    "        cg.radius_of_gyration\n",
    "        energy = cg.infos['Energy']\n",
    "    \n",
    "        c_files += 1\n",
    "        if energy == []:\n",
    "            c_not += 1\n",
    "            #print(file, energy, cg.radius_of_gyration(method=\"vres\"), rmsd_dict[file])\n",
    "        elif \"ROG\" in energy[0]:\n",
    "            c_has +=1\n",
    "            rog_en = energy[0].split(\",\")[0][:-4]\n",
    "            if float(rog_en) > 0:\n",
    "                #print(file, rog_en)\n",
    "                pos_e +=1\n",
    "            line = file + \"\\t\" + rog_en + \"\\n\"\n",
    "            lines.append(line)\n",
    "\n",
    "    \n",
    "\n",
    "print(\"files\", c_files)\n",
    "print(\"ROG energy\", c_has)\n",
    "print(\"Positive energy\", pos_e)\n",
    "print(\"no energy\", c_not)\n",
    "print(c_has + c_not)\n",
    "\n",
    "if write:\n",
    "    with open(energy_file, \"w\") as fh:\n",
    "        for l in lines:\n",
    "            fh.write(l)\n"
   ]
  },
  {
   "cell_type": "code",
   "execution_count": null,
   "metadata": {},
   "outputs": [],
   "source": [
    "import forgi.threedee.model.coarse_grain as ftmc\n",
    "import forgi.threedee.utilities.vector as ftuv\n",
    "\n",
    "file = \"../data/train_set/1c2x_C_5srRNA_C_br0.cg\"\n",
    "cgf = ftmc.CoarseGrainRNA.from_bg_file(file)\n",
    "\n",
    "#rotation_matrix = ftuv.rotation_matrix(\"x\", 1.5708)\n",
    "#print(rotation_matrix)\n",
    "print(cgf.coords)\n",
    "\n",
    "cgf.rotate(1.5708) #rotation_matrix)\n",
    "\n",
    "print(\"\\nAfter rotate\\n\")\n",
    "print(cgf.coords)\n"
   ]
  }
 ],
 "metadata": {
  "interpreter": {
   "hash": "10fe118d5040c005d6beccdd2ef1998f288d7237aaf8a30c799b14583af81edf"
  },
  "kernelspec": {
   "display_name": "Python 3.9.10 ('torch')",
   "language": "python",
   "name": "python3"
  },
  "language_info": {
   "codemirror_mode": {
    "name": "ipython",
    "version": 3
   },
   "file_extension": ".py",
   "mimetype": "text/x-python",
   "name": "python",
   "nbconvert_exporter": "python",
   "pygments_lexer": "ipython3",
   "version": "3.9.10"
  },
  "orig_nbformat": 4
 },
 "nbformat": 4,
 "nbformat_minor": 2
}
