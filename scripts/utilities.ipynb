{
 "cells": [
  {
   "cell_type": "code",
   "execution_count": 9,
   "metadata": {},
   "outputs": [
    {
     "name": "stdout",
     "output_type": "stream",
     "text": [
      "5x6b_P_tRNA_P_br1.cg [] 22.21058874255103 0.0\n",
      "6lvr_D_tRNA_D_br1.cg [] 20.720458694542558 0.31\n",
      "6o7k_v_tRNA_v_be31.cg [] 21.74915612233952 0.485\n",
      "6lvr_D_tRNA_D_be30.cg [] 20.720458694542558 0.31\n",
      "6k0b_V_tRNA_V_br0.cg [] 21.63534060205703 0.259\n",
      "5ud5_D_tRNA_D_br0.cg [] 22.385768447297767 0.087\n",
      "6lvr_D_tRNA_D_br0.cg [] 20.720458694542558 0.31\n",
      "5v6x_D_tRNA_D_br0.cg [] 22.421581746421925 0.095\n",
      "5x6b_P_tRNA_P_br0.cg [] 22.21058874255103 0.0\n",
      "4io9_Y_5srRNA_Y_br0.cg [] 31.321393279940793 0.18\n",
      "5jb3_4_tRNA_4_br1.cg [] 21.7188164408178 0.689\n",
      "6lvr_D_tRNA_D_br2.cg [] 20.720458694542558 0.31\n",
      "4wfb_Y_5srRNA_Y_br0.cg [] 30.73366211008034 0.0\n",
      "5axm_P_tRNA_P_br0.cg [] 21.288064232879538 0.0\n",
      "3ow2_9_5srRNA_9_br0.cg [] 31.62628860051472 0.033\n",
      "4wfb_Y_5srRNA_Y_be20.cg [] 30.73366211008034 0.0\n",
      "5e6m_C_tRNA_C_br0.cg [] 21.368747616440636 0.0\n",
      "5axm_P_tRNA_P_br1.cg [] 21.288064232879538 0.0\n",
      "5jb3_4_tRNA_4_br0.cg [] 21.7188164408178 0.689\n",
      "6o7k_v_tRNA_v_br2.cg [] 21.74915612233952 0.485\n",
      "4ioc_Y_5srRNA_Y_br1.cg [] 31.271095784522572 0.157\n",
      "5axm_P_tRNA_P_br2.cg [] 21.288064232879538 0.0\n",
      "3cf5_Z_5srRNA_Z_br0.cg [] 31.150828525684233 0.162\n",
      "5cd1_N_tRNA_N_be21.cg [] 22.651745826612583 0.204\n",
      "files 760\n",
      "ROG energy 736\n",
      "no energy 24\n",
      "760\n"
     ]
    }
   ],
   "source": [
    "import numpy as np\n",
    "\n",
    "import forgi.threedee.model.coarse_grain as ftmc\n",
    "import os\n",
    "\n",
    "def get_rmsd_dict(rmsd_list):\n",
    "    rmsd_dict = {}\n",
    "    with open(rmsd_list, \"r\") as fh:\n",
    "        for line in fh.readlines():\n",
    "            name, rmsd = (line.rstrip()).split(\"\\t\")\n",
    "            rmsd_dict[name] = float(rmsd)\n",
    "    return rmsd_dict\n",
    "\n",
    "rmsd_dict = get_rmsd_dict(\"../data/truncated_train_rmsd.txt\")\n",
    "\n",
    "file_path = \"../data/train_set/\"\n",
    "\n",
    "#file = \"../data/train_set/1c2x_C_5srRNA_C_br0.cg\"\n",
    "c_files = 0\n",
    "c_has = 0\n",
    "c_not = 0\n",
    "for file in [f for f in os.listdir(file_path) if os.path.isfile(os.path.join(file_path, f))]:\n",
    "    if file in rmsd_dict.keys():\n",
    "        cg = ftmc.CoarseGrainRNA.from_bg_file(file_path + file)\n",
    "        cg.radius_of_gyration\n",
    "        energy = cg.infos['Energy']\n",
    "    \n",
    "        c_files += 1\n",
    "        if energy == []:\n",
    "            c_not += 1\n",
    "            print(file, energy, cg.radius_of_gyration(method=\"vres\"), rmsd_dict[file])\n",
    "        elif \"ROG\" in energy[0]:\n",
    "            c_has +=1\n",
    "    \n",
    "\n",
    "print(\"files\", c_files)\n",
    "print(\"ROG energy\", c_has)\n",
    "print(\"no energy\", c_not)\n",
    "print(c_has + c_not)"
   ]
  },
  {
   "cell_type": "code",
   "execution_count": 32,
   "metadata": {},
   "outputs": [
    {
     "name": "stdout",
     "output_type": "stream",
     "text": [
      "s0: [0. 0. 1.],  [ 0.    17.849  1.   ]\n",
      "m0: [ 0.    17.849  1.   ],  [15.2663979  26.46531587 16.43644209]\n",
      "s1: [15.2663979  26.46531587 16.43644209],  [16.56046217 25.20232151 14.61442895]\n",
      "i0: [16.56046217 25.20232151 14.61442895],  [18.41254385 23.27841052  7.30484402]\n",
      "s2: [18.41254385 23.27841052  7.30484402],  [20.96272717 22.11452659  3.02758611]\n",
      "i1: [20.96272717 22.11452659  3.02758611],  [ 37.99632149 -15.47424981  19.28993381]\n",
      "s3: [ 37.99632149 -15.47424981  19.28993381],  [ 42.37169131 -12.03963347  24.55780536]\n",
      "h0: [ 42.37169131 -12.03963347  24.55780536],  [46.67890755  1.49723562 37.94961351]\n",
      "m1: [15.2663979  26.46531587 16.43644209],  [-5.54065744 39.21177797 10.55088821]\n",
      "s4: [-5.54065744 39.21177797 10.55088821],  [-4.43461191 41.28503226 11.58421725]\n",
      "i2: [-4.43461191 41.28503226 11.58421725],  [-0.93137007 68.08639835  7.0397334 ]\n",
      "s5: [-0.93137007 68.08639835  7.0397334 ],  [ 2.49230994 84.6798172  12.65432749]\n",
      "h1: [ 2.49230994 84.6798172  12.65432749],  [-2.40084592 86.08603693 21.37033219]\n",
      "m2: [-5.54065744 39.21177797 10.55088821],  [ 0.    17.849  1.   ]\n",
      "t0: [0. 0. 1.],  [ 8.47519374 -3.38856062  0.18178751]\n",
      "\n",
      "After rotate\n",
      "\n",
      "s0: [ 0.0000000e+00  1.0000000e+00 -3.6732051e-06],  [  0.           0.99993444 -17.84900367]\n",
      "m0: [  0.           0.99993444 -17.84900367],  [ 15.2663979   16.43634488 -26.46537625]\n",
      "s1: [ 15.2663979   16.43634488 -26.46537625],  [ 16.56046217  14.61433638 -25.20237519]\n",
      "i0: [ 16.56046217  14.61433638 -25.20237519],  [ 18.41254385   7.30475852 -23.27843736]\n",
      "s2: [ 18.41254385   7.30475852 -23.27843736],  [ 20.96272717   3.02750488 -22.11453771]\n",
      "i1: [ 20.96272717   3.02750488 -22.11453771],  [37.99632149 19.28999065 15.47417895]\n",
      "s3: [37.99632149 19.28999065 15.47417895],  [42.37169131 24.55784958 12.03954327]\n",
      "h0: [42.37169131 24.55784958 12.03954327],  [46.67890755 37.94960802 -1.49737502]\n",
      "m1: [ 15.2663979   16.43634488 -26.46537625],  [ -5.54065744  10.55074418 -39.21181672]\n",
      "s4: [ -5.54065744  10.55074418 -39.21181672],  [ -4.43461191  11.58406561 -41.28507481]\n",
      "i2: [ -4.43461191  11.58406561 -41.28507481],  [ -0.93137007   7.0394833  -68.0864242 ]\n",
      "s5: [ -0.93137007   7.0394833  -68.0864242 ],  [  2.49230994  12.65401644 -84.67986369]\n",
      "h1: [  2.49230994  12.65401644 -84.67986369],  [ -2.40084592  21.37001597 -86.08611543]\n",
      "m2: [ -5.54065744  10.55074418 -39.21181672],  [  0.           0.99993444 -17.84900367]\n",
      "t0: [ 0.0000000e+00  1.0000000e+00 -3.6732051e-06],  [8.47519374 0.18179996 3.38855996]\n"
     ]
    }
   ],
   "source": [
    "import forgi.threedee.model.coarse_grain as ftmc\n",
    "import forgi.threedee.utilities.vector as ftuv\n",
    "\n",
    "file = \"../data/train_set/1c2x_C_5srRNA_C_br0.cg\"\n",
    "cgf = ftmc.CoarseGrainRNA.from_bg_file(file)\n",
    "\n",
    "#rotation_matrix = ftuv.rotation_matrix(\"x\", 1.5708)\n",
    "#print(rotation_matrix)\n",
    "print(cgf.coords)\n",
    "\n",
    "cgf.rotate(1.5708) #rotation_matrix)\n",
    "\n",
    "print(\"\\nAfter rotate\\n\")\n",
    "print(cgf.coords)\n"
   ]
  }
 ],
 "metadata": {
  "interpreter": {
   "hash": "10fe118d5040c005d6beccdd2ef1998f288d7237aaf8a30c799b14583af81edf"
  },
  "kernelspec": {
   "display_name": "Python 3.9.10 ('torch')",
   "language": "python",
   "name": "python3"
  },
  "language_info": {
   "codemirror_mode": {
    "name": "ipython",
    "version": 3
   },
   "file_extension": ".py",
   "mimetype": "text/x-python",
   "name": "python",
   "nbconvert_exporter": "python",
   "pygments_lexer": "ipython3",
   "version": "3.9.10"
  },
  "orig_nbformat": 4
 },
 "nbformat": 4,
 "nbformat_minor": 2
}
