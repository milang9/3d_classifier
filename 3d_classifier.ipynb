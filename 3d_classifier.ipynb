{
 "cells": [
  {
   "cell_type": "code",
   "execution_count": 12,
   "id": "a683650d-9deb-45f7-8d82-17d0203ec8f9",
   "metadata": {},
   "outputs": [],
   "source": [
    "#import dgl\n",
    "import numpy as np\n",
    "import tensorflow as tf # tensorflow or _pytorch_?\n",
    "\n",
    "import forgi\n",
    "import forgi.graph.bulge_graph as fgb\n",
    "import forgi.threedee as ft\n",
    "\n",
    "\n",
    "import matplotlib.pyplot as plt\n",
    "import networkx as nx"
   ]
  },
  {
   "cell_type": "code",
   "execution_count": 40,
   "id": "81afa4b6-ee92-4662-826b-de338ca595cf",
   "metadata": {},
   "outputs": [
    {
     "name": "stdout",
     "output_type": "stream",
     "text": [
      "s0 ['i0']\n",
      "i0 ['s0', 's1']\n",
      "s1 ['i0', 'i1']\n",
      "i1 ['s1', 's2']\n",
      "s2 ['i1', 'm0', 'm3']\n",
      "m0 ['s2', 's3']\n",
      "s3 ['m0', 'h0', 'm1']\n",
      "h0 ['s3']\n",
      "m1 ['s3', 's4']\n",
      "s4 ['m1', 'h1', 'm2']\n",
      "h1 ['s4']\n",
      "m2 ['s4', 's5']\n",
      "s5 ['m2', 'h2', 'm3']\n",
      "h2 ['s5']\n",
      "m3 ['s2', 's5']\n",
      "{'s0': ['i0'], 'i0': ['s0', 's1'], 's1': ['i0', 'i1'], 'i1': ['s1', 's2'], 's2': ['i1', 'm0', 'm3'], 'm0': ['s2', 's3'], 's3': ['m0', 'h0', 'm1'], 'h0': ['s3'], 'm1': ['s3', 's4'], 's4': ['m1', 'h1', 'm2'], 'h1': ['s4'], 'm2': ['s4', 's5'], 's5': ['m2', 'h2', 'm3'], 'h2': ['s5'], 'm3': ['s2', 's5']}\n"
     ]
    },
    {
     "data": {
      "image/png": "[encoded data removed]",
      "text/plain": [
       "<Figure size 432x288 with 1 Axes>"
      ]
     },
     "metadata": {},
     "output_type": "display_data"
    }
   ],
   "source": [
    "'''\n",
    "Idea: load coarse grain representation with forgi,\n",
    "    use forgi to form a graph with nodes labeled as s/i/o/.. and twist, length, angle,...\n",
    "    use that graph to feed into model\n",
    "\n",
    "TODO: use elements to get coords\n",
    "    get elem connections\n",
    "    build graph (use neato?) --> www.dgl.ai\n",
    "    \n",
    "    find where ernwin writes/stores output of structure for each n steps\n",
    "'''\n",
    "\n",
    "bg = fgb.BulgeGraph.from_bg_file(\"6cu1.cg\")\n",
    "\n",
    "\n",
    "\n",
    "stats = ft.model.stats.get_conformation_stats(\"6cu1.cg\")\n",
    "\n",
    "\n",
    "\n",
    "#https://viennarna.github.io/forgi/apidoc/forgi.threedee.model.coarse_grain.html\n",
    "#cg = forgi.threedee.model.coarse_grain.CoarseGrainRNA.from_bg_string(bg)\n",
    "#print(cg)\n",
    "\n",
    "\n",
    "graph = nx.Graph()\n",
    "\n",
    "\n",
    "# Get elements and neighbours:\n",
    "connections = {}\n",
    "labels_dir = {}\n",
    "for elem in bg.sorted_element_iterator():\n",
    "    neighbours = bg.connections(elem)\n",
    "    print(elem, neighbours)\n",
    "    \n",
    "    for n in neighbours:\n",
    "        graph.add_edge(elem, n)\n",
    "    if elem not in connections:\n",
    "        connections[elem] = bg.connections(elem)\n",
    "print(connections)\n",
    "\n",
    "\n",
    "nx.draw(graph)"
   ]
  },
  {
   "cell_type": "code",
   "execution_count": 68,
   "id": "fec1a7b3-8adc-45a3-83ab-7cb02f31a4af",
   "metadata": {},
   "outputs": [],
   "source": [
    "def td_model():\n",
    "    model = tf.keras.Sequential([\n",
    "        tf.nn.layer.graph_convolution.feature_steered_convolution_layer(),\n",
    "        tf.layers.Dense(1, activation=None)\n",
    "    ])\n"
   ]
  },
  {
   "cell_type": "code",
   "execution_count": null,
   "id": "2943be90-6647-4c26-b967-a2563a142877",
   "metadata": {},
   "outputs": [],
   "source": []
  },
  {
   "cell_type": "code",
   "execution_count": null,
   "id": "8c5496b5-b452-4450-8a2e-b78d68da0de3",
   "metadata": {},
   "outputs": [],
   "source": []
  }
 ],
 "metadata": {
  "kernelspec": {
   "display_name": "Python 3 (ipykernel)",
   "language": "python",
   "name": "python3"
  },
  "language_info": {
   "codemirror_mode": {
    "name": "ipython",
    "version": 3
   },
   "file_extension": ".py",
   "mimetype": "text/x-python",
   "name": "python",
   "nbconvert_exporter": "python",
   "pygments_lexer": "ipython3",
   "version": "3.9.7"
  }
 },
 "nbformat": 4,
 "nbformat_minor": 5
}
