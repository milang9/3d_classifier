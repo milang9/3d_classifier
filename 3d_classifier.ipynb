{
 "cells": [
  {
   "cell_type": "code",
   "execution_count": 1,
   "id": "a683650d-9deb-45f7-8d82-17d0203ec8f9",
   "metadata": {
    "colab": {
     "base_uri": "https://localhost:8080/"
    },
    "id": "a683650d-9deb-45f7-8d82-17d0203ec8f9",
    "outputId": "39da3d71-9690-4642-b434-6960b63f4480"
   },
   "outputs": [
    {
     "name": "stderr",
     "output_type": "stream",
     "text": [
      "Using backend: pytorch\n",
      "[12:20:12] /opt/dgl/src/runtime/tensordispatch.cc:43: TensorDispatcher: dlopen failed: libtorch_cuda_cpp.so: cannot open shared object file: No such file or directory\n"
     ]
    }
   ],
   "source": [
    "#!pip install dgl\n",
    "#!DGLBACKEND=pytorch\n",
    "#!export $DGLBACKEND\n",
    "#import os\n",
    "#os.environ[\"DGLBACKEND\"] = \"pytorch\"\n",
    "#print(os.environ[\"DGLBACKEND\"])\n",
    "import dgl\n",
    "import numpy as np\n",
    "#import tensorflow as tf\n",
    "import torch as th\n",
    "\n",
    "#!pip install forgi\n",
    "import forgi\n",
    "import forgi.graph.bulge_graph as fgb\n",
    "import forgi.threedee as ft\n",
    "import forgi.threedee.model.coarse_grain as ftmc\n",
    "\n",
    "\n",
    "import matplotlib.pyplot as plt\n",
    "import networkx as nx\n",
    "import os"
   ]
  },
  {
   "cell_type": "code",
   "execution_count": 2,
   "id": "_MuRd2MIU0bz",
   "metadata": {
    "colab": {
     "base_uri": "https://localhost:8080/"
    },
    "id": "_MuRd2MIU0bz",
    "outputId": "62379d24-4f54-42ff-b715-74f2eacf75a3"
   },
   "outputs": [
    {
     "name": "stdout",
     "output_type": "stream",
     "text": [
      "1.10.0\n",
      "True\n"
     ]
    }
   ],
   "source": [
    "print(th.__version__)\n",
    "print(th.cuda.is_available())"
   ]
  },
  {
   "cell_type": "markdown",
   "id": "n2IxR1AxZdYn",
   "metadata": {
    "id": "n2IxR1AxZdYn"
   },
   "source": [
    "\n",
    "Ideas: \n",
    "*   use dgl.save_graph() to store a graph, so the structure can be used for several steps?\n",
    "*   use forgi.threedee.model.coarse_grain.CoarseGrainRNA.rotate() to rotate cg RNAs and see if the classification changes\n",
    "\n",
    "TODO:\n",
    "*  future --> find where ernwin writes/stores output of structure for each n steps\n",
    "*  finetune the model\n",
    "*  make larger batch of training data for testing\n",
    "*  include logger (maybe wandb?)\n",
    "\n"
   ]
  },
  {
   "cell_type": "code",
   "execution_count": 3,
   "id": "81afa4b6-ee92-4662-826b-de338ca595cf",
   "metadata": {
    "id": "81afa4b6-ee92-4662-826b-de338ca595cf",
    "tags": []
   },
   "outputs": [],
   "source": [
    "#Graph Building\n",
    "\n",
    "#load coarse grain file\n",
    "def load_cg_file(file): \n",
    "    cg = ftmc.CoarseGrainRNA.from_bg_file(file) \n",
    "    c_dict = dict(cg.coords)\n",
    "    t_dict = dict(cg.twists)\n",
    "    coord_dict = {}\n",
    "    twist_dict = {}\n",
    "    for e in c_dict:\n",
    "        a = th.from_numpy(c_dict[e][0])\n",
    "        b = th.from_numpy(c_dict[e][1])\n",
    "        coord_dict[e] = a, b\n",
    "        if e in t_dict:\n",
    "            c = th.from_numpy(t_dict[e][0])\n",
    "            d = th.from_numpy(t_dict[e][1])\n",
    "            twist_dict[e] = c, d\n",
    "        \n",
    "    # Get elements and neighbours:\n",
    "    connections = {}\n",
    "    for elem in cg.sorted_element_iterator():\n",
    "        neighbours = cg.connections(elem)\n",
    "        if elem not in connections:\n",
    "            connections[elem] = cg.connections(elem)\n",
    "    return coord_dict, twist_dict, connections\n",
    "\n",
    "def build_dgl_graph(coord_dict, twist_dict, connections):\n",
    "    #dictionary to convert type\n",
    "    type_transl = {\n",
    "        \"h\": [1, 0, 0, 0, 0, 0],\n",
    "        \"i\": [0, 1, 0, 0, 0, 0],\n",
    "        \"m\": [0, 0, 1, 0, 0, 0],\n",
    "        \"s\": [0, 0, 0, 1, 0, 0],\n",
    "        \"f\": [0, 0, 0, 0, 1, 0],\n",
    "        \"t\": [0, 0, 0, 0, 0, 1]\n",
    "    } \n",
    "\n",
    "    #encode nodes numerically for dgl graph\n",
    "    num_graph = {}\n",
    "    elem_count = {}\n",
    "    for num, n in enumerate(sorted(connections)):\n",
    "        num_graph[n] = num\n",
    "        if n[0] not in elem_count:\n",
    "            elem_count[n[0]] = 1\n",
    "        else:\n",
    "            elem_count[n[0]] += 1\n",
    "\n",
    "    #build graph and edges\n",
    "    u = []\n",
    "    v = []\n",
    "    for node in connections:\n",
    "        for c in connections[node]:\n",
    "            u.append(num_graph[node])\n",
    "            v.append(num_graph[c])\n",
    "\n",
    "    graph = dgl.graph((th.tensor(u), th.tensor(v)))\n",
    "\n",
    "    #initialise node attributes\n",
    "    graph.ndata[\"type\"] = th.zeros(graph.num_nodes(), 6, dtype=th.float32)\n",
    "    graph.ndata[\"coord\"] = th.zeros(graph.num_nodes(), 6, dtype=th.float32) #seperate coords into 2 sets of 3, so that the information of start and end is added?\n",
    "    graph.ndata[\"twist\"] = th.zeros(graph.num_nodes(), 6, dtype=th.float32)\n",
    "\n",
    "    for elem in connections:\n",
    "        graph.ndata[\"type\"][num_graph[elem]] = th.tensor(type_transl[elem[0]], dtype=th.float32) \n",
    "        graph.ndata[\"coord\"][num_graph[elem]] = th.tensor(np.concatenate(coord_dict[elem]), dtype=th.float32)\n",
    "        if elem in twist_dict:\n",
    "            graph.ndata[\"twist\"][num_graph[elem]] = th.tensor(np.concatenate(twist_dict[elem]), dtype=th.float32)\n",
    "  \n",
    "    return graph\n",
    "\n"
   ]
  },
  {
   "cell_type": "code",
   "execution_count": 4,
   "id": "65010c86-88ed-4940-b36f-5af93ea50a6d",
   "metadata": {},
   "outputs": [],
   "source": [
    "#create a dict with name and rmsd as labels\n",
    "def get_rmsd_dict(rmsd_list):\n",
    "    #rmsd_list = \"./play_set/RMSD_list.txt\"\n",
    "    rmsd_dict = {}\n",
    "    with open(rmsd_list, \"r\") as fh:\n",
    "        for line in fh.readlines():\n",
    "            name, rmsd = (line.rstrip()).split(\"\\t\")\n",
    "            rmsd_dict[name] = float(rmsd)\n",
    "    return rmsd_dict\n",
    "\n",
    "#print(rmsd_dict)"
   ]
  },
  {
   "cell_type": "code",
   "execution_count": 5,
   "id": "ZU_znRFH141n",
   "metadata": {
    "id": "ZU_znRFH141n"
   },
   "outputs": [],
   "source": [
    "#Graph Dataset Class\n",
    "#TODO: adapt, so it can stand alone\n",
    "#      link labels to files!!!!\n",
    "\n",
    "from dgl.data import DGLDataset\n",
    "class CGDataset(DGLDataset):\n",
    "    def __init__(self, directory, rmsd_list):\n",
    "        self.file_path = directory\n",
    "        self.rmsd_list = rmsd_list\n",
    "        super(CGDataset, self).__init__(name=\"cgRNA\")\n",
    "        \n",
    "        \n",
    "    def process(self):\n",
    "        self.graphs = []\n",
    "        rmsd_dict = get_rmsd_dict(self.rmsd_list)\n",
    "        self.labels = []\n",
    "        \n",
    "        files = []\n",
    "        filenames = next(os.walk(self.file_path), (None, None, []))[2]\n",
    "\n",
    "        for file in filenames:\n",
    "            if file.endswith(\".cg\"):\n",
    "                files.append(file)\n",
    "                self.labels.append(rmsd_dict[file[:-3]])\n",
    "\n",
    "        for struc in files:\n",
    "            coord_dict, twist_dict, connections = load_cg_file(os.path.join(training_dir, struc))\n",
    "            graph = build_dgl_graph(coord_dict, twist_dict, connections)\n",
    "            self.graphs.append(build_dgl_graph(coord_dict, twist_dict, connections))\n",
    "\n",
    "        self.labels = th.tensor(self.labels)\n",
    "  \n",
    "    def __getitem__(self, i):\n",
    "        return self.graphs[i], self.labels[i]\n",
    "\n",
    "    def __len__(self):\n",
    "        return len(self.graphs)\n",
    "    \n",
    "    #def save(self):\n",
    "     #   dgl.save_graphs(\"./play_set/training_cg_graphs.dgl\", self.graphs, labels=self.labels)\n"
   ]
  },
  {
   "cell_type": "code",
   "execution_count": 6,
   "id": "BWwHPYKZuq1b",
   "metadata": {
    "colab": {
     "base_uri": "https://localhost:8080/",
     "height": 53
    },
    "id": "BWwHPYKZuq1b",
    "outputId": "640b1e2e-8136-40d3-c3ae-2e0c15c2e985"
   },
   "outputs": [
    {
     "data": {
      "text/plain": [
       "'\\n\\ntraining_dir = \"./play_set/train\"\\n\\ng_list = []\\nglabels = {\"rmsd\": []}\\n\\nfiles = []\\nfilenames = next(os.walk(training_dir), (None, None, []))[2]\\n\\nfor file in filenames:\\n    if file.endswith(\".cg\"):\\n        files.append(file)\\n        glabels[\"rmsd\"].append(rmsd_dict[file[:-3]])\\n\\nglabels[\"rmsd\"] = th.tensor(glabels[\"rmsd\"])\\n\\nprint(glabels[\"rmsd\"])\\n\\nfor struc in files:\\n    coord_dict, twist_dict, connections = load_cg_file(os.path.join(training_dir, struc))\\n    graph = build_dgl_graph(coord_dict, twist_dict, connections)\\n    g_list.append(graph)\\n\\n# save_graphs, label is rmsd\\n\\ndgl.save_graphs(training_dir + \"/training_cg_graphs.dgl\", g_list, labels=glabels)\\ngs, ls = dgl.load_graphs(training_dir + \"/training_cg_graphs.dgl\")\\nprint(gs)\\nprint(ls)\\n'"
      ]
     },
     "execution_count": 6,
     "metadata": {},
     "output_type": "execute_result"
    }
   ],
   "source": [
    "#Save/Load Training Data\n",
    "#TODO: make a function to save the data\n",
    "\n",
    "'''\n",
    "\n",
    "training_dir = \"./play_set/train\"\n",
    "\n",
    "g_list = []\n",
    "glabels = {\"rmsd\": []}\n",
    "\n",
    "files = []\n",
    "filenames = next(os.walk(training_dir), (None, None, []))[2]\n",
    "\n",
    "for file in filenames:\n",
    "    if file.endswith(\".cg\"):\n",
    "        files.append(file)\n",
    "        glabels[\"rmsd\"].append(rmsd_dict[file[:-3]])\n",
    "\n",
    "glabels[\"rmsd\"] = th.tensor(glabels[\"rmsd\"])\n",
    "\n",
    "print(glabels[\"rmsd\"])\n",
    "\n",
    "for struc in files:\n",
    "    coord_dict, twist_dict, connections = load_cg_file(os.path.join(training_dir, struc))\n",
    "    graph = build_dgl_graph(coord_dict, twist_dict, connections)\n",
    "    g_list.append(graph)\n",
    "\n",
    "# save_graphs, label is rmsd\n",
    "\n",
    "dgl.save_graphs(training_dir + \"/training_cg_graphs.dgl\", g_list, labels=glabels)\n",
    "gs, ls = dgl.load_graphs(training_dir + \"/training_cg_graphs.dgl\")\n",
    "print(gs)\n",
    "print(ls)\n",
    "'''"
   ]
  },
  {
   "cell_type": "code",
   "execution_count": 7,
   "id": "j4O333bvAQ1V",
   "metadata": {
    "id": "j4O333bvAQ1V"
   },
   "outputs": [],
   "source": [
    "#Dataloading\n",
    "import dgl.dataloading as dtl\n",
    "\n",
    "b_size = 3\n",
    "\n",
    "#load from cg files directly\n",
    "\n",
    "training_dir = \"./play_set/train\"\n",
    "rmsd_list = \"./play_set/RMSD_list.txt\"\n",
    "\n",
    "training_dataset = CGDataset(training_dir, rmsd_list)\n",
    "#dataset.process(training_dir)\n",
    "#graph, label = dataset[0]\n",
    "#print(graph, label)\n",
    "\n",
    "#load from .dgl file\n",
    "#training_dataset = dgl.data.DGLDataset.load(\"training_cg_graphs.dgl\")\n",
    "\n",
    "#add randomisation as in Defining Data Loader from https://docs.dgl.ai/tutorials/blitz/5_graph_classification.html\n",
    "train_dataloader = dtl.pytorch.GraphDataLoader(training_dataset, batch_size=b_size, shuffle=True) \n",
    "#train_dataloader.save()"
   ]
  },
  {
   "cell_type": "code",
   "execution_count": 24,
   "id": "fec1a7b3-8adc-45a3-83ab-7cb02f31a4af",
   "metadata": {
    "id": "fec1a7b3-8adc-45a3-83ab-7cb02f31a4af"
   },
   "outputs": [],
   "source": [
    "#Model\n",
    "import dgl.nn as dglnn\n",
    "from dgl.nn import GraphConv\n",
    "import torch.nn.functional as F\n",
    "\n",
    "# feed the 3 different node attributes one after the other though the first layer? like in https://discuss.dgl.ai/t/getting-started-with-multiple-node-features-in-homogenous-graph/919/2\n",
    "# condense the 3 node attributes down to 1? see point above\n",
    "\n",
    "\n",
    "#Coarse Grain RNA Classifier Model\n",
    "class CG_Classifier(th.nn.Module):\n",
    "    def __init__(self, num_features):\n",
    "        super(CG_Classifier, self).__init__()\n",
    "        \n",
    "        '''\n",
    "        self.conv1 = GraphConv(6, 48, activation=F.relu)\n",
    "        self.conv2 = GraphConv(48, 24, activation=F.relu)\n",
    "        self.conv3 = GraphConv(24, 12, activation=F.relu)\n",
    "        '''\n",
    "        self.conv1 = dglnn.TAGConv(6, 48, activation=F.relu)\n",
    "        self.conv2 = dglnn.TAGConv(48, 24, activation=F.relu)\n",
    "        self.conv3 = dglnn.TAGConv(24, 12, activation=F.relu)\n",
    "        \n",
    "        self.max_pool = dgl.nn.MaxPooling()\n",
    "        \n",
    "        self.dense1 = th.nn.Linear(12*num_features, 256)\n",
    "        self.dense2 = th.nn.Linear(256, 256)\n",
    "        self.dense3 = th.nn.Linear(256, 256)\n",
    "        self.classify = th.nn.Linear(256, 1)\n",
    "\n",
    "    def forward(self, g):\n",
    "        nt = g.ndata[\"type\"]\n",
    "        nc = g.ndata[\"coord\"]\n",
    "        nw = g.ndata[\"twist\"]\n",
    "        \n",
    "        nt = self.conv1(g, nt)\n",
    "        #nt = self.max_pool(g, nt)\n",
    "        nt = self.conv2(g, nt)\n",
    "        #nt = self.max_pool(g, nt)\n",
    "        nt = self.conv3(g, nt)\n",
    "        nt = self.max_pool(g, nt)\n",
    "        \n",
    "        nc = self.conv1(g, nc)\n",
    "        #nc = self.max_pool(g, nc)\n",
    "        nc = self.conv2(g, nc)\n",
    "        #nc = self.max_pool(g, nc)\n",
    "        nc = self.conv3(g, nc)\n",
    "        nc = self.max_pool(g, nc)\n",
    "        \n",
    "        nw = self.conv1(g, nw)\n",
    "        #nw = self.max_pool(g, nw)\n",
    "        nw = self.conv2(g, nw)\n",
    "        #nw = self.max_pool(g, nw)\n",
    "        nw = self.conv3(g, nw)\n",
    "        nw = self.max_pool(g, nw)\n",
    "\n",
    "        #TODO: Modify the readout function (maybe with the local scope below)\n",
    "        \n",
    "        #use pooling to have still a graph representation, after 2 layers of seperate conv\n",
    "        #--> let conv run over the pooled graph\n",
    "        #with g.local_scope():\n",
    "        #    print(th.cat((nt, nc, nw), 0))\n",
    "        #    g.ndata[\"combi\"] = th.cat((nt, nc, nw), 0)\n",
    "        #    tcw = g.ndata[\"combi\"]\n",
    "        #    tcw = self.conv3(g, tcw)\n",
    "        #    tcw = self.max_pool(g, tcw)\n",
    "            #tcw = th.cat((nt, nc, nw), 1) #use this for graph gen and again graph con\n",
    "        \n",
    "        tcw = th.cat((nt, nc, nw), 1)\n",
    "        #is the mean the right approach?\n",
    "        tcw_mean = tcw.mean(dim=0)\n",
    "        tcw_mean = self.dense1(tcw_mean)\n",
    "        tcw_mean = self.dense2(tcw_mean)\n",
    "        tcw_mean = self.dense3(tcw_mean)\n",
    "        \n",
    "        return self.classify(tcw_mean)\n",
    "    "
   ]
  },
  {
   "cell_type": "code",
   "execution_count": 25,
   "id": "2943be90-6647-4c26-b967-a2563a142877",
   "metadata": {
    "colab": {
     "base_uri": "https://localhost:8080/",
     "height": 706
    },
    "id": "2943be90-6647-4c26-b967-a2563a142877",
    "outputId": "0c70c7ac-323a-4c58-92f6-f02899985117"
   },
   "outputs": [
    {
     "name": "stdout",
     "output_type": "stream",
     "text": [
      "Epoch 0: Training loss 74.7658, Testing loss 133.7969\n",
      "Epoch 5: Training loss 18.5769, Testing loss 3.0328\n",
      "Epoch 10: Training loss 7.5944, Testing loss 5.4683\n",
      "Epoch 15: Training loss 10.5597, Testing loss 0.9675\n",
      "Epoch 20: Training loss 12.2735, Testing loss 7.1274\n",
      "Epoch 25: Training loss 9.3865, Testing loss 4.1051\n",
      "Epoch 30: Training loss 2.9031, Testing loss 4.7357\n",
      "Epoch 35: Training loss 1.1226, Testing loss 3.6149\n",
      "Epoch 40: Training loss 1.1564, Testing loss 4.4178\n",
      "Epoch 45: Training loss 1.6252, Testing loss 5.7538\n",
      "Epoch 50: Training loss 0.2343, Testing loss 3.6788\n",
      "Epoch 55: Training loss 0.3189, Testing loss 3.8431\n",
      "Epoch 60: Training loss 1.1722, Testing loss 3.4873\n",
      "Epoch 65: Training loss 1.1081, Testing loss 4.3292\n",
      "Epoch 70: Training loss 0.7308, Testing loss 5.6718\n",
      "Epoch 75: Training loss 3.2877, Testing loss 2.9367\n",
      "Epoch 80: Training loss 4.4047, Testing loss 2.6297\n",
      "Epoch 85: Training loss 1.4612, Testing loss 3.5650\n",
      "Epoch 90: Training loss 0.7993, Testing loss 4.9141\n",
      "Epoch 95: Training loss 1.7541, Testing loss 4.4581\n"
     ]
    },
    {
     "data": {
      "text/plain": [
       "<function matplotlib.pyplot.draw()>"
      ]
     },
     "execution_count": 25,
     "metadata": {},
     "output_type": "execute_result"
    },
    {
     "data": {
      "image/png": "[encoded data removed]",
      "text/plain": [
       "<Figure size 432x288 with 1 Axes>"
      ]
     },
     "metadata": {
      "needs_background": "light"
     },
     "output_type": "display_data"
    }
   ],
   "source": [
    "#Training\n",
    "#TODO:  build a deeper neural network and refine pooling\n",
    "#       tinker with hyperparameters\n",
    "\n",
    "model = CG_Classifier(\n",
    "    #in_dim=6, #num of pos in type, twist, coord\n",
    "    #hidden_dim=12,\n",
    "    num_features=3 #len(graph.ndata)\n",
    ")\n",
    "\n",
    "opt = th.optim.Adam(model.parameters(), lr=0.01)\n",
    "model.train()\n",
    "\n",
    "epochs = 100\n",
    "\n",
    "#temp val setup --> use dataloader for larger set\n",
    "val_losses = []\n",
    "val_label = th.tensor([0.934])\n",
    "vcoord_dict, vtwist_dict, vconnections = load_cg_file(\"./play_set/val/1ehz.cg\")\n",
    "val_graph = build_dgl_graph(vcoord_dict, vtwist_dict, vconnections)\n",
    "\n",
    "#training setup\n",
    "epoch_losses = []\n",
    "for epoch in range(epochs):\n",
    "    epoch_loss = 0\n",
    "    \n",
    "    for iter, (batched_graph, batch_labels) in enumerate(train_dataloader):\n",
    "        l = []\n",
    "        for graph in dgl.unbatch(batched_graph):\n",
    "            #print(graph)\n",
    "            pred = model(graph)\n",
    "            l.append(pred)\n",
    "        \n",
    "        logits = th.cat(l)\n",
    "        loss = F.smooth_l1_loss(logits, batch_labels, reduction='mean')\n",
    "\n",
    "        opt.zero_grad()\n",
    "        loss.backward()\n",
    "        opt.step()\n",
    "        epoch_loss += loss.detach().item()\n",
    "    \n",
    "    epoch_loss /= (iter + 1)\n",
    "    epoch_losses.append(epoch_loss)\n",
    "\n",
    "    #val setup\n",
    "    val_pred = model(val_graph)\n",
    "    val_loss = F.smooth_l1_loss(val_pred, val_label) #th.abs(th.sub(val_pred, val_label))#\n",
    "    val_losses.append(val_loss.item())\n",
    "\n",
    "    if epoch % 5 == 0:\n",
    "        print(\"Epoch {}: Training loss {:.4f}, Testing loss {:.4f}\".format(epoch, epoch_loss, val_loss.item()))\n",
    "\n",
    "#plot the training run\n",
    "plt.plot(epoch_losses)\n",
    "plt.plot(val_losses, 'r')\n",
    "plt.title(\"Training Loss\")\n",
    "plt.ylim(ymax=30, ymin=0)\n",
    "plt.draw"
   ]
  },
  {
   "cell_type": "code",
   "execution_count": 19,
   "id": "eUo0_OJpxrV4",
   "metadata": {
    "colab": {
     "base_uri": "https://localhost:8080/"
    },
    "id": "eUo0_OJpxrV4",
    "outputId": "ca058b30-24b2-4d87-8d30-442256fe1430"
   },
   "outputs": [
    {
     "name": "stdout",
     "output_type": "stream",
     "text": [
      "Predicted RMSD of 1EHZ (3rd best cg with ernwin): 7.2102; true RMSD: 0.9340; loss: 6.2762\n"
     ]
    }
   ],
   "source": [
    "#Test with 1ehz.cg\n",
    "\n",
    "test_label = th.tensor([0.934])\n",
    "tcoord_dict, ttwist_dict, tconnections = load_cg_file(\"./play_set/val/1ehz.cg\")\n",
    "test_graph = build_dgl_graph(tcoord_dict, ttwist_dict, tconnections)\n",
    "\n",
    "\n",
    "#tn_types = test_graph.ndata[\"type\"]\n",
    "#tn_coord = test_graph.ndata[\"coord\"]\n",
    "#tn_twist = test_graph.ndata[\"twist\"]\n",
    "\n",
    "pred = model(test_graph)#, tn_types, tn_coord, tn_twist)\n",
    "loss = th.abs(th.sub(val_pred, val_label)).item()#F.smooth_l1_loss(pred, test_label)\n",
    "print(\"Predicted RMSD of 1EHZ (3rd best cg with ernwin): {:.4f}; true RMSD: {:.4f}; loss: {:.4f}\".format(pred.item(), test_label.item(), loss))"
   ]
  },
  {
   "cell_type": "code",
   "execution_count": null,
   "id": "fb1a1064-da56-4fab-9ce5-fc0aa0952ef0",
   "metadata": {
    "id": "fb1a1064-da56-4fab-9ce5-fc0aa0952ef0"
   },
   "outputs": [],
   "source": []
  }
 ],
 "metadata": {
  "colab": {
   "collapsed_sections": [],
   "name": "3d_classifier.ipynb",
   "provenance": []
  },
  "kernelspec": {
   "display_name": "Python 3 (ipykernel)",
   "language": "python",
   "name": "python3"
  },
  "language_info": {
   "codemirror_mode": {
    "name": "ipython",
    "version": 3
   },
   "file_extension": ".py",
   "mimetype": "text/x-python",
   "name": "python",
   "nbconvert_exporter": "python",
   "pygments_lexer": "ipython3",
   "version": "3.9.7"
  }
 },
 "nbformat": 4,
 "nbformat_minor": 5
}
