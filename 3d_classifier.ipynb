{
  "cells": [
    {
      "cell_type": "code",
      "execution_count": 2,
      "id": "a683650d-9deb-45f7-8d82-17d0203ec8f9",
      "metadata": {
        "colab": {
          "base_uri": "https://localhost:8080/"
        },
        "id": "a683650d-9deb-45f7-8d82-17d0203ec8f9",
        "outputId": "e611a436-f63b-458b-e0df-8d2f6475f6e6"
      },
      "outputs": [
        {
          "output_type": "stream",
          "name": "stdout",
          "text": [
            "Collecting dgl\n",
            "  Downloading dgl-0.6.1-cp37-cp37m-manylinux1_x86_64.whl (4.4 MB)\n",
            "\u001b[K     |████████████████████████████████| 4.4 MB 12.6 MB/s \n",
            "\u001b[?25hRequirement already satisfied: numpy>=1.14.0 in /usr/local/lib/python3.7/dist-packages (from dgl) (1.19.5)\n",
            "Requirement already satisfied: requests>=2.19.0 in /usr/local/lib/python3.7/dist-packages (from dgl) (2.23.0)\n",
            "Requirement already satisfied: networkx>=2.1 in /usr/local/lib/python3.7/dist-packages (from dgl) (2.6.3)\n",
            "Requirement already satisfied: scipy>=1.1.0 in /usr/local/lib/python3.7/dist-packages (from dgl) (1.4.1)\n",
            "Requirement already satisfied: idna<3,>=2.5 in /usr/local/lib/python3.7/dist-packages (from requests>=2.19.0->dgl) (2.10)\n",
            "Requirement already satisfied: urllib3!=1.25.0,!=1.25.1,<1.26,>=1.21.1 in /usr/local/lib/python3.7/dist-packages (from requests>=2.19.0->dgl) (1.24.3)\n",
            "Requirement already satisfied: certifi>=2017.4.17 in /usr/local/lib/python3.7/dist-packages (from requests>=2.19.0->dgl) (2021.10.8)\n",
            "Requirement already satisfied: chardet<4,>=3.0.2 in /usr/local/lib/python3.7/dist-packages (from requests>=2.19.0->dgl) (3.0.4)\n",
            "Installing collected packages: dgl\n",
            "Successfully installed dgl-0.6.1\n",
            "Setting the default backend to \"pytorch\". You can change it in the ~/.dgl/config.json file or export the DGLBACKEND environment variable.  Valid options are: pytorch, mxnet, tensorflow (all lowercase)\n"
          ]
        },
        {
          "output_type": "stream",
          "name": "stderr",
          "text": [
            "DGL backend not selected or invalid.  Assuming PyTorch for now.\n",
            "Using backend: pytorch\n"
          ]
        },
        {
          "output_type": "stream",
          "name": "stdout",
          "text": [
            "Collecting forgi\n",
            "  Downloading forgi-2.1.2.tar.gz (26.8 MB)\n",
            "\u001b[K     |████████████████████████████████| 26.8 MB 1.6 MB/s \n",
            "\u001b[?25hRequirement already satisfied: numpy>=1.10.0 in /usr/local/lib/python3.7/dist-packages (from forgi) (1.19.5)\n",
            "Requirement already satisfied: scipy>=0.19.1 in /usr/local/lib/python3.7/dist-packages (from forgi) (1.4.1)\n",
            "Requirement already satisfied: pandas>=0.20 in /usr/local/lib/python3.7/dist-packages (from forgi) (1.1.5)\n",
            "Requirement already satisfied: future in /usr/local/lib/python3.7/dist-packages (from forgi) (0.16.0)\n",
            "Requirement already satisfied: networkx>=2.0 in /usr/local/lib/python3.7/dist-packages (from forgi) (2.6.3)\n",
            "Collecting biopython\n",
            "  Downloading biopython-1.79-cp37-cp37m-manylinux_2_5_x86_64.manylinux1_x86_64.whl (2.3 MB)\n",
            "\u001b[K     |████████████████████████████████| 2.3 MB 38.7 MB/s \n",
            "\u001b[?25hRequirement already satisfied: appdirs>=1.4 in /usr/local/lib/python3.7/dist-packages (from forgi) (1.4.4)\n",
            "Collecting logging_exceptions>=0.1.8\n",
            "  Downloading logging_exceptions-0.1.8-py2.py3-none-any.whl (10 kB)\n",
            "Requirement already satisfied: cython in /usr/local/lib/python3.7/dist-packages (from forgi) (0.29.24)\n",
            "Requirement already satisfied: pytz>=2017.2 in /usr/local/lib/python3.7/dist-packages (from pandas>=0.20->forgi) (2018.9)\n",
            "Requirement already satisfied: python-dateutil>=2.7.3 in /usr/local/lib/python3.7/dist-packages (from pandas>=0.20->forgi) (2.8.2)\n",
            "Requirement already satisfied: six>=1.5 in /usr/local/lib/python3.7/dist-packages (from python-dateutil>=2.7.3->pandas>=0.20->forgi) (1.15.0)\n",
            "Building wheels for collected packages: forgi\n",
            "  Building wheel for forgi (setup.py) ... \u001b[?25l\u001b[?25hdone\n",
            "  Created wheel for forgi: filename=forgi-2.1.2-cp37-cp37m-linux_x86_64.whl size=27791700 sha256=a734c51d794e52c8ae35e33627683aa02a156ecec35f6e7d2538eebb78629915\n",
            "  Stored in directory: /root/.cache/pip/wheels/48/70/42/e333b0de9960f1b0cea75cf70a2db08290bcc713288a607e1a\n",
            "Successfully built forgi\n",
            "Installing collected packages: logging-exceptions, biopython, forgi\n",
            "Successfully installed biopython-1.79 forgi-2.1.2 logging-exceptions-0.1.8\n"
          ]
        }
      ],
      "source": [
        "!pip install dgl\n",
        "#!DGLBACKEND=pytorch\n",
        "#!export $DGLBACKEND\n",
        "#import os\n",
        "#os.environ[\"DGLBACKEND\"] = \"pytorch\"\n",
        "#print(os.environ[\"DGLBACKEND\"])\n",
        "import dgl\n",
        "import numpy as np\n",
        "#import tensorflow as tf\n",
        "import torch as th\n",
        "\n",
        "!pip install forgi\n",
        "import forgi\n",
        "import forgi.graph.bulge_graph as fgb\n",
        "import forgi.threedee as ft\n",
        "import forgi.threedee.model.coarse_grain as ftmc\n",
        "\n",
        "\n",
        "import matplotlib.pyplot as plt\n",
        "import networkx as nx\n",
        "import os\n"
      ]
    },
    {
      "cell_type": "code",
      "execution_count": 3,
      "id": "_MuRd2MIU0bz",
      "metadata": {
        "colab": {
          "base_uri": "https://localhost:8080/"
        },
        "id": "_MuRd2MIU0bz",
        "outputId": "34d4d5a6-6ab3-43cc-9c96-701d03f2cd15"
      },
      "outputs": [
        {
          "output_type": "stream",
          "name": "stdout",
          "text": [
            "1.10.0+cu111\n",
            "True\n"
          ]
        }
      ],
      "source": [
        "print(th.__version__)\n",
        "print(th.cuda.is_available())\n",
        "#!xz -d -v data.tar.xz\n",
        "!tar -xf data.tar.xz"
      ]
    },
    {
      "cell_type": "markdown",
      "id": "n2IxR1AxZdYn",
      "metadata": {
        "id": "n2IxR1AxZdYn"
      },
      "source": [
        "\n",
        "Ideas: \n",
        "*   use dgl.save_graph() to store a graph, so the structure can be used for several steps?\n",
        "*   use forgi.threedee.model.coarse_grain.CoarseGrainRNA.rotate() to rotate cg RNAs and see if the classification changes\n",
        "\n",
        "TODO:\n",
        "*  future --> find where ernwin writes/stores output of structure for each n steps\n",
        "*  finetune the model\n",
        "*  make larger batch of training data for testing\n",
        "*  include logger (maybe wandb?)\n",
        "\n"
      ]
    },
    {
      "cell_type": "code",
      "execution_count": 4,
      "id": "81afa4b6-ee92-4662-826b-de338ca595cf",
      "metadata": {
        "id": "81afa4b6-ee92-4662-826b-de338ca595cf",
        "tags": []
      },
      "outputs": [],
      "source": [
        "#Graph Building\n",
        "\n",
        "#load coarse grain file\n",
        "def load_cg_file(file): \n",
        "    cg = ftmc.CoarseGrainRNA.from_bg_file(file) \n",
        "    c_dict = dict(cg.coords)\n",
        "    t_dict = dict(cg.twists)\n",
        "    coord_dict = {}\n",
        "    twist_dict = {}\n",
        "    for e in c_dict:\n",
        "        a = th.from_numpy(c_dict[e][0])\n",
        "        b = th.from_numpy(c_dict[e][1])\n",
        "        coord_dict[e] = a, b\n",
        "        if e in t_dict:\n",
        "            c = th.from_numpy(t_dict[e][0])\n",
        "            d = th.from_numpy(t_dict[e][1])\n",
        "            twist_dict[e] = c, d\n",
        "        \n",
        "    # Get elements and neighbours:\n",
        "    connections = {}\n",
        "    for elem in cg.sorted_element_iterator():\n",
        "        neighbours = cg.connections(elem)\n",
        "        if elem not in connections:\n",
        "            connections[elem] = cg.connections(elem)\n",
        "    return coord_dict, twist_dict, connections\n",
        "\n",
        "def build_dgl_graph(coord_dict, twist_dict, connections):\n",
        "    #dictionary to convert type\n",
        "    type_transl = {\n",
        "        \"h\": [1, 0, 0, 0, 0, 0],\n",
        "        \"i\": [0, 1, 0, 0, 0, 0],\n",
        "        \"m\": [0, 0, 1, 0, 0, 0],\n",
        "        \"s\": [0, 0, 0, 1, 0, 0],\n",
        "        \"f\": [0, 0, 0, 0, 1, 0],\n",
        "        \"t\": [0, 0, 0, 0, 0, 1]\n",
        "    } \n",
        "\n",
        "    #encode nodes numerically for dgl graph\n",
        "    num_graph = {}\n",
        "    elem_count = {}\n",
        "    for num, n in enumerate(sorted(connections)):\n",
        "        num_graph[n] = num\n",
        "        if n[0] not in elem_count:\n",
        "            elem_count[n[0]] = 1\n",
        "        else:\n",
        "            elem_count[n[0]] += 1\n",
        "\n",
        "    #build graph and edges\n",
        "    u = []\n",
        "    v = []\n",
        "    for node in connections:\n",
        "        for c in connections[node]:\n",
        "            u.append(num_graph[node])\n",
        "            v.append(num_graph[c])\n",
        "\n",
        "    graph = dgl.graph((th.tensor(u), th.tensor(v)))\n",
        "\n",
        "    #initialise node attributes\n",
        "    graph.ndata[\"type\"] = th.zeros(graph.num_nodes(), 6, dtype=th.float32)\n",
        "    graph.ndata[\"coord\"] = th.zeros(graph.num_nodes(), 6, dtype=th.float32) #seperate coords into 2 sets of 3, so that the information of start and end is added?\n",
        "    graph.ndata[\"twist\"] = th.zeros(graph.num_nodes(), 6, dtype=th.float32)\n",
        "\n",
        "    for elem in connections:\n",
        "        graph.ndata[\"type\"][num_graph[elem]] = th.tensor(type_transl[elem[0]], dtype=th.float32) \n",
        "        graph.ndata[\"coord\"][num_graph[elem]] = th.tensor(np.concatenate(coord_dict[elem]), dtype=th.float32)\n",
        "        if elem in twist_dict:\n",
        "            graph.ndata[\"twist\"][num_graph[elem]] = th.tensor(np.concatenate(twist_dict[elem]), dtype=th.float32)\n",
        "  \n",
        "    return graph\n"
      ]
    },
    {
      "cell_type": "code",
      "execution_count": 5,
      "id": "65010c86-88ed-4940-b36f-5af93ea50a6d",
      "metadata": {
        "id": "65010c86-88ed-4940-b36f-5af93ea50a6d"
      },
      "outputs": [],
      "source": [
        "#create a dict with name and rmsd as labels\n",
        "def get_rmsd_dict(rmsd_list):\n",
        "    #rmsd_list = \"./play_set/RMSD_list.txt\"\n",
        "    rmsd_dict = {}\n",
        "    with open(rmsd_list, \"r\") as fh:\n",
        "        for line in fh.readlines():\n",
        "            name, rmsd = (line.rstrip()).split(\"\\t\")\n",
        "            rmsd_dict[name] = float(rmsd)\n",
        "    return rmsd_dict\n"
      ]
    },
    {
      "cell_type": "code",
      "execution_count": 6,
      "id": "ZU_znRFH141n",
      "metadata": {
        "id": "ZU_znRFH141n"
      },
      "outputs": [],
      "source": [
        "#Graph Dataset Class\n",
        "#TODO: adapt, so it can stand alone\n",
        "\n",
        "from dgl.data import DGLDataset\n",
        "class CGDataset(DGLDataset):\n",
        "    def __init__(self, directory, rmsd_list):\n",
        "        self.file_path = directory\n",
        "        self.rmsd_list = rmsd_list\n",
        "        super(CGDataset, self).__init__(name=\"cgRNA\")\n",
        "        \n",
        "        \n",
        "    def process(self):\n",
        "        self.graphs = []\n",
        "        rmsd_dict = get_rmsd_dict(self.rmsd_list)\n",
        "        self.labels = []\n",
        "        \n",
        "        files = []\n",
        "        filenames = next(os.walk(self.file_path), (None, None, []))[2]\n",
        "\n",
        "        for file in filenames:\n",
        "            if file.endswith(\".cg\"):\n",
        "                files.append(file)\n",
        "                self.labels.append(rmsd_dict[file])\n",
        "\n",
        "        for struc in files:\n",
        "            coord_dict, twist_dict, connections = load_cg_file(os.path.join(self.file_path, struc))\n",
        "            graph = build_dgl_graph(coord_dict, twist_dict, connections)\n",
        "            self.graphs.append(build_dgl_graph(coord_dict, twist_dict, connections))\n",
        "\n",
        "        self.labels = th.tensor(self.labels)\n",
        "  \n",
        "    def __getitem__(self, i):\n",
        "        return self.graphs[i], self.labels[i]\n",
        "\n",
        "    def __len__(self):\n",
        "        return len(self.graphs)\n",
        "    \n",
        "    #def save(self):\n",
        "     #   dgl.save_graphs(\"./play_set/training_cg_graphs.dgl\", self.graphs, labels=self.labels)\n"
      ]
    },
    {
      "cell_type": "code",
      "execution_count": 7,
      "id": "j4O333bvAQ1V",
      "metadata": {
        "id": "j4O333bvAQ1V"
      },
      "outputs": [],
      "source": [
        "#Dataloading\n",
        "import dgl.dataloading as dtl\n",
        "\n",
        "b_size = 50\n",
        "\n",
        "#load from cg files directly\n",
        "\n",
        "training_dir = \"./data/training_set\"\n",
        "rmsd_list = \"./data/train_rmsd_list.txt\"\n",
        "\n",
        "training_dataset = CGDataset(training_dir, rmsd_list)\n",
        "\n",
        "#add randomisation as in Defining Data Loader from https://docs.dgl.ai/tutorials/blitz/5_graph_classification.html\n",
        "train_dataloader = dtl.pytorch.GraphDataLoader(training_dataset, batch_size=b_size, shuffle=True) \n"
      ]
    },
    {
      "cell_type": "code",
      "execution_count": 8,
      "id": "bq8dpernrILf",
      "metadata": {
        "id": "bq8dpernrILf"
      },
      "outputs": [],
      "source": [
        "#Validation set\n",
        "val_dir = \"./data/val_set\"\n",
        "val_rmsd = \"./data/val_rmsd_list.txt\"\n",
        "\n",
        "val_dataset = CGDataset(val_dir, val_rmsd)\n",
        "\n",
        "val_dataloader = dtl.pytorch.GraphDataLoader(val_dataset)"
      ]
    },
    {
      "cell_type": "code",
      "execution_count": 10,
      "id": "35ebadfa-2a66-46ea-ac4d-e6ff32b2205b",
      "metadata": {
        "id": "35ebadfa-2a66-46ea-ac4d-e6ff32b2205b",
        "colab": {
          "base_uri": "https://localhost:8080/"
        },
        "outputId": "91faabfb-249f-4f47-a431-3fa756f17313"
      },
      "outputs": [
        {
          "output_type": "stream",
          "name": "stdout",
          "text": [
            "Graph(num_nodes=17, num_edges=34,\n",
            "      ndata_schemes={'type': Scheme(shape=(6,), dtype=torch.float32), 'coord': Scheme(shape=(6,), dtype=torch.float32), 'twist': Scheme(shape=(6,), dtype=torch.float32)}\n",
            "      edata_schemes={})\n"
          ]
        }
      ],
      "source": [
        "#perhaps a module to coarsen/pool graph nodes\n",
        "test_g = training_dataset[0][0]\n",
        "\n",
        "dgl.\n"
      ]
    },
    {
      "cell_type": "code",
      "execution_count": 27,
      "id": "fec1a7b3-8adc-45a3-83ab-7cb02f31a4af",
      "metadata": {
        "id": "fec1a7b3-8adc-45a3-83ab-7cb02f31a4af"
      },
      "outputs": [],
      "source": [
        "#Model\n",
        "import dgl.nn as dglnn\n",
        "from dgl.nn import GraphConv\n",
        "import torch.nn.functional as F\n",
        "import dgl.function as fn\n",
        "from dgl.geometry import neighbor_matching\n",
        "\n",
        "# feed the 3 different node attributes one after the other though the first layer? like in https://discuss.dgl.ai/t/getting-started-with-multiple-node-features-in-homogenous-graph/919/2\n",
        "# condense the 3 node attributes down to 1? see point above\n",
        "\n",
        "\n",
        "#Coarse Grain RNA Classifier Model\n",
        "class CG_Classifier(th.nn.Module):\n",
        "    def __init__(self, num_features):\n",
        "        self.c = 0\n",
        "        super(CG_Classifier, self).__init__()\n",
        "        \n",
        "        '''\n",
        "        self.conv1 = GraphConv(6, 48, activation=F.relu)\n",
        "        self.conv2 = GraphConv(48, 24, activation=F.relu)\n",
        "        self.conv3 = GraphConv(24, 12, activation=F.relu)\n",
        "        '''\n",
        "        self.conv1 = dglnn.TAGConv(6, 128, k=2, activation=F.relu)\n",
        "        self.conv2 = dglnn.TAGConv(128, 64, k=2, activation=F.relu)\n",
        "        self.conv3 = dglnn.TAGConv(64, 32, k=1, activation=F.relu)\n",
        "        \n",
        "        self.max_pool = dglnn.SumPooling() #dgl.nn.MaxPooling()\n",
        "        #self.diffpool = dgl.nn.\n",
        "\n",
        "        self.sage_conv1 = dglnn.SAGEConv(32*num_features, 24, 'pool') \n",
        "        self.sage_conv2 = dglnn.SAGEConv(24, 20, 'pool')\n",
        "        self.sage_conv3 = dglnn.SAGEConv(20, 16, 'pool')\n",
        "\n",
        "        self.dense1 = th.nn.Linear(16, 512)\n",
        "        self.dense2 = th.nn.Linear(512, 512)\n",
        "        self.dense3 = th.nn.Linear(512, 512)\n",
        "        self.classify = th.nn.Linear(512, 1)\n",
        "\n",
        "    def forward(self, g):\n",
        "        nt = g.ndata[\"type\"]\n",
        "        nc = g.ndata[\"coord\"]\n",
        "        nw = g.ndata[\"twist\"]\n",
        "        \n",
        "        nt = self.conv1(g, nt)\n",
        "        nt = self.conv2(g, nt)\n",
        "        nt = self.conv3(g, nt)\n",
        "\n",
        "        nc = self.conv1(g, nc)\n",
        "        nc = self.conv2(g, nc)\n",
        "        nc = self.conv3(g, nc)\n",
        "        \n",
        "        nw = self.conv1(g, nw)\n",
        "        nw = self.conv2(g, nw)\n",
        "        nw = self.conv3(g, nw)\n",
        "\n",
        "        #TODO: Modify the readout function (maybe with the local scope below)\n",
        "        \n",
        "        #use pooling to have still a graph representation, after 2 layers of seperate conv\n",
        "        #--> let conv run over the pooled graph\n",
        "        #with g.local_scope():\n",
        "        #    print(th.cat((nt, nc, nw), 0))\n",
        "        #    g.ndata[\"combi\"] = th.cat((nt, nc, nw), 0)\n",
        "        #    tcw = g.ndata[\"combi\"]\n",
        "        #    tcw = self.conv3(g, tcw)\n",
        "        #    tcw = self.max_pool(g, tcw)\n",
        "            #tcw = th.cat((nt, nc, nw), 1) #use this for graph gen and again graph con\n",
        "\n",
        "\n",
        "        #TODO: add readout function\n",
        "        #      how to best use pooling?\n",
        "                \n",
        "        #g.update_all(fn.copy_u(src=\"combi\", out=\"pool1\"), fn.max()) #find out what could be target and destination for fn.copy_u\n",
        "        #combi = g.ndata[\"pool1\"]\n",
        "        \n",
        "        g.ndata[\"combi\"] = th.cat((nt, nc, nw), 1) #tcw\n",
        "\n",
        "        combi = g.ndata[\"combi\"]\n",
        "        combi = self.sage_conv1(g, combi)\n",
        "        combi = self.sage_conv2(g, combi)\n",
        "        combi = self.sage_conv3(g, combi)\n",
        "        combi = self.max_pool(g, combi)\n",
        "\n",
        "        tcw_mean = combi.mean(dim=0) #dgl.mean_nodes(g, combi)\n",
        "        #if self.c == 0:\n",
        "        #    print(tcw_mean)\n",
        "            \n",
        "        #is the mean the right approach?\n",
        "        #tcw_mean = tcw.mean(dim=0)\n",
        "        tcw_mean = self.dense1(tcw_mean)\n",
        "        tcw_mean = self.dense2(tcw_mean)\n",
        "        tcw_mean = self.dense3(tcw_mean)\n",
        "        #if self.c == 0:\n",
        "        #    print(tcw_mean)\n",
        "        #    self.c = 1\n",
        "        \n",
        "        return self.classify(tcw_mean)\n",
        "    "
      ]
    },
    {
      "cell_type": "code",
      "execution_count": 28,
      "id": "2943be90-6647-4c26-b967-a2563a142877",
      "metadata": {
        "colab": {
          "base_uri": "https://localhost:8080/",
          "height": 1000
        },
        "id": "2943be90-6647-4c26-b967-a2563a142877",
        "outputId": "c21cd277-f7c2-44e7-fda6-a42d94bf3281"
      },
      "outputs": [
        {
          "output_type": "stream",
          "name": "stdout",
          "text": [
            "Epoch 0: Training loss 993.4221, Validation loss 363.7846\n",
            "Epoch 5: Training loss 13.4250, Validation loss 11.2177\n",
            "Epoch 10: Training loss 8.0927, Validation loss 7.7191\n",
            "Epoch 15: Training loss 6.4795, Validation loss 8.3870\n",
            "Epoch 20: Training loss 6.0631, Validation loss 6.4917\n",
            "Epoch 25: Training loss 4.5109, Validation loss 6.2523\n",
            "Epoch 30: Training loss 4.3163, Validation loss 5.6856\n",
            "Epoch 35: Training loss 4.1666, Validation loss 5.7101\n",
            "Epoch 40: Training loss 3.3477, Validation loss 5.3909\n",
            "Epoch 45: Training loss 3.0856, Validation loss 6.0991\n",
            "Epoch 50: Training loss 2.9557, Validation loss 5.6979\n",
            "Epoch 55: Training loss 2.3205, Validation loss 5.6487\n",
            "Epoch 60: Training loss 2.5179, Validation loss 5.4975\n",
            "Epoch 65: Training loss 2.4215, Validation loss 5.3462\n",
            "Epoch 70: Training loss 1.9194, Validation loss 5.4788\n",
            "Epoch 75: Training loss 1.6811, Validation loss 5.0806\n",
            "Epoch 80: Training loss 1.7207, Validation loss 5.3591\n",
            "Epoch 85: Training loss 1.7684, Validation loss 5.5563\n",
            "Epoch 90: Training loss 1.6050, Validation loss 5.2600\n",
            "Epoch 95: Training loss 1.8786, Validation loss 4.9391\n",
            "Epoch 100: Training loss 1.2655, Validation loss 5.0964\n",
            "Epoch 105: Training loss 1.6205, Validation loss 5.4676\n",
            "Epoch 110: Training loss 1.3242, Validation loss 4.5601\n",
            "Epoch 115: Training loss 1.2572, Validation loss 4.6959\n",
            "Epoch 120: Training loss 1.1034, Validation loss 4.9052\n",
            "Epoch 125: Training loss 0.7821, Validation loss 4.7643\n",
            "Epoch 130: Training loss 0.8310, Validation loss 4.8941\n",
            "Epoch 135: Training loss 1.0945, Validation loss 4.7431\n",
            "Epoch 140: Training loss 0.7604, Validation loss 4.5617\n",
            "Epoch 145: Training loss 1.2530, Validation loss 4.8058\n",
            "Epoch 150: Training loss 1.4930, Validation loss 4.7499\n",
            "Epoch 155: Training loss 0.9404, Validation loss 4.3937\n",
            "Epoch 160: Training loss 1.2510, Validation loss 4.9522\n",
            "Epoch 165: Training loss 1.0026, Validation loss 4.7882\n",
            "Epoch 170: Training loss 0.8955, Validation loss 4.8073\n",
            "Epoch 175: Training loss 1.0864, Validation loss 4.8616\n",
            "Epoch 180: Training loss 0.9424, Validation loss 4.8586\n",
            "Epoch 185: Training loss 0.8925, Validation loss 4.6517\n",
            "Epoch 190: Training loss 1.0148, Validation loss 4.7126\n",
            "Epoch 195: Training loss 0.6093, Validation loss 4.7101\n",
            "Epoch 200: Training loss 0.8658, Validation loss 4.5861\n",
            "Epoch 205: Training loss 1.0798, Validation loss 4.5859\n",
            "Epoch 210: Training loss 0.9914, Validation loss 4.4844\n",
            "Epoch 215: Training loss 0.6136, Validation loss 4.4308\n",
            "Epoch 220: Training loss 0.8218, Validation loss 4.4303\n",
            "Epoch 225: Training loss 0.7635, Validation loss 4.4753\n",
            "Epoch 230: Training loss 0.7248, Validation loss 4.7536\n",
            "Epoch 235: Training loss 1.0394, Validation loss 4.8863\n",
            "Epoch 240: Training loss 1.0395, Validation loss 4.7442\n",
            "Epoch 245: Training loss 0.6512, Validation loss 4.2635\n",
            "Epoch 250: Training loss 0.6305, Validation loss 4.3741\n",
            "Epoch 255: Training loss 0.7136, Validation loss 4.4817\n",
            "Epoch 260: Training loss 0.6073, Validation loss 4.5400\n",
            "Epoch 265: Training loss 0.6963, Validation loss 4.5813\n",
            "Epoch 270: Training loss 0.6621, Validation loss 4.5040\n",
            "Epoch 275: Training loss 0.6648, Validation loss 4.1350\n",
            "Epoch 280: Training loss 0.4258, Validation loss 4.3092\n",
            "Epoch 285: Training loss 0.4571, Validation loss 4.1868\n",
            "Epoch 290: Training loss 0.9712, Validation loss 4.5071\n",
            "Epoch 295: Training loss 1.1281, Validation loss 4.3423\n"
          ]
        },
        {
          "output_type": "execute_result",
          "data": {
            "text/plain": [
              "<function matplotlib.pyplot.draw>"
            ]
          },
          "metadata": {},
          "execution_count": 28
        },
        {
          "output_type": "display_data",
          "data": {
            "image/png": "[encoded data removed]",
            "text/plain": [
              "<Figure size 432x288 with 1 Axes>"
            ]
          },
          "metadata": {
            "needs_background": "light"
          }
        }
      ],
      "source": [
        "#Training\n",
        "#TODO:  build a deeper neural network and refine pooling\n",
        "#       tinker with hyperparameters\n",
        "\n",
        "model = CG_Classifier(\n",
        "    num_features=3 #len(graph.ndata)\n",
        ")\n",
        "\n",
        "opt = th.optim.Adam(model.parameters(), lr=0.001)\n",
        "model.train()\n",
        "#th.autograd.set_detect_anomaly(True)\n",
        "epochs = 300\n",
        "\n",
        "#val setup\n",
        "val_losses = []\n",
        "\n",
        "#training setup\n",
        "epoch_losses = []\n",
        "for epoch in range(epochs):\n",
        "    epoch_loss = 0\n",
        "    \n",
        "    for iter, (batched_graph, batch_labels) in enumerate(train_dataloader):\n",
        "        l = []\n",
        "        for graph in dgl.unbatch(batched_graph): #ist there a way to use directly the batched_graph object?\n",
        "            pred = model(graph)\n",
        "            l.append(pred)\n",
        "        \n",
        "        logits = th.cat(l)\n",
        "        loss = F.smooth_l1_loss(logits, batch_labels, reduction='mean')\n",
        "\n",
        "        opt.zero_grad()\n",
        "        loss.backward()\n",
        "        opt.step()\n",
        "        epoch_loss += loss.detach().item()\n",
        "    \n",
        "    epoch_loss /= (iter + 1)\n",
        "    epoch_losses.append(epoch_loss)\n",
        "\n",
        "    #val setup\n",
        "    val_loss = 0\n",
        "    for i, (v_graph, v_label) in enumerate(val_dataloader):\n",
        "        val_pred = model(v_graph)\n",
        "        v_loss = F.smooth_l1_loss(val_pred, v_label, reduction='mean')\n",
        "        val_loss += v_loss.detach().item()\n",
        "\n",
        "    val_loss /= (i + 1)\n",
        "    \n",
        "    val_losses.append(val_loss)\n",
        "\n",
        "    if epoch % 5 == 0:\n",
        "        print(\"Epoch {}: Training loss {:.4f}, Validation loss {:.4f}\".format(epoch, epoch_loss, val_loss))\n",
        "\n",
        "#plot the training run\n",
        "plt.plot(epoch_losses)\n",
        "plt.plot(val_losses, 'r')\n",
        "plt.title(\"Training Loss\")\n",
        "plt.ylim(ymax=30, ymin=0)\n",
        "plt.draw"
      ]
    },
    {
      "cell_type": "code",
      "execution_count": 29,
      "id": "eUo0_OJpxrV4",
      "metadata": {
        "colab": {
          "base_uri": "https://localhost:8080/"
        },
        "id": "eUo0_OJpxrV4",
        "outputId": "2b4717fb-92ff-48a4-8d56-b227c9de0995"
      },
      "outputs": [
        {
          "output_type": "stream",
          "name": "stdout",
          "text": [
            "Mean Test loss: \t 4.2344\n",
            "Std. Dev. of Test loss:  4.2930\n",
            "Min loss: \t \t 0.0013\n",
            "First Quantile: \t 1.1563\n",
            "Median: \t \t 2.9519\n",
            "Third Quantile: \t 6.1240\n",
            "Max Loss: \t \t 22.5539\n"
          ]
        }
      ],
      "source": [
        "#Test\n",
        "\n",
        "model.eval()\n",
        "test_dir = \"./data/test_set\"\n",
        "test_rmsd = \"./data/test_rmsd_list.txt\"\n",
        "\n",
        "test_dataset = CGDataset(test_dir, test_rmsd)\n",
        "\n",
        "test_dataloader = dtl.pytorch.GraphDataLoader(val_dataset)\n",
        "\n",
        "test_losses = []\n",
        "for test_graph, test_label in test_dataloader:\n",
        "    test_pred = model(test_graph)\n",
        "    test_loss = F.smooth_l1_loss(test_pred, test_label).item()\n",
        "    test_losses.append(test_loss)\n",
        "    #print(\"Test Prediction: {:.4f}; true RMSD: {:.4f}; loss: {:.4f}\".format(test_pred.item(), test_label.item(), test_loss))\n",
        "\n",
        "test_mean = np.mean(test_losses)\n",
        "test_std = np.std(test_losses)\n",
        "print(\"Mean Test loss: \\t {:.4f}\".format(test_mean))\n",
        "print(\"Std. Dev. of Test loss:  {:.4f}\".format(test_std))\n",
        "print(\"Min loss: \\t \\t {:.4f}\".format(min(test_losses)))\n",
        "print(\"First Quantile: \\t {:.4f}\".format(np.quantile(test_losses, q=0.25)))\n",
        "print(\"Median: \\t \\t {:.4f}\".format(np.median(test_losses)))\n",
        "print(\"Third Quantile: \\t {:.4f}\".format(np.quantile(test_losses, q=0.75)))\n",
        "print(\"Max Loss: \\t \\t {:.4f}\".format(max(test_losses)))"
      ]
    },
    {
      "cell_type": "code",
      "execution_count": null,
      "id": "fb1a1064-da56-4fab-9ce5-fc0aa0952ef0",
      "metadata": {
        "id": "fb1a1064-da56-4fab-9ce5-fc0aa0952ef0"
      },
      "outputs": [],
      "source": [
        ""
      ]
    }
  ],
  "metadata": {
    "accelerator": "GPU",
    "colab": {
      "collapsed_sections": [],
      "name": "3d_classifier.ipynb",
      "provenance": []
    },
    "kernelspec": {
      "display_name": "Python 3 (ipykernel)",
      "language": "python",
      "name": "python3"
    },
    "language_info": {
      "codemirror_mode": {
        "name": "ipython",
        "version": 3
      },
      "file_extension": ".py",
      "mimetype": "text/x-python",
      "name": "python",
      "nbconvert_exporter": "python",
      "pygments_lexer": "ipython3",
      "version": "3.9.7"
    }
  },
  "nbformat": 4,
  "nbformat_minor": 5
}