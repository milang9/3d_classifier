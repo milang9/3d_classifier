{
 "cells": [
  {
   "cell_type": "code",
   "execution_count": 1,
   "id": "a683650d-9deb-45f7-8d82-17d0203ec8f9",
   "metadata": {
    "colab": {
     "base_uri": "https://localhost:8080/"
    },
    "id": "a683650d-9deb-45f7-8d82-17d0203ec8f9",
    "outputId": "f96d99df-55d8-4280-d21d-976e8353e707"
   },
   "outputs": [
    {
     "name": "stderr",
     "output_type": "stream",
     "text": [
      "Using backend: pytorch[09:42:13] /opt/dgl/src/runtime/tensordispatch.cc:43: TensorDispatcher: dlopen failed: libtorch_cuda_cpp.so: cannot open shared object file: No such file or directory\n",
      "\n"
     ]
    }
   ],
   "source": [
    "#!pip install dgl\n",
    "#!DGLBACKEND=pytorch\n",
    "#!export $DGLBACKEND\n",
    "#import os\n",
    "#os.environ[\"DGLBACKEND\"] = \"pytorch\"\n",
    "#print(os.environ[\"DGLBACKEND\"])\n",
    "import dgl\n",
    "import numpy as np\n",
    "import torch as th\n",
    "\n",
    "#!pip install forgi\n",
    "import forgi\n",
    "import forgi.graph.bulge_graph as fgb\n",
    "import forgi.threedee as ft\n",
    "import forgi.threedee.model.coarse_grain as ftmc\n",
    "\n",
    "\n",
    "import matplotlib.pyplot as plt\n",
    "import networkx as nx\n",
    "import os\n"
   ]
  },
  {
   "cell_type": "code",
   "execution_count": 2,
   "id": "_MuRd2MIU0bz",
   "metadata": {
    "colab": {
     "base_uri": "https://localhost:8080/"
    },
    "id": "_MuRd2MIU0bz",
    "outputId": "69df6353-8c50-4ca3-daf9-4a96a7f6dc33"
   },
   "outputs": [
    {
     "name": "stdout",
     "output_type": "stream",
     "text": [
      "1.10.0\n",
      "True\n"
     ]
    }
   ],
   "source": [
    "print(th.__version__)\n",
    "print(th.cuda.is_available())\n",
    "\n",
    "#!tar -xf data.tar.xz"
   ]
  },
  {
   "cell_type": "markdown",
   "id": "n2IxR1AxZdYn",
   "metadata": {
    "id": "n2IxR1AxZdYn"
   },
   "source": [
    "TODO:\n",
    "*  include checkpoints, that save model parameters for later testing **DONE**\n",
    "*  how to avoid negative RMSD predicitons? --> select the right model parameters\n",
    "*  **implement gpu usage**\n",
    "*  use dgl.save_graph() to store a graph, so the structure can be used for several steps?\n",
    "*  use forgi.threedee.model.coarse_grain.CoarseGrainRNA.rotate() to rotate cg RNAs and see if the classification changes\n",
    "*  future --> find where ernwin writes/stores output of structure for each n steps\n",
    "*  finetune the model\n",
    "*  make larger batch of training data for testing\n",
    "*  include logger (maybe wandb?)\n",
    "\n"
   ]
  },
  {
   "cell_type": "code",
   "execution_count": 4,
   "id": "81afa4b6-ee92-4662-826b-de338ca595cf",
   "metadata": {
    "id": "81afa4b6-ee92-4662-826b-de338ca595cf",
    "tags": []
   },
   "outputs": [],
   "source": [
    "#Graph Building\n",
    "\n",
    "#load coarse grain file\n",
    "def load_cg_file(file): \n",
    "    cg = ftmc.CoarseGrainRNA.from_bg_file(file) \n",
    "    c_dict = dict(cg.coords)\n",
    "    t_dict = dict(cg.twists)\n",
    "    coord_dict = {}\n",
    "    twist_dict = {}\n",
    "    for e in c_dict:\n",
    "        a = th.from_numpy(c_dict[e][0])\n",
    "        b = th.from_numpy(c_dict[e][1])\n",
    "        coord_dict[e] = a, b\n",
    "        if e in t_dict:\n",
    "            c = th.from_numpy(t_dict[e][0])\n",
    "            d = th.from_numpy(t_dict[e][1])\n",
    "            twist_dict[e] = c, d\n",
    "        \n",
    "    # Get elements and neighbours:\n",
    "    connections = {}\n",
    "    for elem in cg.sorted_element_iterator():\n",
    "        neighbours = cg.connections(elem)\n",
    "        if elem not in connections:\n",
    "            connections[elem] = cg.connections(elem)\n",
    "    return coord_dict, twist_dict, connections\n",
    "\n",
    "def build_dgl_graph(coord_dict, twist_dict, connections):\n",
    "    #dictionary to convert type\n",
    "    type_transl = {\n",
    "        \"h\": [1, 0, 0, 0, 0, 0],\n",
    "        \"i\": [0, 1, 0, 0, 0, 0],\n",
    "        \"m\": [0, 0, 1, 0, 0, 0],\n",
    "        \"s\": [0, 0, 0, 1, 0, 0],\n",
    "        \"f\": [0, 0, 0, 0, 1, 0],\n",
    "        \"t\": [0, 0, 0, 0, 0, 1]\n",
    "    } \n",
    "\n",
    "    #encode nodes numerically for dgl graph\n",
    "    num_graph = {}\n",
    "    elem_count = {}\n",
    "    for num, n in enumerate(sorted(connections)):\n",
    "        num_graph[n] = num\n",
    "        if n[0] not in elem_count:\n",
    "            elem_count[n[0]] = 1\n",
    "        else:\n",
    "            elem_count[n[0]] += 1\n",
    "\n",
    "    #build graph and edges\n",
    "    u = []\n",
    "    v = []\n",
    "    for node in connections:\n",
    "        for c in connections[node]:\n",
    "            u.append(num_graph[node])\n",
    "            v.append(num_graph[c])\n",
    "\n",
    "    graph = dgl.graph((th.tensor(u), th.tensor(v)))\n",
    "\n",
    "    #initialise node attributes\n",
    "    graph.ndata[\"type\"] = th.zeros(graph.num_nodes(), 6, dtype=th.float32)\n",
    "    graph.ndata[\"coord\"] = th.zeros(graph.num_nodes(), 6, dtype=th.float32) #seperate coords into 2 sets of 3, so that the information of start and end is added?\n",
    "    graph.ndata[\"twist\"] = th.zeros(graph.num_nodes(), 6, dtype=th.float32)\n",
    "\n",
    "    for elem in connections:\n",
    "        graph.ndata[\"type\"][num_graph[elem]] = th.tensor(type_transl[elem[0]], dtype=th.float32) \n",
    "        graph.ndata[\"coord\"][num_graph[elem]] = th.tensor(np.concatenate(coord_dict[elem]), dtype=th.float32)\n",
    "        if elem in twist_dict:\n",
    "            graph.ndata[\"twist\"][num_graph[elem]] = th.tensor(np.concatenate(twist_dict[elem]), dtype=th.float32)\n",
    "  \n",
    "    return graph\n"
   ]
  },
  {
   "cell_type": "code",
   "execution_count": 5,
   "id": "65010c86-88ed-4940-b36f-5af93ea50a6d",
   "metadata": {
    "id": "65010c86-88ed-4940-b36f-5af93ea50a6d"
   },
   "outputs": [],
   "source": [
    "#create a dict with name and rmsd as labels\n",
    "def get_rmsd_dict(rmsd_list):\n",
    "    rmsd_dict = {}\n",
    "    with open(rmsd_list, \"r\") as fh:\n",
    "        for line in fh.readlines():\n",
    "            name, rmsd = (line.rstrip()).split(\"\\t\")\n",
    "            rmsd_dict[name] = float(rmsd)\n",
    "    return rmsd_dict\n"
   ]
  },
  {
   "cell_type": "code",
   "execution_count": 6,
   "id": "ZU_znRFH141n",
   "metadata": {
    "id": "ZU_znRFH141n"
   },
   "outputs": [],
   "source": [
    "#Graph Dataset Class\n",
    "#TODO: adapt, so it can stand alone\n",
    "\n",
    "from dgl.data import DGLDataset\n",
    "class CGDataset(DGLDataset):\n",
    "    def __init__(self, directory, rmsd_list):\n",
    "        self.file_path = directory\n",
    "        self.rmsd_list = rmsd_list\n",
    "        super(CGDataset, self).__init__(name=\"cgRNA\")\n",
    "        \n",
    "        \n",
    "    def process(self):\n",
    "        self.graphs = []\n",
    "        rmsd_dict = get_rmsd_dict(self.rmsd_list)\n",
    "        self.labels = []\n",
    "        \n",
    "        files = []\n",
    "        filenames = next(os.walk(self.file_path), (None, None, []))[2]\n",
    "\n",
    "        for file in filenames:\n",
    "            if file.endswith(\".cg\"):\n",
    "                files.append(file)\n",
    "                self.labels.append(rmsd_dict[file])\n",
    "\n",
    "        for struc in files:\n",
    "            coord_dict, twist_dict, connections = load_cg_file(os.path.join(self.file_path, struc))\n",
    "            graph = build_dgl_graph(coord_dict, twist_dict, connections)\n",
    "            self.graphs.append(build_dgl_graph(coord_dict, twist_dict, connections))\n",
    "\n",
    "        self.labels = th.tensor(self.labels)\n",
    "  \n",
    "    def __getitem__(self, i):\n",
    "        return self.graphs[i], self.labels[i]\n",
    "\n",
    "    def __len__(self):\n",
    "        return len(self.graphs)\n",
    "    \n",
    "    #def save(self):\n",
    "     #   dgl.save_graphs(\"./play_set/training_cg_graphs.dgl\", self.graphs, labels=self.labels)\n"
   ]
  },
  {
   "cell_type": "code",
   "execution_count": 11,
   "id": "fec1a7b3-8adc-45a3-83ab-7cb02f31a4af",
   "metadata": {
    "id": "fec1a7b3-8adc-45a3-83ab-7cb02f31a4af"
   },
   "outputs": [],
   "source": [
    "#Model\n",
    "import dgl.nn as dglnn\n",
    "import torch.nn.functional as F\n",
    "import dgl.function as fn\n",
    "from dgl.geometry import neighbor_matching\n",
    "\n",
    "#Coarse Grain RNA Classifier Model\n",
    "class CG_Classifier(th.nn.Module):\n",
    "    def __init__(self, num_features):\n",
    "        self.c = 0\n",
    "        super(CG_Classifier, self).__init__()\n",
    "        \n",
    "        self.conv1 = dglnn.TAGConv(6, 200, k=2, activation=F.elu)\n",
    "        self.conv2 = dglnn.TAGConv(200, 150, k=2, activation=F.elu)\n",
    "        self.conv3 = dglnn.TAGConv(150, 100, k=2, activation=F.elu)\n",
    "        #self.conv4 = dglnn.TAGConv(100, 50, k=2, activation=F.elu)\n",
    "        #self.conv5 = dglnn.TAGConv(50, 25, k=2, activation=F.elu)\n",
    "        \n",
    "        self.sage_conv1 = dglnn.SAGEConv(100*num_features, 100, 'pool') # sageconv 'pool' 'gcn'\n",
    "        self.sage_conv2 = dglnn.SAGEConv(100, 60, 'pool') \n",
    "        self.sage_conv3 = dglnn.SAGEConv(60, 40, 'pool')  \n",
    "        #self.sage_conv4 = dglnn.SAGEConv(40, 30, 'pool') \n",
    "        #self.sage_conv5 = dglnn.SAGEConv(30, 20, 'pool')\n",
    "        \n",
    "        self.readout = dglnn.AvgPooling() #SumPooling() #dglnn.Set2Set(20, 3, 3) # AvgPooling worked best\n",
    "        \n",
    "        self.classify = th.nn.Sequential(\n",
    "            th.nn.Linear(40, 512),\n",
    "            th.nn.ELU(),\n",
    "            th.nn.Linear(512, 512),\n",
    "            th.nn.ELU(),\n",
    "            th.nn.Linear(512, 512),\n",
    "            th.nn.ELU(),\n",
    "            th.nn.Linear(512, 512),\n",
    "            th.nn.ELU(),\n",
    "            th.nn.Linear(512, 1)\n",
    "        )\n",
    "        \n",
    "    def forward(self, g):\n",
    "        #treat node features separately\n",
    "        nt = g.ndata[\"type\"]\n",
    "        nc = g.ndata[\"coord\"]\n",
    "        nw = g.ndata[\"twist\"]\n",
    "        \n",
    "        nt = self.conv1(g, nt)\n",
    "        nt = self.conv2(g, nt)\n",
    "        nt = self.conv3(g, nt)\n",
    "        #nt = self.conv4(g, nt)\n",
    "        #nt = self.conv5(g, nt)\n",
    "\n",
    "        nc = self.conv1(g, nc)\n",
    "        nc = self.conv2(g, nc)\n",
    "        nc = self.conv3(g, nc)\n",
    "        #nc = self.conv4(g, nc)\n",
    "        #nc = self.conv5(g, nc)\n",
    "        \n",
    "        nw = self.conv1(g, nw)\n",
    "        nw = self.conv2(g, nw)\n",
    "        nw = self.conv3(g, nw)\n",
    "        #nw = self.conv4(g, nw)\n",
    "        #nw = self.conv5(g, nw)\n",
    "        \n",
    "        #combine the features\n",
    "        g.ndata[\"combi\"] = th.cat((nt, nc, nw), 1)\n",
    "\n",
    "        combi = g.ndata[\"combi\"]\n",
    "        combi = self.sage_conv1(g, combi)\n",
    "        combi = self.sage_conv2(g, combi)\n",
    "        combi = self.sage_conv3(g, combi)\n",
    "        #combi = self.sage_conv4(g, combi)\n",
    "        #combi = self.sage_conv5(g, combi)\n",
    "        \n",
    "        tcw = self.readout(g, combi)\n",
    "        \n",
    "        #mean in dim 0 is used to get rid of list in list tensor.. i.e. shape [x, 1] becomes [x]\n",
    "        tcw_mean = tcw.mean(dim=0) #dgl.mean_nodes(g, combi)\n",
    "        \n",
    "        return self.classify(tcw_mean)"
   ]
  },
  {
   "cell_type": "code",
   "execution_count": 8,
   "id": "j4O333bvAQ1V",
   "metadata": {
    "id": "j4O333bvAQ1V"
   },
   "outputs": [],
   "source": [
    "#Training Set\n",
    "import dgl.dataloading as dtl\n",
    "\n",
    "training_dir = \"./data/training_set\"\n",
    "rmsd_list = \"./data/train_rmsd_list.txt\"\n",
    "\n",
    "training_dataset = CGDataset(training_dir, rmsd_list)\n"
   ]
  },
  {
   "cell_type": "code",
   "execution_count": 9,
   "id": "bq8dpernrILf",
   "metadata": {
    "id": "bq8dpernrILf"
   },
   "outputs": [],
   "source": [
    "#Validation Set\n",
    "val_dir = \"./data/val_set\"\n",
    "val_rmsd = \"./data/val_rmsd_list.txt\"\n",
    "\n",
    "val_dataset = CGDataset(val_dir, val_rmsd)\n",
    "\n",
    "val_dataloader = dtl.pytorch.GraphDataLoader(val_dataset)"
   ]
  },
  {
   "cell_type": "code",
   "execution_count": 21,
   "id": "2943be90-6647-4c26-b967-a2563a142877",
   "metadata": {
    "colab": {
     "base_uri": "https://localhost:8080/",
     "height": 1000
    },
    "id": "2943be90-6647-4c26-b967-a2563a142877",
    "outputId": "7fc7d5c6-6279-43e5-cdb0-e08be7ea4b61"
   },
   "outputs": [
    {
     "name": "stdout",
     "output_type": "stream",
     "text": [
      "Epoch 0: Training loss 11.2390, Validation loss 16.4160, learning rate: 0.00097\n",
      "Epoch 5: Training loss 4.0720, Validation loss 15.2401, learning rate: 0.00335\n",
      "Epoch 10: Training loss 4.0322, Validation loss 14.4716, learning rate: 0.00572\n",
      "Epoch 15: Training loss 5.8366, Validation loss 13.6825, learning rate: 0.00810\n",
      "Epoch 20: Training loss 3.5660, Validation loss 13.4127, learning rate: 0.00953\n",
      "Epoch 25: Training loss 3.3391, Validation loss 12.4762, learning rate: 0.00715\n",
      "Epoch 30: Training loss 2.3470, Validation loss 11.7774, learning rate: 0.00478\n",
      "Epoch 35: Training loss 1.6643, Validation loss 12.6812, learning rate: 0.00240\n",
      "Epoch 40: Training loss 1.1869, Validation loss 13.4417, learning rate: 0.00097\n",
      "Epoch 45: Training loss 1.6187, Validation loss 13.7872, learning rate: 0.00335\n",
      "Epoch 50: Training loss 1.6029, Validation loss 15.0335, learning rate: 0.00572\n",
      "Epoch 55: Training loss 1.7853, Validation loss 12.1610, learning rate: 0.00810\n",
      "Epoch 60: Training loss 1.8298, Validation loss 12.2636, learning rate: 0.00953\n",
      "Epoch 65: Training loss 1.2878, Validation loss 12.0888, learning rate: 0.00715\n",
      "Epoch 70: Training loss 0.8084, Validation loss 11.7801, learning rate: 0.00478\n",
      "Epoch 75: Training loss 0.5175, Validation loss 12.2093, learning rate: 0.00240\n",
      "Epoch 80: Training loss 0.1408, Validation loss 12.6663, learning rate: 0.00097\n",
      "Epoch 85: Training loss 0.2784, Validation loss 12.4703, learning rate: 0.00335\n",
      "Epoch 90: Training loss 0.5086, Validation loss 12.9360, learning rate: 0.00572\n",
      "Epoch 95: Training loss 0.6538, Validation loss 13.0863, learning rate: 0.00810\n",
      "Epoch 100: Training loss 0.8018, Validation loss 11.3547, learning rate: 0.00953\n",
      "Epoch 105: Training loss 0.7407, Validation loss 12.6588, learning rate: 0.00715\n",
      "Epoch 110: Training loss 0.4033, Validation loss 12.1503, learning rate: 0.00478\n",
      "Epoch 115: Training loss 0.0890, Validation loss 12.5708, learning rate: 0.00240\n",
      "Epoch 120: Training loss 0.0270, Validation loss 12.4150, learning rate: 0.00098\n",
      "Epoch 125: Training loss 0.0382, Validation loss 12.4823, learning rate: 0.00335\n",
      "Epoch 130: Training loss 0.2058, Validation loss 12.3525, learning rate: 0.00573\n",
      "Epoch 135: Training loss 0.3632, Validation loss 11.7856, learning rate: 0.00810\n",
      "Epoch 140: Training loss 0.6409, Validation loss 13.0054, learning rate: 0.00952\n",
      "Epoch 145: Training loss 0.2524, Validation loss 12.6127, learning rate: 0.00715\n",
      "Epoch 150: Training loss 0.1063, Validation loss 12.8031, learning rate: 0.00477\n",
      "Epoch 155: Training loss 0.0217, Validation loss 12.5668, learning rate: 0.00240\n",
      "Epoch 160: Training loss 0.0059, Validation loss 12.5192, learning rate: 0.00098\n",
      "Epoch 165: Training loss 0.0052, Validation loss 12.5144, learning rate: 0.00335\n",
      "Epoch 170: Training loss 0.0159, Validation loss 12.4966, learning rate: 0.00573\n",
      "Epoch 175: Training loss 0.0757, Validation loss 12.4663, learning rate: 0.00810\n",
      "Epoch 180: Training loss 0.3300, Validation loss 13.3009, learning rate: 0.00952\n",
      "Epoch 185: Training loss 0.1321, Validation loss 12.1738, learning rate: 0.00715\n",
      "Epoch 190: Training loss 0.0517, Validation loss 12.1189, learning rate: 0.00477\n",
      "Epoch 195: Training loss 0.0046, Validation loss 12.1446, learning rate: 0.00240\n",
      "Training took 54.37 minutes\n",
      "Minimum Training Loss 0.0019 in epoch 199\n",
      "Minimum Validation Loss 11.2633 in epoch 32\n"
     ]
    },
    {
     "data": {
      "image/png": "[encoded data removed]",
      "text/plain": [
       "<Figure size 432x288 with 1 Axes>"
      ]
     },
     "metadata": {
      "needs_background": "light"
     },
     "output_type": "display_data"
    }
   ],
   "source": [
    "#Training\n",
    "import time\n",
    "start = time.perf_counter()\n",
    "model = CG_Classifier(\n",
    "    num_features=3 #len(graph.ndata)\n",
    ")\n",
    "\n",
    "b_size = 64\n",
    "train_dataloader = dtl.pytorch.GraphDataLoader(training_dataset, batch_size=b_size, shuffle=True)\n",
    "\n",
    "opt = th.optim.SGD(model.parameters(), lr=1e-2, momentum=0.9) #Adam(model.parameters(), lr=1e-3)\n",
    "scheduler = th.optim.lr_scheduler.CyclicLR(opt, 5e-4, 1e-2, step_size_up=20)\n",
    "model.train()\n",
    "\n",
    "epochs = 200\n",
    "\n",
    "\n",
    "#training setup\n",
    "val_losses = []\n",
    "epoch_losses = []\n",
    "for epoch in range(epochs):\n",
    "    epoch_loss = 0\n",
    "    \n",
    "    for iter, (batched_graph, batch_labels) in enumerate(train_dataloader):\n",
    "        l = []\n",
    "        for graph in dgl.unbatch(batched_graph):\n",
    "            pred = model(graph)\n",
    "            l.append(pred)\n",
    "        \n",
    "        logits = th.cat(l)\n",
    "        loss = F.smooth_l1_loss(logits, batch_labels, reduction='mean') # smooth_l1_loss\n",
    "\n",
    "        opt.zero_grad()\n",
    "        loss.backward()\n",
    "        opt.step()\n",
    "        epoch_loss += loss.detach().item()\n",
    "\n",
    "    scheduler.step()\n",
    "\n",
    "    epoch_loss /= (iter + 1)\n",
    "    epoch_losses.append(epoch_loss)\n",
    "\n",
    "    #val setup\n",
    "    val_loss = 0\n",
    "    for i, (v_graph, v_label) in enumerate(val_dataloader):\n",
    "        val_pred = model(v_graph)\n",
    "        v_loss = F.smooth_l1_loss(val_pred, v_label, reduction='mean')  # smooth_l1_loss\n",
    "        val_loss += v_loss.detach().item()\n",
    "\n",
    "    val_loss /= (i + 1)\n",
    "    \n",
    "    val_losses.append(val_loss)\n",
    "    \n",
    "    if epoch >= 20:\n",
    "        th.save(model.state_dict(), \"model_data/model_epoch\" + str(epoch) + \".pth\")\n",
    "    \n",
    "    if epoch % 5 == 0:\n",
    "        print(\"Epoch {}: Training loss {:.4f}, Validation loss {:.4f}, learning rate: {:.5f}\".format(epoch, epoch_loss, val_loss, scheduler.get_last_lr()[0]))\n",
    "        \n",
    "end = time.perf_counter()\n",
    "\n",
    "print(\"Training took {:.2f} minutes\".format((end - start)/60))\n",
    "print(\"Minimum Training Loss {:.4f} in epoch {}\".format(min(epoch_losses), epoch_losses.index(min(epoch_losses))))\n",
    "print(\"Minimum Validation Loss {:.4f} in epoch {}\".format(min(val_losses), val_losses.index(min(val_losses))))\n",
    "\n",
    "#plot the training run\n",
    "plt.plot(epoch_losses)\n",
    "plt.plot(val_losses, 'r')\n",
    "plt.title(\"Training Loss\")\n",
    "plt.ylim(ymax=15, ymin=0)\n",
    "plt.draw()"
   ]
  },
  {
   "cell_type": "code",
   "execution_count": 28,
   "id": "ed5b41a5-5213-49df-bd67-9984f67183f5",
   "metadata": {
    "colab": {
     "base_uri": "https://localhost:8080/",
     "height": 281
    },
    "id": "ed5b41a5-5213-49df-bd67-9984f67183f5",
    "outputId": "4a0594fa-255d-4bf4-fb4b-55f761a3b36c"
   },
   "outputs": [
    {
     "data": {
      "image/png": "[encoded data removed]",
      "text/plain": [
       "<Figure size 432x288 with 1 Axes>"
      ]
     },
     "metadata": {
      "needs_background": "light"
     },
     "output_type": "display_data"
    }
   ],
   "source": [
    "#plot the training run\n",
    "plt.plot(epoch_losses)\n",
    "plt.plot(val_losses, 'r')\n",
    "plt.title(\"Training Loss\")\n",
    "plt.ylim(ymax = 17, ymin = 0)\n",
    "plt.axvline(x = 113, c = 'g', ls = ':')\n",
    "plt.draw()"
   ]
  },
  {
   "cell_type": "code",
   "execution_count": 23,
   "id": "AArBQDKxIIBf",
   "metadata": {
    "id": "AArBQDKxIIBf"
   },
   "outputs": [],
   "source": [
    "#Test Data\n",
    "test_dir = \"./data/test_set\"\n",
    "test_rmsd = \"./data/test_rmsd_list.txt\"\n",
    "\n",
    "test_dataset = CGDataset(test_dir, test_rmsd)\n",
    "\n",
    "test_dataloader = dtl.pytorch.GraphDataLoader(test_dataset)"
   ]
  },
  {
   "cell_type": "code",
   "execution_count": 29,
   "id": "eUo0_OJpxrV4",
   "metadata": {
    "colab": {
     "base_uri": "https://localhost:8080/",
     "height": 455
    },
    "id": "eUo0_OJpxrV4",
    "outputId": "6bde702c-94a8-45dc-a654-8776f0b9a111"
   },
   "outputs": [
    {
     "name": "stdout",
     "output_type": "stream",
     "text": [
      "tensor([27.5580]) tensor([27.5518], grad_fn=<AddBackward0>) 0.006244659423828125\n",
      "tensor([0.]) tensor([26.3927], grad_fn=<AddBackward0>) 26.3927059173584\n",
      "Mean Test loss: \t 6.9915\n",
      "Std. Dev. of Test loss:  6.3131\n",
      "Min loss: \t\t 0.0062\n",
      "First Quantile: \t 1.1362\n",
      "Median: \t\t 5.4102\n",
      "Third Quantile: \t 11.4635\n",
      "Max Loss: \t\t 26.3927\n"
     ]
    },
    {
     "data": {
      "image/png": "[encoded data removed]",
      "text/plain": [
       "<Figure size 432x288 with 1 Axes>"
      ]
     },
     "metadata": {
      "needs_background": "light"
     },
     "output_type": "display_data"
    }
   ],
   "source": [
    "#Test\n",
    "import math\n",
    "\n",
    "#model = CG_Classifier(num_features=3)\n",
    "\n",
    "model.load_state_dict(th.load(\"model_data/model_epoch113.pth\"))\n",
    "model.eval()\n",
    "\n",
    "max_label = 0\n",
    "max_loss = 0\n",
    "max_pred = 0\n",
    "min_label = math.inf\n",
    "min_loss = math.inf\n",
    "min_pred = math.inf\n",
    "test_losses = []\n",
    "for test_graph, test_label in test_dataloader:\n",
    "    test_pred = model(test_graph)\n",
    "    test_loss = F.l1_loss(test_pred, test_label).item() #smooth_l1_loss\n",
    "    test_losses.append(test_loss)\n",
    "    if test_loss > max_loss:\n",
    "        max_loss = test_loss\n",
    "        max_label = test_label\n",
    "        max_pred = test_pred\n",
    "    if test_loss < min_loss:\n",
    "        min_loss = test_loss\n",
    "        min_label = test_label\n",
    "        min_pred = test_pred\n",
    "    if test_pred < 0:\n",
    "        print(test_label, test_pred)\n",
    "\n",
    "print(min_label, min_pred, min_loss)\n",
    "print(max_label, max_pred, max_loss)\n",
    "test_mean = np.mean(test_losses)\n",
    "test_std = np.std(test_losses)\n",
    "test_fq = np.quantile(test_losses, q = 0.25)\n",
    "test_median = np.median(test_losses)\n",
    "test_tq = np.quantile(test_losses, q = 0.75)\n",
    "print(\"Mean Test loss: \\t {:.4f}\".format(test_mean))\n",
    "print(\"Std. Dev. of Test loss:  {:.4f}\".format(test_std))\n",
    "print(\"Min loss: \\t\\t {:.4f}\".format(min(test_losses)))\n",
    "print(\"First Quantile: \\t {:.4f}\".format(test_fq))\n",
    "print(\"Median: \\t\\t {:.4f}\".format(test_median))\n",
    "print(\"Third Quantile: \\t {:.4f}\".format(test_tq))\n",
    "print(\"Max Loss: \\t\\t {:.4f}\".format(max(test_losses)))\n",
    "\n",
    "#print(sorted(test_losses)[-5:])\n",
    "\n",
    "plt.plot(sorted(test_losses))\n",
    "plt.title(\"Sorted Test Losses\")\n",
    "plt.axhline(y = test_fq, color = 'r')\n",
    "plt.axhline(y = test_median, color = 'r')\n",
    "plt.axhline(y = test_tq, color = 'r')\n",
    "plt.draw()"
   ]
  },
  {
   "cell_type": "code",
   "execution_count": null,
   "id": "35ebadfa-2a66-46ea-ac4d-e6ff32b2205b",
   "metadata": {
    "colab": {
     "base_uri": "https://localhost:8080/"
    },
    "id": "35ebadfa-2a66-46ea-ac4d-e6ff32b2205b",
    "outputId": "91faabfb-249f-4f47-a431-3fa756f17313"
   },
   "outputs": [
    {
     "name": "stdout",
     "output_type": "stream",
     "text": [
      "Graph\n",
      " Graph(num_nodes=12, num_edges=24,\n",
      "      ndata_schemes={'type': Scheme(shape=(6,), dtype=torch.float32), 'coord': Scheme(shape=(6,), dtype=torch.float32), 'twist': Scheme(shape=(6,), dtype=torch.float32)}\n",
      "      edata_schemes={})\n",
      "Coords\n",
      " tensor([[-16.2003,  25.8341,  -9.3669,  -0.8601,  41.7801,  -5.0967],\n",
      "        [-37.3710,  27.7035, -16.8027, -50.1810,  23.7290, -25.6145],\n",
      "        [ -0.4467,  28.9303,   4.6981,   5.9378,  43.9982,  -1.4396],\n",
      "        [  0.0000,  15.3020,   1.0000, -20.7810,  27.7567, -10.5808],\n",
      "        [-20.7810,  27.7567, -10.5808, -27.2883,  29.1766, -16.1930],\n",
      "        [-27.2883,  29.1766, -16.1930,   2.8537,  19.2841,   4.1874],\n",
      "        [  2.8537,  19.2841,   4.1874,   0.0000,  15.3020,   1.0000],\n",
      "        [  0.0000,   0.0000,   1.0000,   0.0000,  15.3020,   1.0000],\n",
      "        [-20.7810,  27.7567, -10.5808, -16.2003,  25.8341,  -9.3669],\n",
      "        [-27.2883,  29.1766, -16.1930, -37.3710,  27.7035, -16.8027],\n",
      "        [  2.8537,  19.2841,   4.1874,  -0.4467,  28.9303,   4.6981],\n",
      "        [  0.0000,   0.0000,   1.0000,  -3.9470, -11.6721,   8.3097]])\n",
      "Adjacency\n",
      " tensor(indices=tensor([[ 3,  6, 11,  7,  8,  3,  0,  4,  8,  8,  9,  4,  1,  5,\n",
      "                         9,  9, 10,  5,  2,  6, 10,  7,  7, 10],\n",
      "                       [ 7,  7,  7,  3,  3,  8,  8,  8,  0,  4,  4,  9,  9,  9,\n",
      "                         1,  5,  5, 10, 10, 10,  2, 11,  6,  6]]),\n",
      "       values=tensor([1., 1., 1., 1., 1., 1., 1., 1., 1., 1., 1., 1., 1., 1.,\n",
      "                      1., 1., 1., 1., 1., 1., 1., 1., 1., 1.]),\n",
      "       size=(12, 12), nnz=24, layout=torch.sparse_coo)\n",
      "Adjacency new\n",
      " tensor([[0.0000e+00, 0.0000e+00, 0.0000e+00, 0.0000e+00, 0.0000e+00, 0.0000e+00],\n",
      "        [0.0000e+00, 0.0000e+00, 4.3078e-30, 0.0000e+00, 0.0000e+00, 0.0000e+00],\n",
      "        [0.0000e+00, 4.3078e-30, 2.4000e+01, 0.0000e+00, 0.0000e+00, 0.0000e+00],\n",
      "        [0.0000e+00, 0.0000e+00, 0.0000e+00, 0.0000e+00, 0.0000e+00, 0.0000e+00],\n",
      "        [0.0000e+00, 0.0000e+00, 0.0000e+00, 0.0000e+00, 0.0000e+00, 0.0000e+00],\n",
      "        [0.0000e+00, 0.0000e+00, 0.0000e+00, 0.0000e+00, 0.0000e+00, 0.0000e+00]],\n",
      "       grad_fn=<MmBackward0>)\n",
      "feature\n",
      " tensor([[ 0.0000e+00,  0.0000e+00,  0.0000e+00,  0.0000e+00,  0.0000e+00,\n",
      "          0.0000e+00,  0.0000e+00,  0.0000e+00,  0.0000e+00,  0.0000e+00],\n",
      "        [ 8.2629e-29, -6.2396e-29,  7.5508e-30, -2.9423e-29, -6.1558e-29,\n",
      "         -4.1696e-29,  1.0356e-29,  2.0964e-29, -3.9570e-29, -2.4402e-29],\n",
      "        [ 1.2426e+03,  1.1420e+02,  3.3931e+02, -4.9434e+02, -4.1618e+01,\n",
      "         -7.5523e+02, -2.9847e+02,  1.9830e+02, -4.7252e+02,  1.1900e+02],\n",
      "        [ 0.0000e+00,  0.0000e+00,  0.0000e+00,  0.0000e+00,  0.0000e+00,\n",
      "          0.0000e+00,  0.0000e+00,  0.0000e+00,  0.0000e+00,  0.0000e+00],\n",
      "        [ 0.0000e+00,  0.0000e+00,  0.0000e+00,  0.0000e+00,  0.0000e+00,\n",
      "          0.0000e+00,  0.0000e+00,  0.0000e+00,  0.0000e+00,  0.0000e+00],\n",
      "        [ 0.0000e+00,  0.0000e+00,  0.0000e+00,  0.0000e+00,  0.0000e+00,\n",
      "          0.0000e+00,  0.0000e+00,  0.0000e+00,  0.0000e+00,  0.0000e+00]],\n",
      "       grad_fn=<MmBackward0>)\n",
      "Set2Set\n",
      "tensor([[-5.8577e-02,  5.0255e-02, -2.0195e-01, -7.6275e-02, -4.9203e-02,\n",
      "         -2.7482e-01, -3.7208e+01,  2.7725e+01, -1.6787e+01, -4.9971e+01,\n",
      "          2.3792e+01, -2.5477e+01]], grad_fn=<CatBackward0>)\n"
     ]
    }
   ],
   "source": [
    "#play ground for diffpool\n",
    "#adapted from: https://github.com/dmlc/dgl/blob/master/examples/pytorch/diffpool/model/dgl_layers/gnn.py\n",
    "import numpy as np\n",
    "import dgl.nn as dglnn\n",
    "import torch.nn.functional as F\n",
    "\n",
    "test_g = training_dataset[0][0]\n",
    "\n",
    "#Diffpool returns a new adjacency matrix\n",
    "# --> difficult/cant be used with the graph structure in dgl\n",
    "# --> use pytorch geometric instead of dgl (or in addition?) when trying out diffpool?\n",
    "\n",
    "def diffpool(g, feat):\n",
    "    feat_gc = dglnn.SAGEConv(6, 10, 'pool')\n",
    "    pool_gc = dglnn.SAGEConv(10, 6, 'pool')\n",
    "\n",
    "    feat = feat_gc(g, feat)\n",
    "    device = feat.device\n",
    "\n",
    "    assign_tensor = pool_gc(g, feat)  # size = (sum_N, N_a), N_a is num of nodes in pooled graph.\n",
    "    assign_tensor = F.softmax(assign_tensor, dim=1)\n",
    "    assign_tensor = th.split(assign_tensor, g.batch_num_nodes().tolist())\n",
    "    assign_tensor = th.block_diag(*assign_tensor)  # size = (sum_N, batch_size * N_a)\n",
    "\n",
    "    h = th.matmul(th.t(assign_tensor), feat)\n",
    "    adj = g.adjacency_matrix(transpose=True, ctx=device)\n",
    "    adj_new = th.sparse.mm(adj, assign_tensor)\n",
    "    adj_new = th.mm(th.t(assign_tensor), adj_new)\n",
    "\n",
    "    print(\"Graph\\n\", g)\n",
    "    print(\"Coords\\n\",g.ndata[\"coord\"])\n",
    "    print(\"Adjacency\\n\",adj)\n",
    "    print(\"Adjacency new\\n\",adj_new)\n",
    "    print(\"feature\\n\",h)\n",
    "    return adj_new, h\n",
    "\n",
    "\n",
    "feat = test_g.ndata[\"coord\"]\n",
    "\n",
    "new, h = diffpool(test_g, feat)\n",
    "#new, h = diffpool(new, h)\n",
    "\n",
    "s2s = dglnn.Set2Set(6, 3, 3)\n",
    "print(\"Set2Set\")\n",
    "print(s2s(test_g, feat))"
   ]
  },
  {
   "cell_type": "code",
   "execution_count": null,
   "id": "fb1a1064-da56-4fab-9ce5-fc0aa0952ef0",
   "metadata": {
    "id": "fb1a1064-da56-4fab-9ce5-fc0aa0952ef0"
   },
   "outputs": [],
   "source": []
  }
 ],
 "metadata": {
  "accelerator": "GPU",
  "colab": {
   "collapsed_sections": [],
   "name": "3d_classifier.ipynb",
   "provenance": []
  },
  "kernelspec": {
   "display_name": "Python 3 (ipykernel)",
   "language": "python",
   "name": "python3"
  },
  "language_info": {
   "codemirror_mode": {
    "name": "ipython",
    "version": 3
   },
   "file_extension": ".py",
   "mimetype": "text/x-python",
   "name": "python",
   "nbconvert_exporter": "python",
   "pygments_lexer": "ipython3",
   "version": "3.9.9"
  }
 },
 "nbformat": 4,
 "nbformat_minor": 5
}
