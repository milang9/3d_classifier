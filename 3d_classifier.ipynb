{
  "nbformat": 4,
  "nbformat_minor": 5,
  "metadata": {
    "kernelspec": {
      "display_name": "Python 3 (ipykernel)",
      "language": "python",
      "name": "python3"
    },
    "language_info": {
      "codemirror_mode": {
        "name": "ipython",
        "version": 3
      },
      "file_extension": ".py",
      "mimetype": "text/x-python",
      "name": "python",
      "nbconvert_exporter": "python",
      "pygments_lexer": "ipython3",
      "version": "3.9.7"
    },
    "colab": {
      "name": "3d_classifier.ipynb",
      "provenance": [],
      "collapsed_sections": []
    }
  },
  "cells": [
    {
      "cell_type": "code",
      "metadata": {
        "id": "a683650d-9deb-45f7-8d82-17d0203ec8f9"
      },
      "source": [
        "!pip install dgl\n",
        "!export DGLBACKEND=pytorch\n",
        "import dgl\n",
        "import numpy as np\n",
        "#import tensorflow as tf\n",
        "import torch as th\n",
        "\n",
        "!pip install forgi\n",
        "import forgi\n",
        "import forgi.graph.bulge_graph as fgb\n",
        "import forgi.threedee as ft\n",
        "import forgi.threedee.model.coarse_grain as ftmc\n",
        "\n",
        "\n",
        "import matplotlib.pyplot as plt\n",
        "import networkx as nx"
      ],
      "id": "a683650d-9deb-45f7-8d82-17d0203ec8f9",
      "execution_count": null,
      "outputs": []
    },
    {
      "cell_type": "code",
      "metadata": {
        "colab": {
          "base_uri": "https://localhost:8080/",
          "height": 35
        },
        "id": "_MuRd2MIU0bz",
        "outputId": "d5e1e71b-1348-413c-86ec-f8a981a71f1b"
      },
      "source": [
        "th.__version__"
      ],
      "id": "_MuRd2MIU0bz",
      "execution_count": null,
      "outputs": [
        {
          "output_type": "execute_result",
          "data": {
            "application/vnd.google.colaboratory.intrinsic+json": {
              "type": "string"
            },
            "text/plain": [
              "'1.10.0+cu111'"
            ]
          },
          "metadata": {},
          "execution_count": 67
        }
      ]
    },
    {
      "cell_type": "markdown",
      "metadata": {
        "id": "n2IxR1AxZdYn"
      },
      "source": [
        "\n",
        "Ideas: \n",
        "*   load coarse grain representation with forgi,\n",
        "*   use forgi to form a graph with nodes labeled as s/i/o/.. and twist, length, angle,...\n",
        "*   use that graph to feed into model\n",
        "*   use dgl.save_graph() to store a graph, so the structure can be used for several steps?\n",
        "*   use forgi.threedee.model.coarse_grain.CoarseGrainRNA.rotate() to rotate cg RNAs and see if the classification changes\n",
        "\n",
        "TODO:\n",
        "*  build dataloader\n",
        "*      build model\n",
        "*      simulate batches to train (while testing)\n",
        "*    future --> find where ernwin writes/stores output of structure for each n steps\n",
        "\n"
      ],
      "id": "n2IxR1AxZdYn"
    },
    {
      "cell_type": "code",
      "metadata": {
        "tags": [],
        "id": "81afa4b6-ee92-4662-826b-de338ca595cf"
      },
      "source": [
        "#Graph Building\n",
        "\n",
        "#load coarse grain file\n",
        "def load_cg_file(file): \n",
        "  cg = ftmc.CoarseGrainRNA.from_bg_file(file) \n",
        "  coord_dict = dict(cg.coords)\n",
        "  twist_dict = dict(cg.twists)\n",
        "\n",
        "  # Get elements and neighbours:\n",
        "  connections = {}\n",
        "  for elem in cg.sorted_element_iterator():\n",
        "    neighbours = cg.connections(elem)\n",
        "    if elem not in connections:\n",
        "        connections[elem] = cg.connections(elem)\n",
        "  return coord_dict, twist_dict, connections\n",
        "\n",
        "def build_dgl_graph(coord_dict, twist_dict, connections):\n",
        "  #dictionary to convert type\n",
        "  type_transl = {\"h\": 0, \"i\": 1, \"m\": 2, \"s\": 3, \"f\": 4, \"t\": 5}\n",
        "\n",
        "  #encode nodes numerically for dgl graph\n",
        "  num_graph = {}\n",
        "  elem_count = {}\n",
        "  for num, n in enumerate(sorted(connections)):\n",
        "    num_graph[n] = num\n",
        "    if n[0] not in elem_count:\n",
        "      elem_count[n[0]] = 1\n",
        "    else:\n",
        "      elem_count[n[0]] += 1\n",
        "\n",
        "  #build graph and edges\n",
        "  u = []\n",
        "  v = []\n",
        "  for node in connections:\n",
        "    for c in connections[node]:\n",
        "      u.append(num_graph[node])\n",
        "      v.append(num_graph[c])\n",
        "\n",
        "  graph = dgl.graph((th.tensor(u), th.tensor(v)))\n",
        "\n",
        "  #initialise node attributes\n",
        "  graph.ndata[\"type\"] = th.zeros(graph.num_nodes(), 1, dtype=int)\n",
        "  graph.ndata[\"coord\"] = th.zeros(graph.num_nodes(), 6, dtype=th.float64)\n",
        "  graph.ndata[\"twist\"] = th.zeros(graph.num_nodes(), 6, dtype=th.float64)\n",
        "\n",
        "  for elem in connections:\n",
        "    graph.ndata[\"type\"][num_graph[elem]] = type_transl[elem[0]] \n",
        "    graph.ndata[\"coord\"][num_graph[elem]] = th.tensor(np.concatenate(coord_dict[elem]), dtype=th.float64)\n",
        "    if elem in twist_dict:\n",
        "      graph.ndata[\"twist\"][num_graph[elem]] = th.tensor(np.concatenate(twist_dict[elem]), dtype=th.float64)\n",
        "  \n",
        "  return graph\n",
        "\n"
      ],
      "id": "81afa4b6-ee92-4662-826b-de338ca595cf",
      "execution_count": null,
      "outputs": []
    },
    {
      "cell_type": "code",
      "metadata": {
        "id": "ZU_znRFH141n"
      },
      "source": [
        "#Graph Dataset Class\n",
        "#TODO: adapt, so it can stand alone\n",
        "\n",
        "from dgl.data import DGLDataset\n",
        "class CGDataset(DGLDataset):\n",
        "  def __init__(self):\n",
        "    super().__init__(name=\"cgRNA\")\n",
        "  \n",
        "  def process(self):\n",
        "    self.graphs = []\n",
        "    self.labels = [12.722, 4.891, 22.918]\n",
        "\n",
        "    for struc in [\"6cu1.cg\", \"2mis.cg\", \"1p5p.cg\"]:\n",
        "      coord_dict, twist_dict, connections = load_cg_file(struc)\n",
        "      self.graphs.append(build_dgl_graph(coord_dict, twist_dict, connections))\n",
        "\n",
        "    self.labels = th.tensor(self.labels)\n",
        "  \n",
        "  def __getitem__(self, i):\n",
        "    return self.graphs[i], self.labels[i]\n",
        "\n",
        "  def __len__(self):\n",
        "    return len(self.graphs)\n"
      ],
      "id": "ZU_znRFH141n",
      "execution_count": null,
      "outputs": []
    },
    {
      "cell_type": "code",
      "metadata": {
        "colab": {
          "base_uri": "https://localhost:8080/"
        },
        "id": "BWwHPYKZuq1b",
        "outputId": "de0d7499-4c60-4a24-d51e-334f24aa5f98"
      },
      "source": [
        "g_list = []\n",
        "glabels ={\"glabel\": th.tensor([12.722, 4.891, 22.918])} #done with: compare_RNA.py data/6CU1.pdb /home/mescalin/mgeyer/3d_classifier/6cu1.cg\n",
        "for struc in [\"6cu1.cg\", \"2mis.cg\", \"1p5p.cg\"]:\n",
        "  coord_dict, twist_dict, connections = load_cg_file(struc)\n",
        "  graph = build_dgl_graph(coord_dict, twist_dict, connections)\n",
        "  g_list.append(graph)\n",
        "\n",
        "print(\"graphs\")\n",
        "print(g_list)\n",
        "\n",
        "# save_graphs, label is rmsd\n",
        "dgl.save_graphs(\"cg_graphs.dgl\", g_list, labels=glabels)\n",
        "gs, ls = dgl.load_graphs(\"cg_graphs.dgl\")\n",
        "print(gs)\n",
        "print(ls)"
      ],
      "id": "BWwHPYKZuq1b",
      "execution_count": null,
      "outputs": [
        {
          "output_type": "stream",
          "name": "stdout",
          "text": [
            "graphs\n",
            "[Graph(num_nodes=15, num_edges=30,\n",
            "      ndata_schemes={'type': Scheme(shape=(1,), dtype=torch.int64), 'coord': Scheme(shape=(6,), dtype=torch.float64), 'twist': Scheme(shape=(6,), dtype=torch.float64)}\n",
            "      edata_schemes={}), Graph(num_nodes=4, num_edges=6,\n",
            "      ndata_schemes={'type': Scheme(shape=(1,), dtype=torch.int64), 'coord': Scheme(shape=(6,), dtype=torch.float64), 'twist': Scheme(shape=(6,), dtype=torch.float64)}\n",
            "      edata_schemes={}), Graph(num_nodes=14, num_edges=26,\n",
            "      ndata_schemes={'type': Scheme(shape=(1,), dtype=torch.int64), 'coord': Scheme(shape=(6,), dtype=torch.float64), 'twist': Scheme(shape=(6,), dtype=torch.float64)}\n",
            "      edata_schemes={})]\n",
            "[Graph(num_nodes=15, num_edges=30,\n",
            "      ndata_schemes={'twist': Scheme(shape=(6,), dtype=torch.float64), 'type': Scheme(shape=(1,), dtype=torch.int64), 'coord': Scheme(shape=(6,), dtype=torch.float64)}\n",
            "      edata_schemes={}), Graph(num_nodes=4, num_edges=6,\n",
            "      ndata_schemes={'twist': Scheme(shape=(6,), dtype=torch.float64), 'type': Scheme(shape=(1,), dtype=torch.int64), 'coord': Scheme(shape=(6,), dtype=torch.float64)}\n",
            "      edata_schemes={}), Graph(num_nodes=14, num_edges=26,\n",
            "      ndata_schemes={'twist': Scheme(shape=(6,), dtype=torch.float64), 'type': Scheme(shape=(1,), dtype=torch.int64), 'coord': Scheme(shape=(6,), dtype=torch.float64)}\n",
            "      edata_schemes={})]\n",
            "{'glabel': tensor([12.7220,  4.8910, 22.9180])}\n"
          ]
        }
      ]
    },
    {
      "cell_type": "code",
      "metadata": {
        "id": "j4O333bvAQ1V"
      },
      "source": [
        "#Dataloading\n",
        "import dgl.dataloading as dtl\n",
        "\n",
        "dataset = CGDataset()\n",
        "#graph, label = dataset[0]\n",
        "#print(graph, label)\n",
        "\n",
        "\n",
        "dataloader = dtl.pytorch.GraphDataLoader(dataset, batch_size=1)\n",
        "\n"
      ],
      "id": "j4O333bvAQ1V",
      "execution_count": null,
      "outputs": []
    },
    {
      "cell_type": "code",
      "metadata": {
        "id": "fec1a7b3-8adc-45a3-83ab-7cb02f31a4af"
      },
      "source": [
        "#Model\n",
        "'''\n",
        "#tensorflow mock up model\n",
        "def td_model():\n",
        "    model = tf.keras.Sequential([\n",
        "        dgl.nn.tensorflow.conv.GraphConv(10, 8, weight=True, bias=True),\n",
        "        dgl.nn.tensorflow.conv.GraphConv(8, 6, weight=True, bias=True),\n",
        "        dgl.nn.tensorflow.conv.GraphConv(6, 4, weight=True, bias=True),\n",
        "        tf.layers.Dense(1, activation=None)\n",
        "    ])\n",
        "'''\n",
        "# from https://docs.dgl.ai/tutorials/blitz/5_graph_classification.html\n",
        "# TODO adapt\n",
        "\n",
        "from dgl.nn import GraphConv\n",
        "\n",
        "class GCN(th.nn.Module): # feed the 3 different node attributes one after the other though the first layer. https://discuss.dgl.ai/t/getting-started-with-multiple-node-features-in-homogenous-graph/919/2\n",
        "  def __init__(self, in_feats, h_feats): # condense the 3 node attributes down to 1? see point above\n",
        "    super(GCN, self).__init__()\n",
        "    self.conv1 = GraphConv(in_feats, h_feats)\n",
        "    self.conv2 = GraphConv(h_feats, 1)\n",
        "\n",
        "    def forward(self, g, in_feat):\n",
        "      h = self.conv1(g, in_feat)\n",
        "      h = F.relu(h)\n",
        "      h = self.conv2(g, h)\n",
        "      g.ndata['h'] = h\n",
        "      return dgl.mean_nodes(g, 'h')\n",
        "\n",
        "#Coarse Grain RNA Classifier Model\n",
        "\n",
        "class CG_Classifier(th.nn.Module):\n",
        "  def __init__(self, in_dim, hidden_dim, out_dim):\n",
        "    super(CG_Classifier, self).__init__()\n",
        "\n",
        "    self.conv1 = GraphConv(in_dim, hidden_dim)\n",
        "    self.conv2 = GraphConv(hidden_dim, hidden_dim)\n",
        "    \n",
        "    self.classify = th.nn.Linear(hidden_dim, 1)\n",
        "\n",
        "  def forward(self, g, n_types, n_coord, n_twist):\n",
        "    pass"
      ],
      "id": "fec1a7b3-8adc-45a3-83ab-7cb02f31a4af",
      "execution_count": 94,
      "outputs": []
    },
    {
      "cell_type": "code",
      "metadata": {
        "id": "2943be90-6647-4c26-b967-a2563a142877",
        "colab": {
          "base_uri": "https://localhost:8080/",
          "height": 382
        },
        "outputId": "1a0aa27f-1f1b-4269-db38-6f1ba2222ce6"
      },
      "source": [
        "#Training\n",
        "# from https://docs.dgl.ai/tutorials/blitz/5_graph_classification.html\n",
        "# TODO adapt\n",
        "\n",
        "model = GCN(3 , 16)\n",
        "optimizer = th.optim.Adam(model.parameters(), lr=0.01)\n",
        "\n",
        "for epoch in range(2):\n",
        "    for batched_graph, labels in dataloader:\n",
        "        pred = model(batched_graph, batched_graph.ndata['attr'].float())\n",
        "        loss = F.cross_entropy(pred, labels)\n",
        "        optimizer.zero_grad()\n",
        "        loss.backward()\n",
        "        optimizer.step()\n",
        "\n",
        "num_correct = 0\n",
        "num_tests = 0\n",
        "for batched_graph, labels in dataloader:\n",
        "    pred = model(batched_graph, batched_graph.ndata['attr'].float())\n",
        "    num_correct += (pred.argmax(1) == labels).sum().item()\n",
        "    num_tests += len(labels)\n",
        "\n",
        "print('Test accuracy:', num_correct / num_tests)\n"
      ],
      "id": "2943be90-6647-4c26-b967-a2563a142877",
      "execution_count": null,
      "outputs": [
        {
          "output_type": "error",
          "ename": "KeyError",
          "evalue": "ignored",
          "traceback": [
            "\u001b[0;31m---------------------------------------------------------------------------\u001b[0m",
            "\u001b[0;31mKeyError\u001b[0m                                  Traceback (most recent call last)",
            "\u001b[0;32m<ipython-input-92-118ff4cb8824>\u001b[0m in \u001b[0;36m<module>\u001b[0;34m()\u001b[0m\n\u001b[1;32m      5\u001b[0m \u001b[0;32mfor\u001b[0m \u001b[0mepoch\u001b[0m \u001b[0;32min\u001b[0m \u001b[0mrange\u001b[0m\u001b[0;34m(\u001b[0m\u001b[0;36m2\u001b[0m\u001b[0;34m)\u001b[0m\u001b[0;34m:\u001b[0m\u001b[0;34m\u001b[0m\u001b[0;34m\u001b[0m\u001b[0m\n\u001b[1;32m      6\u001b[0m     \u001b[0;32mfor\u001b[0m \u001b[0mbatched_graph\u001b[0m\u001b[0;34m,\u001b[0m \u001b[0mlabels\u001b[0m \u001b[0;32min\u001b[0m \u001b[0mdataloader\u001b[0m\u001b[0;34m:\u001b[0m\u001b[0;34m\u001b[0m\u001b[0;34m\u001b[0m\u001b[0m\n\u001b[0;32m----> 7\u001b[0;31m         \u001b[0mpred\u001b[0m \u001b[0;34m=\u001b[0m \u001b[0mmodel\u001b[0m\u001b[0;34m(\u001b[0m\u001b[0mbatched_graph\u001b[0m\u001b[0;34m,\u001b[0m \u001b[0mbatched_graph\u001b[0m\u001b[0;34m.\u001b[0m\u001b[0mndata\u001b[0m\u001b[0;34m[\u001b[0m\u001b[0;34m'attr'\u001b[0m\u001b[0;34m]\u001b[0m\u001b[0;34m.\u001b[0m\u001b[0mfloat\u001b[0m\u001b[0;34m(\u001b[0m\u001b[0;34m)\u001b[0m\u001b[0;34m)\u001b[0m\u001b[0;34m\u001b[0m\u001b[0;34m\u001b[0m\u001b[0m\n\u001b[0m\u001b[1;32m      8\u001b[0m         \u001b[0mloss\u001b[0m \u001b[0;34m=\u001b[0m \u001b[0mF\u001b[0m\u001b[0;34m.\u001b[0m\u001b[0mcross_entropy\u001b[0m\u001b[0;34m(\u001b[0m\u001b[0mpred\u001b[0m\u001b[0;34m,\u001b[0m \u001b[0mlabels\u001b[0m\u001b[0;34m)\u001b[0m\u001b[0;34m\u001b[0m\u001b[0;34m\u001b[0m\u001b[0m\n\u001b[1;32m      9\u001b[0m         \u001b[0moptimizer\u001b[0m\u001b[0;34m.\u001b[0m\u001b[0mzero_grad\u001b[0m\u001b[0;34m(\u001b[0m\u001b[0;34m)\u001b[0m\u001b[0;34m\u001b[0m\u001b[0;34m\u001b[0m\u001b[0m\n",
            "\u001b[0;32m/usr/local/lib/python3.7/dist-packages/dgl/view.py\u001b[0m in \u001b[0;36m__getitem__\u001b[0;34m(self, key)\u001b[0m\n\u001b[1;32m     64\u001b[0m             \u001b[0;32mreturn\u001b[0m \u001b[0mret\u001b[0m\u001b[0;34m\u001b[0m\u001b[0;34m\u001b[0m\u001b[0m\n\u001b[1;32m     65\u001b[0m         \u001b[0;32melse\u001b[0m\u001b[0;34m:\u001b[0m\u001b[0;34m\u001b[0m\u001b[0;34m\u001b[0m\u001b[0m\n\u001b[0;32m---> 66\u001b[0;31m             \u001b[0;32mreturn\u001b[0m \u001b[0mself\u001b[0m\u001b[0;34m.\u001b[0m\u001b[0m_graph\u001b[0m\u001b[0;34m.\u001b[0m\u001b[0m_get_n_repr\u001b[0m\u001b[0;34m(\u001b[0m\u001b[0mself\u001b[0m\u001b[0;34m.\u001b[0m\u001b[0m_ntid\u001b[0m\u001b[0;34m,\u001b[0m \u001b[0mself\u001b[0m\u001b[0;34m.\u001b[0m\u001b[0m_nodes\u001b[0m\u001b[0;34m)\u001b[0m\u001b[0;34m[\u001b[0m\u001b[0mkey\u001b[0m\u001b[0;34m]\u001b[0m\u001b[0;34m\u001b[0m\u001b[0;34m\u001b[0m\u001b[0m\n\u001b[0m\u001b[1;32m     67\u001b[0m \u001b[0;34m\u001b[0m\u001b[0m\n\u001b[1;32m     68\u001b[0m     \u001b[0;32mdef\u001b[0m \u001b[0m__setitem__\u001b[0m\u001b[0;34m(\u001b[0m\u001b[0mself\u001b[0m\u001b[0;34m,\u001b[0m \u001b[0mkey\u001b[0m\u001b[0;34m,\u001b[0m \u001b[0mval\u001b[0m\u001b[0;34m)\u001b[0m\u001b[0;34m:\u001b[0m\u001b[0;34m\u001b[0m\u001b[0;34m\u001b[0m\u001b[0m\n",
            "\u001b[0;32m/usr/local/lib/python3.7/dist-packages/dgl/frame.py\u001b[0m in \u001b[0;36m__getitem__\u001b[0;34m(self, name)\u001b[0m\n\u001b[1;32m    391\u001b[0m             \u001b[0mColumn\u001b[0m \u001b[0mdata\u001b[0m\u001b[0;34m.\u001b[0m\u001b[0;34m\u001b[0m\u001b[0;34m\u001b[0m\u001b[0m\n\u001b[1;32m    392\u001b[0m         \"\"\"\n\u001b[0;32m--> 393\u001b[0;31m         \u001b[0;32mreturn\u001b[0m \u001b[0mself\u001b[0m\u001b[0;34m.\u001b[0m\u001b[0m_columns\u001b[0m\u001b[0;34m[\u001b[0m\u001b[0mname\u001b[0m\u001b[0;34m]\u001b[0m\u001b[0;34m.\u001b[0m\u001b[0mdata\u001b[0m\u001b[0;34m\u001b[0m\u001b[0;34m\u001b[0m\u001b[0m\n\u001b[0m\u001b[1;32m    394\u001b[0m \u001b[0;34m\u001b[0m\u001b[0m\n\u001b[1;32m    395\u001b[0m     \u001b[0;32mdef\u001b[0m \u001b[0m__setitem__\u001b[0m\u001b[0;34m(\u001b[0m\u001b[0mself\u001b[0m\u001b[0;34m,\u001b[0m \u001b[0mname\u001b[0m\u001b[0;34m,\u001b[0m \u001b[0mdata\u001b[0m\u001b[0;34m)\u001b[0m\u001b[0;34m:\u001b[0m\u001b[0;34m\u001b[0m\u001b[0;34m\u001b[0m\u001b[0m\n",
            "\u001b[0;31mKeyError\u001b[0m: 'attr'"
          ]
        }
      ]
    },
    {
      "cell_type": "code",
      "metadata": {
        "id": "8c5496b5-b452-4450-8a2e-b78d68da0de3"
      },
      "source": [
        ""
      ],
      "id": "8c5496b5-b452-4450-8a2e-b78d68da0de3",
      "execution_count": null,
      "outputs": []
    }
  ]
}