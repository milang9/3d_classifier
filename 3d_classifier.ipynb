{
 "cells": [
  {
   "cell_type": "code",
   "execution_count": 1,
   "id": "a683650d-9deb-45f7-8d82-17d0203ec8f9",
   "metadata": {
    "colab": {
     "base_uri": "https://localhost:8080/"
    },
    "id": "a683650d-9deb-45f7-8d82-17d0203ec8f9",
    "outputId": "e611a436-f63b-458b-e0df-8d2f6475f6e6"
   },
   "outputs": [
    {
     "name": "stderr",
     "output_type": "stream",
     "text": [
      "Using backend: pytorch[12:49:49] /opt/dgl/src/runtime/tensordispatch.cc:43: TensorDispatcher: dlopen failed: libtorch_cuda_cpp.so: cannot open shared object file: No such file or directory\n",
      "\n"
     ]
    }
   ],
   "source": [
    "#!pip install dgl\n",
    "#!DGLBACKEND=pytorch\n",
    "#!export $DGLBACKEND\n",
    "#import os\n",
    "#os.environ[\"DGLBACKEND\"] = \"pytorch\"\n",
    "#print(os.environ[\"DGLBACKEND\"])\n",
    "import dgl\n",
    "import numpy as np\n",
    "import torch as th\n",
    "\n",
    "#!pip install forgi\n",
    "import forgi\n",
    "import forgi.graph.bulge_graph as fgb\n",
    "import forgi.threedee as ft\n",
    "import forgi.threedee.model.coarse_grain as ftmc\n",
    "\n",
    "\n",
    "import matplotlib.pyplot as plt\n",
    "import networkx as nx\n",
    "import os\n"
   ]
  },
  {
   "cell_type": "code",
   "execution_count": 2,
   "id": "_MuRd2MIU0bz",
   "metadata": {
    "colab": {
     "base_uri": "https://localhost:8080/"
    },
    "id": "_MuRd2MIU0bz",
    "outputId": "34d4d5a6-6ab3-43cc-9c96-701d03f2cd15"
   },
   "outputs": [
    {
     "name": "stdout",
     "output_type": "stream",
     "text": [
      "1.10.0\n",
      "True\n"
     ]
    }
   ],
   "source": [
    "print(th.__version__)\n",
    "print(th.cuda.is_available())\n",
    "#!xz -d -v data.tar.xz\n",
    "#!tar -xf data.tar.xz"
   ]
  },
  {
   "cell_type": "markdown",
   "id": "n2IxR1AxZdYn",
   "metadata": {
    "id": "n2IxR1AxZdYn"
   },
   "source": [
    "TODO:\n",
    "*  **include checkpoints, that save model parameters for later testing**\n",
    "*  implement gpu usage\n",
    "*  use dgl.save_graph() to store a graph, so the structure can be used for several steps?\n",
    "*  use forgi.threedee.model.coarse_grain.CoarseGrainRNA.rotate() to rotate cg RNAs and see if the classification changes\n",
    "*  future --> find where ernwin writes/stores output of structure for each n steps\n",
    "*  finetune the model\n",
    "*  make larger batch of training data for testing\n",
    "*  include logger (maybe wandb?)\n",
    "\n"
   ]
  },
  {
   "cell_type": "code",
   "execution_count": 3,
   "id": "81afa4b6-ee92-4662-826b-de338ca595cf",
   "metadata": {
    "id": "81afa4b6-ee92-4662-826b-de338ca595cf",
    "tags": []
   },
   "outputs": [],
   "source": [
    "#Graph Building\n",
    "\n",
    "#load coarse grain file\n",
    "def load_cg_file(file): \n",
    "    cg = ftmc.CoarseGrainRNA.from_bg_file(file) \n",
    "    c_dict = dict(cg.coords)\n",
    "    t_dict = dict(cg.twists)\n",
    "    coord_dict = {}\n",
    "    twist_dict = {}\n",
    "    for e in c_dict:\n",
    "        a = th.from_numpy(c_dict[e][0])\n",
    "        b = th.from_numpy(c_dict[e][1])\n",
    "        coord_dict[e] = a, b\n",
    "        if e in t_dict:\n",
    "            c = th.from_numpy(t_dict[e][0])\n",
    "            d = th.from_numpy(t_dict[e][1])\n",
    "            twist_dict[e] = c, d\n",
    "        \n",
    "    # Get elements and neighbours:\n",
    "    connections = {}\n",
    "    for elem in cg.sorted_element_iterator():\n",
    "        neighbours = cg.connections(elem)\n",
    "        if elem not in connections:\n",
    "            connections[elem] = cg.connections(elem)\n",
    "    return coord_dict, twist_dict, connections\n",
    "\n",
    "def build_dgl_graph(coord_dict, twist_dict, connections):\n",
    "    #dictionary to convert type\n",
    "    type_transl = {\n",
    "        \"h\": [1, 0, 0, 0, 0, 0],\n",
    "        \"i\": [0, 1, 0, 0, 0, 0],\n",
    "        \"m\": [0, 0, 1, 0, 0, 0],\n",
    "        \"s\": [0, 0, 0, 1, 0, 0],\n",
    "        \"f\": [0, 0, 0, 0, 1, 0],\n",
    "        \"t\": [0, 0, 0, 0, 0, 1]\n",
    "    } \n",
    "\n",
    "    #encode nodes numerically for dgl graph\n",
    "    num_graph = {}\n",
    "    elem_count = {}\n",
    "    for num, n in enumerate(sorted(connections)):\n",
    "        num_graph[n] = num\n",
    "        if n[0] not in elem_count:\n",
    "            elem_count[n[0]] = 1\n",
    "        else:\n",
    "            elem_count[n[0]] += 1\n",
    "\n",
    "    #build graph and edges\n",
    "    u = []\n",
    "    v = []\n",
    "    for node in connections:\n",
    "        for c in connections[node]:\n",
    "            u.append(num_graph[node])\n",
    "            v.append(num_graph[c])\n",
    "\n",
    "    graph = dgl.graph((th.tensor(u), th.tensor(v)))\n",
    "\n",
    "    #initialise node attributes\n",
    "    graph.ndata[\"type\"] = th.zeros(graph.num_nodes(), 6, dtype=th.float32)\n",
    "    graph.ndata[\"coord\"] = th.zeros(graph.num_nodes(), 6, dtype=th.float32) #seperate coords into 2 sets of 3, so that the information of start and end is added?\n",
    "    graph.ndata[\"twist\"] = th.zeros(graph.num_nodes(), 6, dtype=th.float32)\n",
    "\n",
    "    for elem in connections:\n",
    "        graph.ndata[\"type\"][num_graph[elem]] = th.tensor(type_transl[elem[0]], dtype=th.float32) \n",
    "        graph.ndata[\"coord\"][num_graph[elem]] = th.tensor(np.concatenate(coord_dict[elem]), dtype=th.float32)\n",
    "        if elem in twist_dict:\n",
    "            graph.ndata[\"twist\"][num_graph[elem]] = th.tensor(np.concatenate(twist_dict[elem]), dtype=th.float32)\n",
    "  \n",
    "    return graph\n"
   ]
  },
  {
   "cell_type": "code",
   "execution_count": 4,
   "id": "65010c86-88ed-4940-b36f-5af93ea50a6d",
   "metadata": {
    "id": "65010c86-88ed-4940-b36f-5af93ea50a6d"
   },
   "outputs": [],
   "source": [
    "#create a dict with name and rmsd as labels\n",
    "def get_rmsd_dict(rmsd_list):\n",
    "    #rmsd_list = \"./play_set/RMSD_list.txt\"\n",
    "    rmsd_dict = {}\n",
    "    with open(rmsd_list, \"r\") as fh:\n",
    "        for line in fh.readlines():\n",
    "            name, rmsd = (line.rstrip()).split(\"\\t\")\n",
    "            rmsd_dict[name] = float(rmsd)\n",
    "    return rmsd_dict\n"
   ]
  },
  {
   "cell_type": "code",
   "execution_count": 5,
   "id": "ZU_znRFH141n",
   "metadata": {
    "id": "ZU_znRFH141n"
   },
   "outputs": [],
   "source": [
    "#Graph Dataset Class\n",
    "#TODO: adapt, so it can stand alone\n",
    "\n",
    "from dgl.data import DGLDataset\n",
    "class CGDataset(DGLDataset):\n",
    "    def __init__(self, directory, rmsd_list):\n",
    "        self.file_path = directory\n",
    "        self.rmsd_list = rmsd_list\n",
    "        super(CGDataset, self).__init__(name=\"cgRNA\")\n",
    "        \n",
    "        \n",
    "    def process(self):\n",
    "        self.graphs = []\n",
    "        rmsd_dict = get_rmsd_dict(self.rmsd_list)\n",
    "        self.labels = []\n",
    "        \n",
    "        files = []\n",
    "        filenames = next(os.walk(self.file_path), (None, None, []))[2]\n",
    "\n",
    "        for file in filenames:\n",
    "            if file.endswith(\".cg\"):\n",
    "                files.append(file)\n",
    "                self.labels.append(rmsd_dict[file])\n",
    "\n",
    "        for struc in files:\n",
    "            coord_dict, twist_dict, connections = load_cg_file(os.path.join(self.file_path, struc))\n",
    "            graph = build_dgl_graph(coord_dict, twist_dict, connections)\n",
    "            self.graphs.append(build_dgl_graph(coord_dict, twist_dict, connections))\n",
    "\n",
    "        self.labels = th.tensor(self.labels)\n",
    "  \n",
    "    def __getitem__(self, i):\n",
    "        return self.graphs[i], self.labels[i]\n",
    "\n",
    "    def __len__(self):\n",
    "        return len(self.graphs)\n",
    "    \n",
    "    #def save(self):\n",
    "     #   dgl.save_graphs(\"./play_set/training_cg_graphs.dgl\", self.graphs, labels=self.labels)\n"
   ]
  },
  {
   "cell_type": "code",
   "execution_count": 6,
   "id": "j4O333bvAQ1V",
   "metadata": {
    "id": "j4O333bvAQ1V"
   },
   "outputs": [],
   "source": [
    "#Dataloading\n",
    "import dgl.dataloading as dtl\n",
    "\n",
    "b_size = 50\n",
    "\n",
    "#load from cg files directly\n",
    "\n",
    "training_dir = \"./data/training_set\"\n",
    "rmsd_list = \"./data/train_rmsd_list.txt\"\n",
    "\n",
    "training_dataset = CGDataset(training_dir, rmsd_list)\n",
    "\n",
    "#add randomisation as in Defining Data Loader from https://docs.dgl.ai/tutorials/blitz/5_graph_classification.html\n",
    "train_dataloader = dtl.pytorch.GraphDataLoader(training_dataset, batch_size=b_size, shuffle=True) \n"
   ]
  },
  {
   "cell_type": "code",
   "execution_count": 7,
   "id": "bq8dpernrILf",
   "metadata": {
    "id": "bq8dpernrILf"
   },
   "outputs": [],
   "source": [
    "#Validation set\n",
    "val_dir = \"./data/val_set\"\n",
    "val_rmsd = \"./data/val_rmsd_list.txt\"\n",
    "\n",
    "val_dataset = CGDataset(val_dir, val_rmsd)\n",
    "\n",
    "val_dataloader = dtl.pytorch.GraphDataLoader(val_dataset)"
   ]
  },
  {
   "cell_type": "code",
   "execution_count": 8,
   "id": "35ebadfa-2a66-46ea-ac4d-e6ff32b2205b",
   "metadata": {
    "colab": {
     "base_uri": "https://localhost:8080/"
    },
    "id": "35ebadfa-2a66-46ea-ac4d-e6ff32b2205b",
    "outputId": "91faabfb-249f-4f47-a431-3fa756f17313"
   },
   "outputs": [
    {
     "name": "stdout",
     "output_type": "stream",
     "text": [
      "Graph\n",
      " Graph(num_nodes=17, num_edges=34,\n",
      "      ndata_schemes={'type': Scheme(shape=(6,), dtype=torch.float32), 'coord': Scheme(shape=(6,), dtype=torch.float32), 'twist': Scheme(shape=(6,), dtype=torch.float32)}\n",
      "      edata_schemes={})\n",
      "Coords\n",
      " tensor([[15.7932, 43.2518, 44.4225, 32.4941, 36.0944, 32.0234],\n",
      "        [29.1592, 23.0009, 31.6902, 16.3806, 25.0607, 28.6761],\n",
      "        [ 8.5252, 49.1145, 17.0933,  3.3985, 46.4399, 27.3754],\n",
      "        [ 0.9190, 43.9246, 31.0739,  8.1466, 43.5489, 44.7858],\n",
      "        [18.3822, 45.5333,  0.6701, 14.8431, 50.2545,  6.0717],\n",
      "        [30.9417, 22.0632,  2.4842, 38.2261, 11.9077, 21.0450],\n",
      "        [ 0.0000, 20.3960,  1.0000, 20.0505, 44.6210, -1.0544],\n",
      "        [20.0505, 44.6210, -1.0544, 28.5922, 21.0815,  2.8092],\n",
      "        [28.5922, 21.0815,  2.8092,  0.0000, 20.3960,  1.0000],\n",
      "        [ 0.0000,  0.0000,  1.0000,  0.0000, 20.3960,  1.0000],\n",
      "        [20.0505, 44.6210, -1.0544, 18.3822, 45.5333,  0.6701],\n",
      "        [14.8431, 50.2545,  6.0717,  8.5252, 49.1145, 17.0933],\n",
      "        [ 3.3985, 46.4399, 27.3754,  0.9190, 43.9246, 31.0739],\n",
      "        [ 8.1466, 43.5489, 44.7858, 15.7932, 43.2518, 44.4225],\n",
      "        [28.5922, 21.0815,  2.8092, 30.9417, 22.0632,  2.4842],\n",
      "        [38.2261, 11.9077, 21.0450, 29.1592, 23.0009, 31.6902],\n",
      "        [ 0.0000,  0.0000,  1.0000,  6.8944, -9.3213, -4.8248]])\n",
      "Adjacency\n",
      " tensor(indices=tensor([[ 6,  8, 16,  9, 10,  6,  4,  7,  4,  2, 11, 12,  2,  3,\n",
      "                         3,  0, 13, 12, 13, 10, 11, 10, 14,  7,  5,  8, 14, 15,\n",
      "                         5,  1, 15,  9, 14,  9],\n",
      "                       [ 9,  9,  9,  6,  6, 10, 10, 10, 11, 11,  2,  2, 12, 12,\n",
      "                        13, 13,  0,  3,  3,  4,  4,  7,  7, 14, 14, 14,  5,  5,\n",
      "                        15, 15,  1,  8,  8, 16]]),\n",
      "       values=tensor([1., 1., 1., 1., 1., 1., 1., 1., 1., 1., 1., 1., 1., 1.,\n",
      "                      1., 1., 1., 1., 1., 1., 1., 1., 1., 1., 1., 1., 1., 1.,\n",
      "                      1., 1., 1., 1., 1., 1.]),\n",
      "       size=(17, 17), nnz=34, layout=torch.sparse_coo)\n",
      "Adjacency new\n",
      " tensor([[1.9727e+01, 3.3814e-11, 3.5622e+00, 5.7044e-37, 3.0384e-13, 2.0726e-17],\n",
      "        [3.3814e-11, 3.6736e-15, 9.4341e-01, 3.0988e-41, 1.2735e-28, 1.5756e-17],\n",
      "        [3.5622e+00, 9.4341e-01, 5.2623e+00, 1.5916e-26, 6.5408e-14, 1.5001e-12],\n",
      "        [5.7044e-37, 3.0988e-41, 1.5916e-26, 0.0000e+00, 0.0000e+00, 2.6625e-43],\n",
      "        [3.0384e-13, 1.2735e-28, 6.5408e-14, 0.0000e+00, 5.4675e-35, 1.0924e-30],\n",
      "        [2.0726e-17, 1.5756e-17, 1.5001e-12, 2.6625e-43, 1.0924e-30, 4.2995e-29]],\n",
      "       grad_fn=<MmBackward0>)\n",
      "feature\n",
      " tensor([[ 4.4280e+02, -5.2966e+01, -2.9070e+01, -2.7389e+02,  5.5048e+02,\n",
      "         -5.9464e+01, -1.9088e+02, -3.7374e+02, -5.6733e+02,  3.1428e+02],\n",
      "        [ 8.5799e+00, -2.1584e+01,  7.8515e+00,  3.7434e+00, -6.6503e-01,\n",
      "         -3.4256e+00, -1.4029e+01, -1.9769e+00,  3.0211e+00, -9.6705e-01],\n",
      "        [ 6.6659e+01, -1.2055e+02,  2.2257e+01, -8.5346e+01,  9.9247e+01,\n",
      "         -4.3540e+00, -7.5512e+01, -6.4111e+01,  5.4835e+00,  9.6696e+01],\n",
      "        [ 1.4475e-25, -3.6414e-25,  1.3246e-25,  6.3154e-26, -1.1220e-26,\n",
      "         -5.7794e-26, -2.3668e-25, -3.3352e-26,  5.0969e-26, -1.6315e-26],\n",
      "        [ 9.7882e-12,  3.5672e-12, -9.9674e-12, -1.3088e-12,  7.7633e-12,\n",
      "         -2.7351e-12,  1.6750e-12, -8.7377e-12, -1.0029e-11,  6.1016e-12],\n",
      "        [ 1.1308e-11, -2.9032e-11,  5.7470e-12,  3.8422e-12,  2.8049e-12,\n",
      "         -4.1696e-12, -1.8538e-11, -7.1838e-12,  4.2768e-12, -5.4046e-13]],\n",
      "       grad_fn=<MmBackward0>)\n",
      "Set2Set\n",
      "tensor([[-3.2034e-02, -3.9668e-02,  4.0878e-02,  9.6689e-02,  9.0849e-02,\n",
      "          2.1327e-01,  7.5458e+00,  4.3169e+01,  4.0943e+01,  1.5593e+01,\n",
      "          4.2342e+01,  4.3031e+01]], grad_fn=<CatBackward0>)\n"
     ]
    }
   ],
   "source": [
    "#play ground for diffpool\n",
    "#adapted from: https://github.com/dmlc/dgl/blob/master/examples/pytorch/diffpool/model/dgl_layers/gnn.py\n",
    "import numpy as np\n",
    "import dgl.nn as dglnn\n",
    "import torch.nn.functional as F\n",
    "\n",
    "test_g = training_dataset[0][0]\n",
    "\n",
    "#Diffpool returns a new adjacency matrix\n",
    "# --> difficult/cant be used with the graph structure in dgl\n",
    "# --> use pytorch geometric instead of dgl (or in addition?) when trying out diffpool?\n",
    "\n",
    "def diffpool(g, feat):\n",
    "    feat_gc = dglnn.SAGEConv(6, 10, 'pool')\n",
    "    pool_gc = dglnn.SAGEConv(10, 6, 'pool')\n",
    "\n",
    "    feat = feat_gc(g, feat)\n",
    "    device = feat.device\n",
    "\n",
    "    assign_tensor = pool_gc(g, feat)  # size = (sum_N, N_a), N_a is num of nodes in pooled graph.\n",
    "    assign_tensor = F.softmax(assign_tensor, dim=1)\n",
    "    assign_tensor = th.split(assign_tensor, g.batch_num_nodes().tolist())\n",
    "    assign_tensor = th.block_diag(*assign_tensor)  # size = (sum_N, batch_size * N_a)\n",
    "\n",
    "    h = th.matmul(th.t(assign_tensor), feat)\n",
    "    adj = g.adjacency_matrix(transpose=True, ctx=device)\n",
    "    adj_new = th.sparse.mm(adj, assign_tensor)\n",
    "    adj_new = th.mm(th.t(assign_tensor), adj_new)\n",
    "\n",
    "    print(\"Graph\\n\", g)\n",
    "    print(\"Coords\\n\",g.ndata[\"coord\"])\n",
    "    print(\"Adjacency\\n\",adj)\n",
    "    print(\"Adjacency new\\n\",adj_new)\n",
    "    print(\"feature\\n\",h)\n",
    "    return adj_new, h\n",
    "\n",
    "\n",
    "feat = test_g.ndata[\"coord\"]\n",
    "\n",
    "new, h = diffpool(test_g, feat)\n",
    "#new, h = diffpool(new, h)\n",
    "\n",
    "s2s = dglnn.Set2Set(6, 3, 3)\n",
    "print(\"Set2Set\")\n",
    "print(s2s(test_g, feat))"
   ]
  },
  {
   "cell_type": "code",
   "execution_count": 21,
   "id": "fec1a7b3-8adc-45a3-83ab-7cb02f31a4af",
   "metadata": {
    "id": "fec1a7b3-8adc-45a3-83ab-7cb02f31a4af"
   },
   "outputs": [],
   "source": [
    "#Model\n",
    "import dgl.nn as dglnn\n",
    "import torch.nn.functional as F\n",
    "import dgl.function as fn\n",
    "from dgl.geometry import neighbor_matching\n",
    "\n",
    "#Coarse Grain RNA Classifier Model\n",
    "class CG_Classifier(th.nn.Module):\n",
    "    def __init__(self, num_features):\n",
    "        self.c = 0\n",
    "        super(CG_Classifier, self).__init__()\n",
    "        \n",
    "        self.conv1 = dglnn.TAGConv(6, 200, k=2, activation=F.relu) #add dropout rates!\n",
    "        self.conv2 = dglnn.TAGConv(200, 150, k=2, activation=F.relu)\n",
    "        self.conv3 = dglnn.TAGConv(150, 100, k=2, activation=F.relu)\n",
    "        self.conv4 = dglnn.TAGConv(100, 50, k=2, activation=F.relu)\n",
    "        self.conv5 = dglnn.TAGConv(50, 25, k=2, activation=F.relu)\n",
    "        \n",
    "        self.sage_conv1 = dglnn.SAGEConv(25*num_features, 60, 'pool') \n",
    "        self.sage_conv2 = dglnn.SAGEConv(60, 50, 'pool')\n",
    "        self.sage_conv3 = dglnn.SAGEConv(50, 40, 'pool')\n",
    "        self.sage_conv4 = dglnn.SAGEConv(40, 30, 'pool')\n",
    "        self.sage_conv5 = dglnn.SAGEConv(30, 10, 'pool')\n",
    "        \n",
    "        self.readout = dglnn.Set2Set(10, 3, 3) #dglnn.GlobalAttentionPooling(th.nn.Linear(20, 1)) #\n",
    "        \n",
    "        self.classify = th.nn.Sequential(\n",
    "            th.nn.Linear(20, 512),\n",
    "            th.nn.ReLU(),\n",
    "            th.nn.Linear(512, 512),\n",
    "            th.nn.ReLU(),\n",
    "            th.nn.Linear(512, 512),\n",
    "            th.nn.ReLU(),\n",
    "            th.nn.Linear(512, 512),\n",
    "            th.nn.ReLU(),\n",
    "            th.nn.Linear(512, 1)\n",
    "        )\n",
    "\n",
    "    def forward(self, g):\n",
    "        #treat node features separately\n",
    "        nt = g.ndata[\"type\"]\n",
    "        nc = g.ndata[\"coord\"]\n",
    "        nw = g.ndata[\"twist\"]\n",
    "        \n",
    "        nt = self.conv1(g, nt)\n",
    "        nt = self.conv2(g, nt)\n",
    "        nt = self.conv3(g, nt)\n",
    "        nt = self.conv4(g, nt)\n",
    "        nt = self.conv5(g, nt)\n",
    "\n",
    "        nc = self.conv1(g, nc)\n",
    "        nc = self.conv2(g, nc)\n",
    "        nc = self.conv3(g, nc)\n",
    "        nc = self.conv4(g, nc)\n",
    "        nc = self.conv5(g, nc)\n",
    "        \n",
    "        nw = self.conv1(g, nw)\n",
    "        nw = self.conv2(g, nw)\n",
    "        nw = self.conv3(g, nw)\n",
    "        nw = self.conv4(g, nw)\n",
    "        nw = self.conv5(g, nw)\n",
    "        \n",
    "        #combine the features\n",
    "        g.ndata[\"combi\"] = th.cat((nt, nc, nw), 1)\n",
    "\n",
    "        combi = g.ndata[\"combi\"]\n",
    "        combi = self.sage_conv1(g, combi)\n",
    "        combi = self.sage_conv2(g, combi)\n",
    "        combi = self.sage_conv3(g, combi)\n",
    "        combi = self.sage_conv4(g, combi)\n",
    "        combi = self.sage_conv5(g, combi)\n",
    "        \n",
    "        tcw = self.readout(g, combi)\n",
    "        \n",
    "        #mean in dim 0 is used to get rid of list in list tensor.. i.e. shape [x, 1] becomes [x]\n",
    "        tcw_mean = tcw.mean(dim=0) #dgl.mean_nodes(g, combi)\n",
    "        \n",
    "        return self.classify(tcw_mean)"
   ]
  },
  {
   "cell_type": "code",
   "execution_count": 22,
   "id": "2943be90-6647-4c26-b967-a2563a142877",
   "metadata": {
    "colab": {
     "base_uri": "https://localhost:8080/",
     "height": 1000
    },
    "id": "2943be90-6647-4c26-b967-a2563a142877",
    "outputId": "c21cd277-f7c2-44e7-fda6-a42d94bf3281"
   },
   "outputs": [
    {
     "name": "stdout",
     "output_type": "stream",
     "text": [
      "Epoch 0: Training loss 12.5763, Validation loss 7.3367\n",
      "Epoch 5: Training loss 9.0194, Validation loss 7.5217\n",
      "Epoch 10: Training loss 7.0857, Validation loss 6.9333\n",
      "Epoch 15: Training loss 6.3537, Validation loss 6.5344\n",
      "Epoch 20: Training loss 6.0415, Validation loss 5.6158\n",
      "Epoch 25: Training loss 5.7665, Validation loss 6.9878\n",
      "Epoch 30: Training loss 4.8577, Validation loss 6.1095\n",
      "Epoch 35: Training loss 4.8905, Validation loss 5.4868\n",
      "Epoch 40: Training loss 2.9426, Validation loss 5.0900\n",
      "Epoch 45: Training loss 3.4646, Validation loss 5.5709\n",
      "Epoch 50: Training loss 4.1745, Validation loss 6.0686\n",
      "Epoch 55: Training loss 2.8976, Validation loss 4.6554\n",
      "Epoch 60: Training loss 2.7897, Validation loss 4.5449\n",
      "Epoch 65: Training loss 1.8667, Validation loss 4.6896\n",
      "Epoch 70: Training loss 1.4286, Validation loss 4.5485\n",
      "Epoch 75: Training loss 1.5020, Validation loss 4.4937\n",
      "Epoch 80: Training loss 1.5175, Validation loss 3.8250\n",
      "Epoch 85: Training loss 1.9555, Validation loss 4.3152\n",
      "Epoch 90: Training loss 1.7336, Validation loss 4.6056\n",
      "Epoch 95: Training loss 1.4620, Validation loss 4.7683\n",
      "Epoch 100: Training loss 7.2269, Validation loss 8.3602\n",
      "Epoch 105: Training loss 4.7979, Validation loss 6.4956\n",
      "Epoch 110: Training loss 5.4745, Validation loss 6.2694\n",
      "Epoch 115: Training loss 6.7462, Validation loss 7.8124\n",
      "Epoch 120: Training loss 4.6968, Validation loss 10.1063\n",
      "Epoch 125: Training loss 6.0598, Validation loss 7.9019\n",
      "Epoch 130: Training loss 3.9526, Validation loss 5.7540\n",
      "Epoch 135: Training loss 4.9148, Validation loss 8.0389\n",
      "Epoch 140: Training loss 4.9865, Validation loss 5.8846\n",
      "Epoch 145: Training loss 3.3818, Validation loss 5.7016\n",
      "Epoch 150: Training loss 2.8283, Validation loss 6.2372\n",
      "Epoch 155: Training loss 2.5666, Validation loss 4.8680\n",
      "Epoch 160: Training loss 2.7285, Validation loss 5.9939\n",
      "Epoch 165: Training loss 3.4741, Validation loss 5.9572\n",
      "Epoch 170: Training loss 2.7114, Validation loss 5.6173\n",
      "Epoch 175: Training loss 3.4987, Validation loss 6.0576\n",
      "Epoch 180: Training loss 4.0785, Validation loss 5.8334\n",
      "Epoch 185: Training loss 3.9221, Validation loss 6.9333\n",
      "Epoch 190: Training loss 3.0110, Validation loss 4.2074\n",
      "Epoch 195: Training loss 3.3603, Validation loss 5.4088\n",
      "Training took 29.16 minutes\n"
     ]
    },
    {
     "data": {
      "text/plain": [
       "<function matplotlib.pyplot.draw()>"
      ]
     },
     "execution_count": 22,
     "metadata": {},
     "output_type": "execute_result"
    },
    {
     "data": {
      "image/png": "[encoded data removed]",
      "text/plain": [
       "<Figure size 432x288 with 1 Axes>"
      ]
     },
     "metadata": {
      "needs_background": "light"
     },
     "output_type": "display_data"
    }
   ],
   "source": [
    "#Training\n",
    "import time\n",
    "start = time.perf_counter()\n",
    "model = CG_Classifier(\n",
    "    num_features=3 #len(graph.ndata)\n",
    ")\n",
    "\n",
    "opt = th.optim.Adam(model.parameters(), lr=8e-4)\n",
    "model.train()\n",
    "#th.autograd.set_detect_anomaly(True)\n",
    "epochs = 200\n",
    "\n",
    "#val setup\n",
    "val_losses = []\n",
    "\n",
    "#training setup\n",
    "epoch_losses = []\n",
    "for epoch in range(epochs):\n",
    "    epoch_loss = 0\n",
    "    \n",
    "    for iter, (batched_graph, batch_labels) in enumerate(train_dataloader):\n",
    "        l = []\n",
    "        for graph in dgl.unbatch(batched_graph): #ist there a way to use directly the batched_graph object?\n",
    "            pred = model(graph)\n",
    "            l.append(pred)\n",
    "        \n",
    "        logits = th.cat(l)\n",
    "        loss = F.smooth_l1_loss(logits, batch_labels, reduction='mean')\n",
    "\n",
    "        opt.zero_grad()\n",
    "        loss.backward()\n",
    "        opt.step()\n",
    "        epoch_loss += loss.detach().item()\n",
    "    \n",
    "    epoch_loss /= (iter + 1)\n",
    "    epoch_losses.append(epoch_loss)\n",
    "\n",
    "    #val setup\n",
    "    val_loss = 0\n",
    "    for i, (v_graph, v_label) in enumerate(val_dataloader):\n",
    "        val_pred = model(v_graph)\n",
    "        v_loss = F.smooth_l1_loss(val_pred, v_label, reduction='mean')\n",
    "        val_loss += v_loss.detach().item()\n",
    "\n",
    "    val_loss /= (i + 1)\n",
    "    \n",
    "    val_losses.append(val_loss)\n",
    "\n",
    "    if epoch % 5 == 0:\n",
    "        print(\"Epoch {}: Training loss {:.4f}, Validation loss {:.4f}\".format(epoch, epoch_loss, val_loss))\n",
    "        # add save step for later evaluation!\n",
    "        \n",
    "end = time.perf_counter()\n",
    "\n",
    "print(\"Training took {:.2f} minutes\".format((end - start)/60))\n",
    "\n",
    "#plot the training run\n",
    "plt.plot(epoch_losses)\n",
    "plt.plot(val_losses, 'r')\n",
    "plt.title(\"Training Loss\")\n",
    "plt.ylim(ymax=15, ymin=0)\n",
    "plt.draw()"
   ]
  },
  {
   "cell_type": "code",
   "execution_count": 25,
   "id": "ed5b41a5-5213-49df-bd67-9984f67183f5",
   "metadata": {},
   "outputs": [
    {
     "data": {
      "image/png": "[encoded data removed]",
      "text/plain": [
       "<Figure size 432x288 with 1 Axes>"
      ]
     },
     "metadata": {
      "needs_background": "light"
     },
     "output_type": "display_data"
    }
   ],
   "source": [
    "#plot the training run\n",
    "plt.plot(epoch_losses)\n",
    "plt.plot(val_losses, 'r')\n",
    "plt.title(\"Training Loss\")\n",
    "#plt.ylim(ymax=15, ymin=0)\n",
    "plt.draw()"
   ]
  },
  {
   "cell_type": "code",
   "execution_count": 28,
   "id": "eUo0_OJpxrV4",
   "metadata": {
    "colab": {
     "base_uri": "https://localhost:8080/"
    },
    "id": "eUo0_OJpxrV4",
    "outputId": "2b4717fb-92ff-48a4-8d56-b227c9de0995"
   },
   "outputs": [
    {
     "name": "stdout",
     "output_type": "stream",
     "text": [
      "tensor([0.3750]) tensor([0.3194], grad_fn=<AddBackward0>) 0.001548414584249258\n",
      "tensor([0.1650]) tensor([16.9328], grad_fn=<AddBackward0>) 16.267765045166016\n",
      "Mean Test loss: \t 3.9703\n",
      "Std. Dev. of Test loss:  3.8728\n",
      "Min loss: \t \t 0.0015\n",
      "First Quantile: \t 1.1115\n",
      "Median: \t \t 2.6632\n",
      "Third Quantile: \t 5.6287\n",
      "Max Loss: \t \t 16.2678\n",
      "[12.27177619934082, 13.534897804260254, 14.589945793151855, 14.939846992492676, 16.267765045166016]\n"
     ]
    },
    {
     "data": {
      "image/png": "[encoded data removed]",
      "text/plain": [
       "<Figure size 432x288 with 1 Axes>"
      ]
     },
     "metadata": {
      "needs_background": "light"
     },
     "output_type": "display_data"
    }
   ],
   "source": [
    "#Test\n",
    "import math\n",
    "model.eval()\n",
    "test_dir = \"./data/test_set\"\n",
    "test_rmsd = \"./data/test_rmsd_list.txt\"\n",
    "\n",
    "test_dataset = CGDataset(test_dir, test_rmsd)\n",
    "\n",
    "test_dataloader = dtl.pytorch.GraphDataLoader(test_dataset)\n",
    "\n",
    "max_label = 0\n",
    "max_loss = 0\n",
    "max_pred = 0\n",
    "min_label = math.inf\n",
    "min_loss = math.inf\n",
    "min_pred = math.inf\n",
    "test_losses = []\n",
    "for test_graph, test_label in test_dataloader:\n",
    "    test_pred = model(test_graph)\n",
    "    test_loss = F.smooth_l1_loss(test_pred, test_label).item()\n",
    "    test_losses.append(test_loss)\n",
    "    #print(\"Test Prediction: {:.4f}; true RMSD: {:.4f}; loss: {:.4f}\".format(test_pred.item(), test_label.item(), test_loss))\n",
    "    if test_loss > max_loss:\n",
    "        max_loss = test_loss\n",
    "        max_label = test_label\n",
    "        max_pred = test_pred\n",
    "    if test_loss < min_loss:\n",
    "        min_loss = test_loss\n",
    "        min_label = test_label\n",
    "        min_pred = test_pred\n",
    "    if test_pred < 0:\n",
    "        print(test_pred)\n",
    "\n",
    "print(min_label, min_pred, min_loss)\n",
    "print(max_label, max_pred, max_loss)\n",
    "test_mean = np.mean(test_losses)\n",
    "test_std = np.std(test_losses)\n",
    "test_fq = np.quantile(test_losses, q=0.25)\n",
    "test_median = np.median(test_losses)\n",
    "test_tq = np.quantile(test_losses, q=0.75)\n",
    "print(\"Mean Test loss: \\t {:.4f}\".format(test_mean))\n",
    "print(\"Std. Dev. of Test loss:  {:.4f}\".format(test_std))\n",
    "print(\"Min loss: \\t \\t {:.4f}\".format(min(test_losses)))\n",
    "print(\"First Quantile: \\t {:.4f}\".format(test_fq))\n",
    "print(\"Median: \\t \\t {:.4f}\".format(test_median))\n",
    "print(\"Third Quantile: \\t {:.4f}\".format(test_tq))\n",
    "print(\"Max Loss: \\t \\t {:.4f}\".format(max(test_losses)))\n",
    "\n",
    "print(sorted(test_losses)[-5:])\n",
    "\n",
    "plt.plot(sorted(test_losses))\n",
    "plt.axhline(y = test_fq, color = 'r')\n",
    "plt.axhline(y = test_median, color = 'r')\n",
    "plt.axhline(y = test_tq, color = 'r')\n",
    "plt.draw()"
   ]
  },
  {
   "cell_type": "code",
   "execution_count": null,
   "id": "fb1a1064-da56-4fab-9ce5-fc0aa0952ef0",
   "metadata": {
    "id": "fb1a1064-da56-4fab-9ce5-fc0aa0952ef0"
   },
   "outputs": [],
   "source": []
  }
 ],
 "metadata": {
  "accelerator": "GPU",
  "colab": {
   "collapsed_sections": [],
   "name": "3d_classifier.ipynb",
   "provenance": []
  },
  "kernelspec": {
   "display_name": "Python 3 (ipykernel)",
   "language": "python",
   "name": "python3"
  },
  "language_info": {
   "codemirror_mode": {
    "name": "ipython",
    "version": 3
   },
   "file_extension": ".py",
   "mimetype": "text/x-python",
   "name": "python",
   "nbconvert_exporter": "python",
   "pygments_lexer": "ipython3",
   "version": "3.9.7"
  }
 },
 "nbformat": 4,
 "nbformat_minor": 5
}
