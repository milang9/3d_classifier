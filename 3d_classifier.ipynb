{
  "nbformat": 4,
  "nbformat_minor": 5,
  "metadata": {
    "colab": {
      "name": "3d_classifier.ipynb",
      "provenance": [],
      "collapsed_sections": []
    },
    "kernelspec": {
      "display_name": "Python 3 (ipykernel)",
      "language": "python",
      "name": "python3"
    },
    "language_info": {
      "codemirror_mode": {
        "name": "ipython",
        "version": 3
      },
      "file_extension": ".py",
      "mimetype": "text/x-python",
      "name": "python",
      "nbconvert_exporter": "python",
      "pygments_lexer": "ipython3",
      "version": "3.9.7"
    }
  },
  "cells": [
    {
      "cell_type": "code",
      "metadata": {
        "colab": {
          "base_uri": "https://localhost:8080/"
        },
        "id": "a683650d-9deb-45f7-8d82-17d0203ec8f9",
        "outputId": "1f82f46b-4bc1-4923-f4b0-e78024ee5894"
      },
      "source": [
        "!pip install dgl\n",
        "#!DGLBACKEND=pytorch\n",
        "#!export $DGLBACKEND\n",
        "#import os\n",
        "#os.environ[\"DGLBACKEND\"] = \"pytorch\"\n",
        "#print(os.environ[\"DGLBACKEND\"])\n",
        "import dgl\n",
        "import numpy as np\n",
        "#import tensorflow as tf\n",
        "import torch as th\n",
        "\n",
        "!pip install forgi\n",
        "import forgi\n",
        "import forgi.graph.bulge_graph as fgb\n",
        "import forgi.threedee as ft\n",
        "import forgi.threedee.model.coarse_grain as ftmc\n",
        "\n",
        "\n",
        "import matplotlib.pyplot as plt\n",
        "import networkx as nx"
      ],
      "id": "a683650d-9deb-45f7-8d82-17d0203ec8f9",
      "execution_count": 1,
      "outputs": [
        {
          "output_type": "stream",
          "name": "stdout",
          "text": [
            "Collecting dgl\n",
            "  Downloading dgl-0.6.1-cp37-cp37m-manylinux1_x86_64.whl (4.4 MB)\n",
            "\u001b[K     |████████████████████████████████| 4.4 MB 4.7 MB/s \n",
            "\u001b[?25hRequirement already satisfied: scipy>=1.1.0 in /usr/local/lib/python3.7/dist-packages (from dgl) (1.4.1)\n",
            "Requirement already satisfied: networkx>=2.1 in /usr/local/lib/python3.7/dist-packages (from dgl) (2.6.3)\n",
            "Requirement already satisfied: numpy>=1.14.0 in /usr/local/lib/python3.7/dist-packages (from dgl) (1.19.5)\n",
            "Requirement already satisfied: requests>=2.19.0 in /usr/local/lib/python3.7/dist-packages (from dgl) (2.23.0)\n",
            "Requirement already satisfied: certifi>=2017.4.17 in /usr/local/lib/python3.7/dist-packages (from requests>=2.19.0->dgl) (2021.10.8)\n",
            "Requirement already satisfied: chardet<4,>=3.0.2 in /usr/local/lib/python3.7/dist-packages (from requests>=2.19.0->dgl) (3.0.4)\n",
            "Requirement already satisfied: idna<3,>=2.5 in /usr/local/lib/python3.7/dist-packages (from requests>=2.19.0->dgl) (2.10)\n",
            "Requirement already satisfied: urllib3!=1.25.0,!=1.25.1,<1.26,>=1.21.1 in /usr/local/lib/python3.7/dist-packages (from requests>=2.19.0->dgl) (1.24.3)\n",
            "Installing collected packages: dgl\n",
            "Successfully installed dgl-0.6.1\n",
            "Setting the default backend to \"pytorch\". You can change it in the ~/.dgl/config.json file or export the DGLBACKEND environment variable.  Valid options are: pytorch, mxnet, tensorflow (all lowercase)\n"
          ]
        },
        {
          "output_type": "stream",
          "name": "stderr",
          "text": [
            "DGL backend not selected or invalid.  Assuming PyTorch for now.\n",
            "Using backend: pytorch\n"
          ]
        },
        {
          "output_type": "stream",
          "name": "stdout",
          "text": [
            "Collecting forgi\n",
            "  Downloading forgi-2.0.2.tar.gz (26.6 MB)\n",
            "\u001b[K     |████████████████████████████████| 26.6 MB 61 kB/s \n",
            "\u001b[?25hRequirement already satisfied: numpy>=1.10.0 in /usr/local/lib/python3.7/dist-packages (from forgi) (1.19.5)\n",
            "Requirement already satisfied: scipy>=0.19.1 in /usr/local/lib/python3.7/dist-packages (from forgi) (1.4.1)\n",
            "Requirement already satisfied: pandas>=0.20 in /usr/local/lib/python3.7/dist-packages (from forgi) (1.1.5)\n",
            "Requirement already satisfied: future in /usr/local/lib/python3.7/dist-packages (from forgi) (0.16.0)\n",
            "Requirement already satisfied: networkx>=2.0 in /usr/local/lib/python3.7/dist-packages (from forgi) (2.6.3)\n",
            "Collecting biopython\n",
            "  Downloading biopython-1.79-cp37-cp37m-manylinux_2_5_x86_64.manylinux1_x86_64.whl (2.3 MB)\n",
            "\u001b[K     |████████████████████████████████| 2.3 MB 36.7 MB/s \n",
            "\u001b[?25hRequirement already satisfied: appdirs>=1.4 in /usr/local/lib/python3.7/dist-packages (from forgi) (1.4.4)\n",
            "Collecting logging_exceptions>=0.1.8\n",
            "  Downloading logging_exceptions-0.1.8-py2.py3-none-any.whl (10 kB)\n",
            "Requirement already satisfied: python-dateutil>=2.7.3 in /usr/local/lib/python3.7/dist-packages (from pandas>=0.20->forgi) (2.8.2)\n",
            "Requirement already satisfied: pytz>=2017.2 in /usr/local/lib/python3.7/dist-packages (from pandas>=0.20->forgi) (2018.9)\n",
            "Requirement already satisfied: six>=1.5 in /usr/local/lib/python3.7/dist-packages (from python-dateutil>=2.7.3->pandas>=0.20->forgi) (1.15.0)\n",
            "Building wheels for collected packages: forgi\n",
            "  Building wheel for forgi (setup.py) ... \u001b[?25l\u001b[?25hdone\n",
            "  Created wheel for forgi: filename=forgi-2.0.2-cp37-cp37m-linux_x86_64.whl size=27429375 sha256=6e7b3c6224eefa296eded0bf7857bd6f374460bd47bf8f6c5073a0cce7f4e203\n",
            "  Stored in directory: /root/.cache/pip/wheels/ce/5d/b2/aa4d2d9454b124485448d838d5d02bce20f5546aa9b9d40b55\n",
            "Successfully built forgi\n",
            "Installing collected packages: logging-exceptions, biopython, forgi\n",
            "Successfully installed biopython-1.79 forgi-2.0.2 logging-exceptions-0.1.8\n"
          ]
        }
      ]
    },
    {
      "cell_type": "code",
      "metadata": {
        "colab": {
          "base_uri": "https://localhost:8080/",
          "height": 35
        },
        "id": "_MuRd2MIU0bz",
        "outputId": "7c8d9f48-f053-4bbe-9939-1db458bbf3b3"
      },
      "source": [
        "th.__version__"
      ],
      "id": "_MuRd2MIU0bz",
      "execution_count": 2,
      "outputs": [
        {
          "output_type": "execute_result",
          "data": {
            "application/vnd.google.colaboratory.intrinsic+json": {
              "type": "string"
            },
            "text/plain": [
              "'1.10.0+cu111'"
            ]
          },
          "metadata": {},
          "execution_count": 2
        }
      ]
    },
    {
      "cell_type": "markdown",
      "metadata": {
        "id": "n2IxR1AxZdYn"
      },
      "source": [
        "\n",
        "Ideas: \n",
        "*   load coarse grain representation with forgi,\n",
        "*   use forgi to form a graph with nodes labeled as s/i/o/.. and twist, length, angle,...\n",
        "*   use that graph to feed into model\n",
        "*   use dgl.save_graph() to store a graph, so the structure can be used for several steps?\n",
        "*   use forgi.threedee.model.coarse_grain.CoarseGrainRNA.rotate() to rotate cg RNAs and see if the classification changes\n",
        "\n",
        "TODO:\n",
        "*  build dataloader\n",
        "*      build model\n",
        "*      simulate batches to train (while testing)\n",
        "*    future --> find where ernwin writes/stores output of structure for each n steps\n",
        "\n"
      ],
      "id": "n2IxR1AxZdYn"
    },
    {
      "cell_type": "code",
      "metadata": {
        "id": "81afa4b6-ee92-4662-826b-de338ca595cf",
        "tags": []
      },
      "source": [
        "#Graph Building\n",
        "\n",
        "#load coarse grain file\n",
        "def load_cg_file(file): \n",
        "    cg = ftmc.CoarseGrainRNA.from_bg_file(file) \n",
        "    c_dict = dict(cg.coords)\n",
        "    t_dict = dict(cg.twists)\n",
        "    coord_dict = {}\n",
        "    twist_dict = {}\n",
        "    for e in c_dict:\n",
        "        a = th.from_numpy(c_dict[e][0])\n",
        "        b = th.from_numpy(c_dict[e][1])\n",
        "        coord_dict[e] = a, b\n",
        "        if e in t_dict:\n",
        "            c = th.from_numpy(t_dict[e][0])\n",
        "            d = th.from_numpy(t_dict[e][1])\n",
        "            twist_dict[e] = c, d\n",
        "        \n",
        "    # Get elements and neighbours:\n",
        "    connections = {}\n",
        "    for elem in cg.sorted_element_iterator():\n",
        "        neighbours = cg.connections(elem)\n",
        "        if elem not in connections:\n",
        "            connections[elem] = cg.connections(elem)\n",
        "    return coord_dict, twist_dict, connections\n",
        "\n",
        "def build_dgl_graph(coord_dict, twist_dict, connections):\n",
        "    #dictionary to convert type\n",
        "    type_transl = {\n",
        "        \"h\": [1, 0, 0, 0, 0, 0],\n",
        "        \"i\": [0, 1, 0, 0, 0, 0],\n",
        "        \"m\": [0, 0, 1, 0, 0, 0],\n",
        "        \"s\": [0, 0, 0, 1, 0, 0],\n",
        "        \"f\": [0, 0, 0, 0, 1, 0],\n",
        "        \"t\": [0, 0, 0, 0, 0, 1]\n",
        "    } \n",
        "\n",
        "    #encode nodes numerically for dgl graph\n",
        "    num_graph = {}\n",
        "    elem_count = {}\n",
        "    for num, n in enumerate(sorted(connections)):\n",
        "        num_graph[n] = num\n",
        "        if n[0] not in elem_count:\n",
        "            elem_count[n[0]] = 1\n",
        "        else:\n",
        "            elem_count[n[0]] += 1\n",
        "\n",
        "    #build graph and edges\n",
        "    u = []\n",
        "    v = []\n",
        "    for node in connections:\n",
        "        for c in connections[node]:\n",
        "            u.append(num_graph[node])\n",
        "            v.append(num_graph[c])\n",
        "\n",
        "    graph = dgl.graph((th.tensor(u), th.tensor(v)))\n",
        "\n",
        "    #initialise node attributes\n",
        "    graph.ndata[\"type\"] = th.zeros(graph.num_nodes(), 6, dtype=th.float32)\n",
        "    graph.ndata[\"coord\"] = th.zeros(graph.num_nodes(), 6, dtype=th.float32) #seperate coords into 2 sets of 3, so that the information of start and end is added?\n",
        "    graph.ndata[\"twist\"] = th.zeros(graph.num_nodes(), 6, dtype=th.float32)\n",
        "\n",
        "    for elem in connections:\n",
        "        graph.ndata[\"type\"][num_graph[elem]] = th.tensor(type_transl[elem[0]], dtype=th.float32) \n",
        "        graph.ndata[\"coord\"][num_graph[elem]] = th.tensor(np.concatenate(coord_dict[elem]), dtype=th.float32)\n",
        "        if elem in twist_dict:\n",
        "            graph.ndata[\"twist\"][num_graph[elem]] = th.tensor(np.concatenate(twist_dict[elem]), dtype=th.float32)\n",
        "  \n",
        "    return graph\n",
        "\n"
      ],
      "id": "81afa4b6-ee92-4662-826b-de338ca595cf",
      "execution_count": 3,
      "outputs": []
    },
    {
      "cell_type": "code",
      "metadata": {
        "id": "ZU_znRFH141n"
      },
      "source": [
        "#Graph Dataset Class\n",
        "#TODO: adapt, so it can stand alone\n",
        "\n",
        "from dgl.data import DGLDataset\n",
        "class CGDataset(DGLDataset):\n",
        "    def __init__(self):\n",
        "        super().__init__(name=\"cgRNA\")\n",
        "  \n",
        "    def process(self):\n",
        "        self.graphs = []\n",
        "        self.labels = [12.722, 4.891, 22.918]\n",
        "\n",
        "        for struc in [\"6cu1.cg\", \"2mis.cg\", \"1p5p.cg\"]:\n",
        "            coord_dict, twist_dict, connections = load_cg_file(struc)\n",
        "            self.graphs.append(build_dgl_graph(coord_dict, twist_dict, connections))\n",
        "\n",
        "        self.labels = th.tensor(self.labels)\n",
        "  \n",
        "    def __getitem__(self, i):\n",
        "        return self.graphs[i], self.labels[i]\n",
        "\n",
        "    def __len__(self):\n",
        "        return len(self.graphs)\n"
      ],
      "id": "ZU_znRFH141n",
      "execution_count": 6,
      "outputs": []
    },
    {
      "cell_type": "code",
      "metadata": {
        "id": "BWwHPYKZuq1b"
      },
      "source": [
        "g_list = []\n",
        "glabels ={\"rmsd\": th.tensor([12.722, 4.891, 22.918])} #done with: compare_RNA.py data/6CU1.pdb /home/mescalin/mgeyer/3d_classifier/6cu1.cg\n",
        "\n",
        "for struc in [\"6cu1.cg\", \"2mis.cg\", \"1p5p.cg\"]:\n",
        "    coord_dict, twist_dict, connections = load_cg_file(struc)\n",
        "    graph = build_dgl_graph(coord_dict, twist_dict, connections)\n",
        "    g_list.append(graph)\n",
        "\n",
        "# save_graphs, label is rmsd\n",
        "dgl.save_graphs(\"cg_graphs.dgl\", g_list, labels=glabels)\n",
        "gs, ls = dgl.load_graphs(\"cg_graphs.dgl\")\n",
        "#print(gs)\n",
        "#print(ls)"
      ],
      "id": "BWwHPYKZuq1b",
      "execution_count": 83,
      "outputs": []
    },
    {
      "cell_type": "code",
      "metadata": {
        "id": "j4O333bvAQ1V"
      },
      "source": [
        "#Dataloading\n",
        "import dgl.dataloading as dtl\n",
        "\n",
        "b_size = 2\n",
        "\n",
        "dataset = CGDataset()\n",
        "#graph, label = dataset[0]\n",
        "#print(graph, label)\n",
        "\n",
        "\n",
        "dataloader = dtl.pytorch.GraphDataLoader(dataset, batch_size=b_size, shuffle=True) #add randomisation as in Defining Data Loader from https://docs.dgl.ai/tutorials/blitz/5_graph_classification.html\n",
        "\n"
      ],
      "id": "j4O333bvAQ1V",
      "execution_count": 218,
      "outputs": []
    },
    {
      "cell_type": "code",
      "metadata": {
        "id": "fec1a7b3-8adc-45a3-83ab-7cb02f31a4af"
      },
      "source": [
        "#Model\n",
        "from dgl.nn import GraphConv\n",
        "import torch.nn.functional as F\n",
        "\n",
        "# feed the 3 different node attributes one after the other though the first layer? like in https://discuss.dgl.ai/t/getting-started-with-multiple-node-features-in-homogenous-graph/919/2\n",
        "# condense the 3 node attributes down to 1? see point above\n",
        "\n",
        "\n",
        "#Coarse Grain RNA Classifier Model\n",
        "class CG_Classifier(th.nn.Module):\n",
        "    def __init__(self, in_dim, hidden_dim, num_features):\n",
        "        super(CG_Classifier, self).__init__()\n",
        "        \n",
        "        self.conv1 = GraphConv(in_dim, hidden_dim, activation=F.relu)\n",
        "        self.conv2 = GraphConv(hidden_dim, hidden_dim, activation=F.relu)\n",
        "        \n",
        "        self.max_pool = dgl.nn.MaxPooling()\n",
        "        \n",
        "        self.dense1 = th.nn.Linear(hidden_dim*num_features, 256)\n",
        "        self.dense2 = th.nn.Linear(256, 256)\n",
        "        self.dense3 = th.nn.Linear(256, 256)\n",
        "        self.classify = th.nn.Linear(256, 1)\n",
        "\n",
        "    def forward(self, g):#, n_types, n_coord, n_twist):\n",
        "        nt = g.ndata[\"type\"]\n",
        "        nc = g.ndata[\"coord\"]\n",
        "        nw = g.ndata[\"twist\"]\n",
        "\n",
        "        nt = self.conv1(g, nt)\n",
        "        nt = self.max_pool(g, nt)\n",
        "        nt = self.conv2(g, nt)\n",
        "        nt = self.max_pool(g, nt)\n",
        "        \n",
        "        nc = self.conv1(g, nc)\n",
        "        nc = self.max_pool(g, nc)\n",
        "        nc = self.conv2(g, nc)\n",
        "        nc = self.max_pool(g, nc)\n",
        "        \n",
        "        nw = self.conv1(g, nw)\n",
        "        nw = self.max_pool(g, nw)\n",
        "        nw = self.conv2(g, nw)\n",
        "        nw = self.max_pool(g, nw)\n",
        "\n",
        "        #use pooling to have still a graph representation, after 2 layers of seperate conv\n",
        "        #let conv run over the pooled graph\n",
        "\n",
        "        tcw = th.cat((nt, nc, nw), 1)\n",
        "\n",
        "        #is the mean the right approach?\n",
        "        tcw_mean = tcw.mean(dim=0)\n",
        "        tcw_mean = self.dense1(tcw_mean)\n",
        "        tcw_mean = self.dense2(tcw_mean)\n",
        "        tcw_mean = self.dense3(tcw_mean)\n",
        "        \n",
        "        return self.classify(tcw_mean)\n",
        "    "
      ],
      "id": "fec1a7b3-8adc-45a3-83ab-7cb02f31a4af",
      "execution_count": 219,
      "outputs": []
    },
    {
      "cell_type": "code",
      "metadata": {
        "colab": {
          "base_uri": "https://localhost:8080/",
          "height": 584
        },
        "id": "2943be90-6647-4c26-b967-a2563a142877",
        "outputId": "2ab8dac7-191d-4af1-86c7-9f0bc45aa800"
      },
      "source": [
        "#Training\n",
        "#TODO: figure out the loss function\n",
        "#       build a deeper neural network and how to pool\n",
        "#       tinker with hyperparameters\n",
        "\n",
        "model = CG_Classifier(\n",
        "    in_dim=6, #num of pos in type, twist, coord\n",
        "    hidden_dim=12,\n",
        "    num_features=3 #len(graph.ndata)\n",
        ")\n",
        "\n",
        "opt = th.optim.Adam(model.parameters(), lr=0.1)\n",
        "model.train()\n",
        "\n",
        "epochs = 60\n",
        "\n",
        "#temp val setup --> use dataloader for larger set\n",
        "val_losses = []\n",
        "val_label = th.tensor(0.934)\n",
        "vcoord_dict, vtwist_dict, vconnections = load_cg_file(\"1ehz.cg\")\n",
        "val_graph = build_dgl_graph(vcoord_dict, vtwist_dict, vconnections)\n",
        "\n",
        "#training setup\n",
        "epoch_losses = []\n",
        "for epoch in range(epochs):\n",
        "    epoch_loss = 0\n",
        "    \n",
        "    for iter, (batch, batch_labels) in enumerate(dataloader):\n",
        "        batch_loss = th.tensor(0, dtype=th.float32)\n",
        "        for i, batched_g in enumerate(dgl.unbatch(batch)):\n",
        "            prediction = model(batched_g)\n",
        "            batch_loss += F.smooth_l1_loss(prediction, batch_labels[i]) #F.cross_entropy(prediction, label) #th.abs((prediction - label))\n",
        "        \n",
        "        #using the mean of all losses of a single batch for backpropagation\n",
        "        loss = batch_loss/b_size\n",
        "\n",
        "        opt.zero_grad()\n",
        "        loss.backward()\n",
        "        opt.step()\n",
        "        epoch_loss += loss.detach().item()\n",
        "\n",
        "    epoch_loss /= (iter + 1)\n",
        "    if epoch % 5 == 0:\n",
        "        print('Epoch {}, loss {:.4f}'.format(epoch, epoch_loss))\n",
        "    epoch_losses.append(epoch_loss)\n",
        "\n",
        "    #val setup\n",
        "    val_pred = model(val_graph)\n",
        "    val_loss = F.smooth_l1_loss(val_pred, val_label)\n",
        "    val_losses.append(val_loss.detach().item())\n",
        "\n",
        "#plot the training run\n",
        "plt.plot(epoch_losses)\n",
        "plt.plot(val_losses, 'r')\n",
        "plt.ylim(ymax=5000, ymin=0)\n",
        "plt.draw"
      ],
      "id": "2943be90-6647-4c26-b967-a2563a142877",
      "execution_count": 243,
      "outputs": [
        {
          "output_type": "stream",
          "name": "stderr",
          "text": [
            "/usr/local/lib/python3.7/dist-packages/ipykernel_launcher.py:32: UserWarning: Using a target size (torch.Size([])) that is different to the input size (torch.Size([1])). This will likely lead to incorrect results due to broadcasting. Please ensure they have the same size.\n",
            "/usr/local/lib/python3.7/dist-packages/torch/autocast_mode.py:141: UserWarning: User provided device_type of 'cuda', but CUDA is not available. Disabling\n",
            "  warnings.warn('User provided device_type of \\'cuda\\', but CUDA is not available. Disabling')\n",
            "/usr/local/lib/python3.7/dist-packages/ipykernel_launcher.py:49: UserWarning: Using a target size (torch.Size([])) that is different to the input size (torch.Size([1])). This will likely lead to incorrect results due to broadcasting. Please ensure they have the same size.\n"
          ]
        },
        {
          "output_type": "stream",
          "name": "stdout",
          "text": [
            "Epoch 0, loss 16.0952\n",
            "Epoch 5, loss 4172.7042\n",
            "Epoch 10, loss 2123.8777\n",
            "Epoch 15, loss 1709.5049\n",
            "Epoch 20, loss 2636.1611\n",
            "Epoch 25, loss 178.4339\n",
            "Epoch 30, loss 824.8105\n",
            "Epoch 35, loss 81.4117\n",
            "Epoch 40, loss 28.3745\n",
            "Epoch 45, loss 7.3078\n",
            "Epoch 50, loss 6.0316\n",
            "Epoch 55, loss 4.6573\n"
          ]
        },
        {
          "output_type": "execute_result",
          "data": {
            "text/plain": [
              "<function matplotlib.pyplot.draw>"
            ]
          },
          "metadata": {},
          "execution_count": 243
        },
        {
          "output_type": "display_data",
          "data": {
            "image/png": "[encoded data removed]",
            "text/plain": [
              "<Figure size 432x288 with 1 Axes>"
            ]
          },
          "metadata": {
            "needs_background": "light"
          }
        }
      ]
    },
    {
      "cell_type": "code",
      "metadata": {
        "colab": {
          "base_uri": "https://localhost:8080/"
        },
        "id": "eUo0_OJpxrV4",
        "outputId": "f8108cc1-47dc-4eb4-d405-3bdd8d05b45d"
      },
      "source": [
        "#Test with 1ehz.cg\n",
        "\n",
        "test_label = th.tensor(0.934)\n",
        "tcoord_dict, ttwist_dict, tconnections = load_cg_file(\"1ehz.cg\")\n",
        "test_graph = build_dgl_graph(tcoord_dict, ttwist_dict, tconnections)\n",
        "\n",
        "\n",
        "#tn_types = test_graph.ndata[\"type\"]\n",
        "#tn_coord = test_graph.ndata[\"coord\"]\n",
        "#tn_twist = test_graph.ndata[\"twist\"]\n",
        "\n",
        "pred = model(test_graph)#, tn_types, tn_coord, tn_twist)\n",
        "loss = F.smooth_l1_loss(pred, test_label)\n",
        "print(\"Predicted RMSD of 1EHZ (3rd best cg with ernwin): {:.4f}; true RMSD: {:.4f}; loss: {:.4f}\".format(float(pred), float(test_label), float(loss)))"
      ],
      "id": "eUo0_OJpxrV4",
      "execution_count": 244,
      "outputs": [
        {
          "output_type": "stream",
          "name": "stdout",
          "text": [
            "Predicted RMSD of 1EHZ (3rd best cg with ernwin): 14.3747; true RMSD: 0.9340; loss: 12.9407\n"
          ]
        },
        {
          "output_type": "stream",
          "name": "stderr",
          "text": [
            "/usr/local/lib/python3.7/dist-packages/ipykernel_launcher.py:13: UserWarning: Using a target size (torch.Size([])) that is different to the input size (torch.Size([1])). This will likely lead to incorrect results due to broadcasting. Please ensure they have the same size.\n",
            "  del sys.path[0]\n"
          ]
        }
      ]
    }
  ]
}