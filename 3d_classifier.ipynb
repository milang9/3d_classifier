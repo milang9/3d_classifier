{
  "nbformat": 4,
  "nbformat_minor": 5,
  "metadata": {
    "colab": {
      "name": "3d_classifier.ipynb",
      "provenance": [],
      "collapsed_sections": []
    },
    "kernelspec": {
      "display_name": "Python 3 (ipykernel)",
      "language": "python",
      "name": "python3"
    },
    "language_info": {
      "codemirror_mode": {
        "name": "ipython",
        "version": 3
      },
      "file_extension": ".py",
      "mimetype": "text/x-python",
      "name": "python",
      "nbconvert_exporter": "python",
      "pygments_lexer": "ipython3",
      "version": "3.9.7"
    }
  },
  "cells": [
    {
      "cell_type": "code",
      "metadata": {
        "colab": {
          "base_uri": "https://localhost:8080/"
        },
        "id": "a683650d-9deb-45f7-8d82-17d0203ec8f9",
        "outputId": "39da3d71-9690-4642-b434-6960b63f4480"
      },
      "source": [
        "!pip install dgl\n",
        "#!DGLBACKEND=pytorch\n",
        "#!export $DGLBACKEND\n",
        "#import os\n",
        "#os.environ[\"DGLBACKEND\"] = \"pytorch\"\n",
        "#print(os.environ[\"DGLBACKEND\"])\n",
        "import dgl\n",
        "import numpy as np\n",
        "#import tensorflow as tf\n",
        "import torch as th\n",
        "\n",
        "!pip install forgi\n",
        "import forgi\n",
        "import forgi.graph.bulge_graph as fgb\n",
        "import forgi.threedee as ft\n",
        "import forgi.threedee.model.coarse_grain as ftmc\n",
        "\n",
        "\n",
        "import matplotlib.pyplot as plt\n",
        "import networkx as nx"
      ],
      "id": "a683650d-9deb-45f7-8d82-17d0203ec8f9",
      "execution_count": 2,
      "outputs": [
        {
          "output_type": "stream",
          "name": "stdout",
          "text": [
            "Collecting dgl\n",
            "  Downloading dgl-0.6.1-cp37-cp37m-manylinux1_x86_64.whl (4.4 MB)\n",
            "\u001b[K     |████████████████████████████████| 4.4 MB 5.0 MB/s \n",
            "\u001b[?25hRequirement already satisfied: numpy>=1.14.0 in /usr/local/lib/python3.7/dist-packages (from dgl) (1.19.5)\n",
            "Requirement already satisfied: scipy>=1.1.0 in /usr/local/lib/python3.7/dist-packages (from dgl) (1.4.1)\n",
            "Requirement already satisfied: networkx>=2.1 in /usr/local/lib/python3.7/dist-packages (from dgl) (2.6.3)\n",
            "Requirement already satisfied: requests>=2.19.0 in /usr/local/lib/python3.7/dist-packages (from dgl) (2.23.0)\n",
            "Requirement already satisfied: chardet<4,>=3.0.2 in /usr/local/lib/python3.7/dist-packages (from requests>=2.19.0->dgl) (3.0.4)\n",
            "Requirement already satisfied: urllib3!=1.25.0,!=1.25.1,<1.26,>=1.21.1 in /usr/local/lib/python3.7/dist-packages (from requests>=2.19.0->dgl) (1.24.3)\n",
            "Requirement already satisfied: certifi>=2017.4.17 in /usr/local/lib/python3.7/dist-packages (from requests>=2.19.0->dgl) (2021.10.8)\n",
            "Requirement already satisfied: idna<3,>=2.5 in /usr/local/lib/python3.7/dist-packages (from requests>=2.19.0->dgl) (2.10)\n",
            "Installing collected packages: dgl\n",
            "Successfully installed dgl-0.6.1\n",
            "Setting the default backend to \"pytorch\". You can change it in the ~/.dgl/config.json file or export the DGLBACKEND environment variable.  Valid options are: pytorch, mxnet, tensorflow (all lowercase)\n"
          ]
        },
        {
          "output_type": "stream",
          "name": "stderr",
          "text": [
            "DGL backend not selected or invalid.  Assuming PyTorch for now.\n",
            "Using backend: pytorch\n"
          ]
        },
        {
          "output_type": "stream",
          "name": "stdout",
          "text": [
            "Collecting forgi\n",
            "  Downloading forgi-2.0.2.tar.gz (26.6 MB)\n",
            "\u001b[K     |████████████████████████████████| 26.6 MB 62 kB/s \n",
            "\u001b[?25hRequirement already satisfied: numpy>=1.10.0 in /usr/local/lib/python3.7/dist-packages (from forgi) (1.19.5)\n",
            "Requirement already satisfied: scipy>=0.19.1 in /usr/local/lib/python3.7/dist-packages (from forgi) (1.4.1)\n",
            "Requirement already satisfied: pandas>=0.20 in /usr/local/lib/python3.7/dist-packages (from forgi) (1.1.5)\n",
            "Requirement already satisfied: future in /usr/local/lib/python3.7/dist-packages (from forgi) (0.16.0)\n",
            "Requirement already satisfied: networkx>=2.0 in /usr/local/lib/python3.7/dist-packages (from forgi) (2.6.3)\n",
            "Collecting biopython\n",
            "  Downloading biopython-1.79-cp37-cp37m-manylinux_2_5_x86_64.manylinux1_x86_64.whl (2.3 MB)\n",
            "\u001b[K     |████████████████████████████████| 2.3 MB 41.7 MB/s \n",
            "\u001b[?25hRequirement already satisfied: appdirs>=1.4 in /usr/local/lib/python3.7/dist-packages (from forgi) (1.4.4)\n",
            "Collecting logging_exceptions>=0.1.8\n",
            "  Downloading logging_exceptions-0.1.8-py2.py3-none-any.whl (10 kB)\n",
            "Requirement already satisfied: python-dateutil>=2.7.3 in /usr/local/lib/python3.7/dist-packages (from pandas>=0.20->forgi) (2.8.2)\n",
            "Requirement already satisfied: pytz>=2017.2 in /usr/local/lib/python3.7/dist-packages (from pandas>=0.20->forgi) (2018.9)\n",
            "Requirement already satisfied: six>=1.5 in /usr/local/lib/python3.7/dist-packages (from python-dateutil>=2.7.3->pandas>=0.20->forgi) (1.15.0)\n",
            "Building wheels for collected packages: forgi\n",
            "  Building wheel for forgi (setup.py) ... \u001b[?25l\u001b[?25hdone\n",
            "  Created wheel for forgi: filename=forgi-2.0.2-cp37-cp37m-linux_x86_64.whl size=27429369 sha256=67aa80d3a15561dfff854a245fe904003a2f047e48b1b1fff0e4edd4e8c27381\n",
            "  Stored in directory: /root/.cache/pip/wheels/ce/5d/b2/aa4d2d9454b124485448d838d5d02bce20f5546aa9b9d40b55\n",
            "Successfully built forgi\n",
            "Installing collected packages: logging-exceptions, biopython, forgi\n",
            "Successfully installed biopython-1.79 forgi-2.0.2 logging-exceptions-0.1.8\n"
          ]
        }
      ]
    },
    {
      "cell_type": "code",
      "metadata": {
        "colab": {
          "base_uri": "https://localhost:8080/"
        },
        "id": "_MuRd2MIU0bz",
        "outputId": "62379d24-4f54-42ff-b715-74f2eacf75a3"
      },
      "source": [
        "print(th.__version__)\n",
        "print(th.cuda.is_available())"
      ],
      "id": "_MuRd2MIU0bz",
      "execution_count": 3,
      "outputs": [
        {
          "output_type": "stream",
          "name": "stdout",
          "text": [
            "1.10.0+cu111\n",
            "False\n"
          ]
        }
      ]
    },
    {
      "cell_type": "markdown",
      "metadata": {
        "id": "n2IxR1AxZdYn"
      },
      "source": [
        "\n",
        "Ideas: \n",
        "*   load coarse grain representation with forgi,\n",
        "*   use forgi to form a graph with nodes labeled as s/i/o/.. and twist, length, angle,...\n",
        "*   use that graph to feed into model\n",
        "*   use dgl.save_graph() to store a graph, so the structure can be used for several steps?\n",
        "*   use forgi.threedee.model.coarse_grain.CoarseGrainRNA.rotate() to rotate cg RNAs and see if the classification changes\n",
        "\n",
        "TODO:\n",
        "*  automate linking of labels to cg structures!\n",
        "*  future --> find where ernwin writes/stores output of structure for each n steps\n",
        "*  finetune the model\n",
        "*  make larger batch of training data for testing\n",
        "*  include logger (maybe wandb?)\n",
        "\n"
      ],
      "id": "n2IxR1AxZdYn"
    },
    {
      "cell_type": "code",
      "metadata": {
        "id": "81afa4b6-ee92-4662-826b-de338ca595cf",
        "tags": []
      },
      "source": [
        "#Graph Building\n",
        "\n",
        "#load coarse grain file\n",
        "def load_cg_file(file): \n",
        "    cg = ftmc.CoarseGrainRNA.from_bg_file(file) \n",
        "    c_dict = dict(cg.coords)\n",
        "    t_dict = dict(cg.twists)\n",
        "    coord_dict = {}\n",
        "    twist_dict = {}\n",
        "    for e in c_dict:\n",
        "        a = th.from_numpy(c_dict[e][0])\n",
        "        b = th.from_numpy(c_dict[e][1])\n",
        "        coord_dict[e] = a, b\n",
        "        if e in t_dict:\n",
        "            c = th.from_numpy(t_dict[e][0])\n",
        "            d = th.from_numpy(t_dict[e][1])\n",
        "            twist_dict[e] = c, d\n",
        "        \n",
        "    # Get elements and neighbours:\n",
        "    connections = {}\n",
        "    for elem in cg.sorted_element_iterator():\n",
        "        neighbours = cg.connections(elem)\n",
        "        if elem not in connections:\n",
        "            connections[elem] = cg.connections(elem)\n",
        "    return coord_dict, twist_dict, connections\n",
        "\n",
        "def build_dgl_graph(coord_dict, twist_dict, connections):\n",
        "    #dictionary to convert type\n",
        "    type_transl = {\n",
        "        \"h\": [1, 0, 0, 0, 0, 0],\n",
        "        \"i\": [0, 1, 0, 0, 0, 0],\n",
        "        \"m\": [0, 0, 1, 0, 0, 0],\n",
        "        \"s\": [0, 0, 0, 1, 0, 0],\n",
        "        \"f\": [0, 0, 0, 0, 1, 0],\n",
        "        \"t\": [0, 0, 0, 0, 0, 1]\n",
        "    } \n",
        "\n",
        "    #encode nodes numerically for dgl graph\n",
        "    num_graph = {}\n",
        "    elem_count = {}\n",
        "    for num, n in enumerate(sorted(connections)):\n",
        "        num_graph[n] = num\n",
        "        if n[0] not in elem_count:\n",
        "            elem_count[n[0]] = 1\n",
        "        else:\n",
        "            elem_count[n[0]] += 1\n",
        "\n",
        "    #build graph and edges\n",
        "    u = []\n",
        "    v = []\n",
        "    for node in connections:\n",
        "        for c in connections[node]:\n",
        "            u.append(num_graph[node])\n",
        "            v.append(num_graph[c])\n",
        "\n",
        "    graph = dgl.graph((th.tensor(u), th.tensor(v)))\n",
        "\n",
        "    #initialise node attributes\n",
        "    graph.ndata[\"type\"] = th.zeros(graph.num_nodes(), 6, dtype=th.float32)\n",
        "    graph.ndata[\"coord\"] = th.zeros(graph.num_nodes(), 6, dtype=th.float32) #seperate coords into 2 sets of 3, so that the information of start and end is added?\n",
        "    graph.ndata[\"twist\"] = th.zeros(graph.num_nodes(), 6, dtype=th.float32)\n",
        "\n",
        "    for elem in connections:\n",
        "        graph.ndata[\"type\"][num_graph[elem]] = th.tensor(type_transl[elem[0]], dtype=th.float32) \n",
        "        graph.ndata[\"coord\"][num_graph[elem]] = th.tensor(np.concatenate(coord_dict[elem]), dtype=th.float32)\n",
        "        if elem in twist_dict:\n",
        "            graph.ndata[\"twist\"][num_graph[elem]] = th.tensor(np.concatenate(twist_dict[elem]), dtype=th.float32)\n",
        "  \n",
        "    return graph\n",
        "\n"
      ],
      "id": "81afa4b6-ee92-4662-826b-de338ca595cf",
      "execution_count": 4,
      "outputs": []
    },
    {
      "cell_type": "code",
      "metadata": {
        "id": "ZU_znRFH141n"
      },
      "source": [
        "#Graph Dataset Class\n",
        "#TODO: adapt, so it can stand alone\n",
        "#      link labels to files!!!!\n",
        "\n",
        "import os\n",
        "\n",
        "from dgl.data import DGLDataset\n",
        "class CGDataset(DGLDataset):\n",
        "    def __init__(self, directory):\n",
        "        self.file_path = directory\n",
        "        super(CGDataset, self).__init__(name=\"cgRNA\")#, raw_dir=directory)\n",
        "        \n",
        "        \n",
        "    def process(self):\n",
        "        self.graphs = []\n",
        "        self.labels = [12.722, 4.891, 22.918, 12.147] #get this right and link to files\n",
        "        \n",
        "        files = []\n",
        "        filenames = next(os.walk(self.file_path), (None, None, []))[2]\n",
        "\n",
        "        for file in filenames:\n",
        "            if file.endswith(\".cg\"):\n",
        "                files.append(file)\n",
        "\n",
        "        for struc in files:\n",
        "            coord_dict, twist_dict, connections = load_cg_file(os.path.join(training_dir, struc))\n",
        "            graph = build_dgl_graph(coord_dict, twist_dict, connections)\n",
        "            self.graphs.append(build_dgl_graph(coord_dict, twist_dict, connections))\n",
        "\n",
        "        self.labels = th.tensor(self.labels)\n",
        "  \n",
        "    def __getitem__(self, i):\n",
        "        return self.graphs[i], self.labels[i]\n",
        "\n",
        "    def __len__(self):\n",
        "        return len(self.graphs)\n"
      ],
      "id": "ZU_znRFH141n",
      "execution_count": 5,
      "outputs": []
    },
    {
      "cell_type": "code",
      "metadata": {
        "id": "BWwHPYKZuq1b",
        "colab": {
          "base_uri": "https://localhost:8080/",
          "height": 53
        },
        "outputId": "640b1e2e-8136-40d3-c3ae-2e0c15c2e985"
      },
      "source": [
        "#Save/Load Training Data\n",
        "#TODO: make a function to save the data\n",
        "#import os\n",
        "\n",
        "#training_dir = \"./training_set\"\n",
        "\n",
        "#g_list = []\n",
        "#glabels ={\"rmsd\": th.tensor([12.722, 4.891, 22.918, 12.147])} #done with: compare_RNA.py data/6CU1.pdb /home/mescalin/mgeyer/3d_classifier/6cu1.cg\n",
        "\n",
        "#files = []\n",
        "#filenames = next(os.walk(training_dir), (None, None, []))[2]\n",
        "\n",
        "#for file in filenames:\n",
        "#    if file.endswith(\".cg\"):\n",
        "#        files.append(file)\n",
        "\n",
        "#for struc in files:\n",
        "#    coord_dict, twist_dict, connections = load_cg_file(os.path.join(training_dir, struc))\n",
        "#    graph = build_dgl_graph(coord_dict, twist_dict, connections)\n",
        "#    g_list.append(graph)\n",
        "\n",
        "# save_graphs, label is rmsd\n",
        "'''\n",
        "dgl.save_graphs(training_dir + \"/training_cg_graphs.dgl\", g_list, labels=glabels)\n",
        "gs, ls = dgl.load_graphs(training_dir + \"/training_cg_graphs.dgl\")\n",
        "print(gs)\n",
        "print(ls)\n",
        "'''"
      ],
      "id": "BWwHPYKZuq1b",
      "execution_count": 6,
      "outputs": [
        {
          "output_type": "execute_result",
          "data": {
            "application/vnd.google.colaboratory.intrinsic+json": {
              "type": "string"
            },
            "text/plain": [
              "'\\ndgl.save_graphs(training_dir + \"/training_cg_graphs.dgl\", g_list, labels=glabels)\\ngs, ls = dgl.load_graphs(training_dir + \"/training_cg_graphs.dgl\")\\nprint(gs)\\nprint(ls)\\n'"
            ]
          },
          "metadata": {},
          "execution_count": 6
        }
      ]
    },
    {
      "cell_type": "code",
      "metadata": {
        "id": "j4O333bvAQ1V"
      },
      "source": [
        "#Dataloading\n",
        "import dgl.dataloading as dtl\n",
        "\n",
        "b_size = 3\n",
        "\n",
        "#load from cg files directly\n",
        "\n",
        "training_dir = \"./training_set\"\n",
        "\n",
        "training_dataset = CGDataset(training_dir)\n",
        "#dataset.process(training_dir)\n",
        "#graph, label = dataset[0]\n",
        "#print(graph, label)\n",
        "\n",
        "#load from .dgl file\n",
        "#training_dataset = dgl.data.DGLDataset.load(\"training_cg_graphs.dgl\")\n",
        "\n",
        "#add randomisation as in Defining Data Loader from https://docs.dgl.ai/tutorials/blitz/5_graph_classification.html\n",
        "train_dataloader = dtl.pytorch.GraphDataLoader(training_dataset, batch_size=b_size, shuffle=True) \n"
      ],
      "id": "j4O333bvAQ1V",
      "execution_count": 68,
      "outputs": []
    },
    {
      "cell_type": "code",
      "metadata": {
        "id": "fec1a7b3-8adc-45a3-83ab-7cb02f31a4af"
      },
      "source": [
        "#Model\n",
        "from dgl.nn import GraphConv\n",
        "import torch.nn.functional as F\n",
        "\n",
        "# feed the 3 different node attributes one after the other though the first layer? like in https://discuss.dgl.ai/t/getting-started-with-multiple-node-features-in-homogenous-graph/919/2\n",
        "# condense the 3 node attributes down to 1? see point above\n",
        "\n",
        "\n",
        "#Coarse Grain RNA Classifier Model\n",
        "class CG_Classifier(th.nn.Module):\n",
        "    def __init__(self, in_dim, hidden_dim, num_features):\n",
        "        super(CG_Classifier, self).__init__()\n",
        "        \n",
        "        self.conv1 = GraphConv(in_dim, hidden_dim, activation=F.relu)\n",
        "        self.conv2 = GraphConv(hidden_dim, hidden_dim, activation=F.relu)\n",
        "        \n",
        "        self.max_pool = dgl.nn.MaxPooling()\n",
        "        \n",
        "        self.dense1 = th.nn.Linear(hidden_dim*num_features, 256)\n",
        "        self.dense2 = th.nn.Linear(256, 256)\n",
        "        self.dense3 = th.nn.Linear(256, 256)\n",
        "        self.classify = th.nn.Linear(256, 1)\n",
        "\n",
        "    def forward(self, g):#, n_types, n_coord, n_twist):\n",
        "        nt = g.ndata[\"type\"]\n",
        "        nc = g.ndata[\"coord\"]\n",
        "        nw = g.ndata[\"twist\"]\n",
        "        \n",
        "        nt = self.conv1(g, nt)\n",
        "        nt = self.max_pool(g, nt)\n",
        "        nt = self.conv2(g, nt)\n",
        "        nt = self.max_pool(g, nt)\n",
        "        \n",
        "        nc = self.conv1(g, nc)\n",
        "        nc = self.max_pool(g, nc)\n",
        "        nc = self.conv2(g, nc)\n",
        "        nc = self.max_pool(g, nc)\n",
        "        \n",
        "        nw = self.conv1(g, nw)\n",
        "        nw = self.max_pool(g, nw)\n",
        "        nw = self.conv2(g, nw)\n",
        "        nw = self.max_pool(g, nw)\n",
        "\n",
        "        #use pooling to have still a graph representation, after 2 layers of seperate conv\n",
        "        #--> let conv run over the pooled graph\n",
        "\n",
        "        tcw = th.cat((nt, nc, nw), 1)\n",
        "\n",
        "        #is the mean the right approach?\n",
        "        tcw_mean = tcw.mean(dim=0)\n",
        "        tcw_mean = self.dense1(tcw_mean)\n",
        "        tcw_mean = self.dense2(tcw_mean)\n",
        "        tcw_mean = self.dense3(tcw_mean)\n",
        "        \n",
        "        return self.classify(tcw_mean)\n",
        "    "
      ],
      "id": "fec1a7b3-8adc-45a3-83ab-7cb02f31a4af",
      "execution_count": 69,
      "outputs": []
    },
    {
      "cell_type": "code",
      "metadata": {
        "colab": {
          "base_uri": "https://localhost:8080/",
          "height": 706
        },
        "id": "2943be90-6647-4c26-b967-a2563a142877",
        "outputId": "0c70c7ac-323a-4c58-92f6-f02899985117"
      },
      "source": [
        "#Training\n",
        "#TODO:  build a deeper neural network and how to pool\n",
        "#       tinker with hyperparameters\n",
        "\n",
        "model = CG_Classifier(\n",
        "    in_dim=6, #num of pos in type, twist, coord\n",
        "    hidden_dim=12,\n",
        "    num_features=3 #len(graph.ndata)\n",
        ")\n",
        "\n",
        "opt = th.optim.Adam(model.parameters(), lr=0.1)\n",
        "model.train()\n",
        "\n",
        "epochs = 100\n",
        "\n",
        "#temp val setup --> use dataloader for larger set\n",
        "val_losses = []\n",
        "val_label = th.tensor(0.934)\n",
        "vcoord_dict, vtwist_dict, vconnections = load_cg_file(\"1ehz.cg\")\n",
        "val_graph = build_dgl_graph(vcoord_dict, vtwist_dict, vconnections)\n",
        "\n",
        "#training setup\n",
        "epoch_losses = []\n",
        "for epoch in range(epochs):\n",
        "    epoch_loss = 0\n",
        "    \n",
        "    for iter, (batched_graph, batch_labels) in enumerate(train_dataloader):\n",
        "        \"\"\"\n",
        "        batch_loss = []#th.tensor(0.0, dtype=th.float32)\n",
        "        for i, batched_g in enumerate(dgl.unbatch(batch)): #use another method? see https://docs.dgl.ai/guide/training-graph.html#computation-on-a-batched-graph\n",
        "            prediction = model(batched_g)\n",
        "            batch_loss.append(F.smooth_l1_loss(prediction, batch_labels[i])) #F.cross_entropy(prediction, label) #th.abs((prediction - label))\n",
        "        \n",
        "        #using the mean of all losses of a single batch for backpropagation\n",
        "        print(batch_loss)\n",
        "        batch_loss = th.tensor(batch_loss)\n",
        "        print(batch_loss)\n",
        "        loss = th.mean(batch_loss) #batch_loss/b_size\n",
        "        \"\"\"\n",
        "        #use the batched graphs directly for training --> returns for one batch only one tensor.. \n",
        "        #treat each graph seperately; is there a better solution, that uses a batch better?\n",
        "        l = []\n",
        "        for graph in dgl.unbatch(batched_graph):\n",
        "          pred = model(graph)\n",
        "          l.append(pred)\n",
        "        \n",
        "        logits = th.cat(l)\n",
        "\n",
        "        #logits = model(batched_g)\n",
        "        loss = F.smooth_l1_loss(logits, batch_labels, reduction='mean')\n",
        "\n",
        "        opt.zero_grad()\n",
        "        loss.backward()\n",
        "        opt.step()\n",
        "        epoch_loss += loss.detach().item()\n",
        "    \n",
        "    epoch_loss /= (iter + 1)\n",
        "    epoch_losses.append(epoch_loss)\n",
        "\n",
        "    #val setup\n",
        "    val_pred = model(val_graph)\n",
        "    val_loss = F.smooth_l1_loss(val_pred, val_label) #th.abs(th.sub(val_pred, val_label))#\n",
        "    val_losses.append(val_loss.item())\n",
        "\n",
        "    if epoch % 5 == 0:\n",
        "        print(\"Epoch {}: Training loss {:.4f}, Validation loss {:.4f}\".format(epoch, epoch_loss, val_loss.item()))\n",
        "\n",
        "#plot the training run\n",
        "plt.plot(epoch_losses)\n",
        "plt.plot(val_losses, 'r')\n",
        "plt.ylim(ymax=5000, ymin=0)\n",
        "plt.draw"
      ],
      "id": "2943be90-6647-4c26-b967-a2563a142877",
      "execution_count": 75,
      "outputs": [
        {
          "output_type": "stream",
          "name": "stderr",
          "text": [
            "/usr/local/lib/python3.7/dist-packages/torch/autocast_mode.py:141: UserWarning: User provided device_type of 'cuda', but CUDA is not available. Disabling\n",
            "  warnings.warn('User provided device_type of \\'cuda\\', but CUDA is not available. Disabling')\n",
            "/usr/local/lib/python3.7/dist-packages/ipykernel_launcher.py:62: UserWarning: Using a target size (torch.Size([])) that is different to the input size (torch.Size([1])). This will likely lead to incorrect results due to broadcasting. Please ensure they have the same size.\n"
          ]
        },
        {
          "output_type": "stream",
          "name": "stdout",
          "text": [
            "Epoch 0: Training loss 54.4827, Validation loss 48281.4297\n",
            "Epoch 5: Training loss 3346.6750, Validation loss 9.6515\n",
            "Epoch 10: Training loss 3171.2880, Validation loss 1945.9539\n",
            "Epoch 15: Training loss 5574.1099, Validation loss 3952.1118\n",
            "Epoch 20: Training loss 1065.0984, Validation loss 282.5869\n",
            "Epoch 25: Training loss 606.9598, Validation loss 18.2117\n",
            "Epoch 30: Training loss 56.5164, Validation loss 163.1982\n",
            "Epoch 35: Training loss 370.5685, Validation loss 51.1459\n",
            "Epoch 40: Training loss 224.7318, Validation loss 80.4375\n",
            "Epoch 45: Training loss 55.1636, Validation loss 26.3871\n",
            "Epoch 50: Training loss 9.4281, Validation loss 29.7080\n",
            "Epoch 55: Training loss 21.2264, Validation loss 11.7913\n",
            "Epoch 60: Training loss 19.6134, Validation loss 31.7534\n",
            "Epoch 65: Training loss 24.6837, Validation loss 23.1181\n",
            "Epoch 70: Training loss 8.5490, Validation loss 7.1693\n",
            "Epoch 75: Training loss 8.1649, Validation loss 8.4961\n",
            "Epoch 80: Training loss 4.3714, Validation loss 11.9342\n",
            "Epoch 85: Training loss 7.9531, Validation loss 6.8876\n",
            "Epoch 90: Training loss 6.5454, Validation loss 13.2573\n",
            "Epoch 95: Training loss 3.0035, Validation loss 11.2306\n"
          ]
        },
        {
          "output_type": "execute_result",
          "data": {
            "text/plain": [
              "<function matplotlib.pyplot.draw>"
            ]
          },
          "metadata": {},
          "execution_count": 75
        },
        {
          "output_type": "display_data",
          "data": {
            "image/png": "[encoded data removed]",
            "text/plain": [
              "<Figure size 432x288 with 1 Axes>"
            ]
          },
          "metadata": {
            "needs_background": "light"
          }
        }
      ]
    },
    {
      "cell_type": "code",
      "metadata": {
        "colab": {
          "base_uri": "https://localhost:8080/"
        },
        "id": "eUo0_OJpxrV4",
        "outputId": "ca058b30-24b2-4d87-8d30-442256fe1430"
      },
      "source": [
        "#Test with 1ehz.cg\n",
        "\n",
        "test_label = th.tensor(0.934)\n",
        "tcoord_dict, ttwist_dict, tconnections = load_cg_file(\"1ehz.cg\")\n",
        "test_graph = build_dgl_graph(tcoord_dict, ttwist_dict, tconnections)\n",
        "\n",
        "\n",
        "#tn_types = test_graph.ndata[\"type\"]\n",
        "#tn_coord = test_graph.ndata[\"coord\"]\n",
        "#tn_twist = test_graph.ndata[\"twist\"]\n",
        "\n",
        "pred = model(test_graph)#, tn_types, tn_coord, tn_twist)\n",
        "loss = th.abs(th.sub(val_pred, val_label)).item()#F.smooth_l1_loss(pred, test_label)\n",
        "print(\"Predicted RMSD of 1EHZ (3rd best cg with ernwin): {:.4f}; true RMSD: {:.4f}; loss: {:.4f}\".format(pred.item(), test_label.item(), loss))"
      ],
      "id": "eUo0_OJpxrV4",
      "execution_count": 59,
      "outputs": [
        {
          "output_type": "stream",
          "name": "stdout",
          "text": [
            "Predicted RMSD of 1EHZ (3rd best cg with ernwin): 14.2996; true RMSD: 0.9340; loss: 13.3656\n"
          ]
        }
      ]
    },
    {
      "cell_type": "code",
      "metadata": {
        "id": "fb1a1064-da56-4fab-9ce5-fc0aa0952ef0"
      },
      "source": [
        ""
      ],
      "id": "fb1a1064-da56-4fab-9ce5-fc0aa0952ef0",
      "execution_count": null,
      "outputs": []
    }
  ]
}