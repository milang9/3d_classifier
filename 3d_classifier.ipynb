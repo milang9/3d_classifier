{
 "cells": [
  {
   "cell_type": "code",
   "execution_count": 64,
   "id": "a683650d-9deb-45f7-8d82-17d0203ec8f9",
   "metadata": {},
   "outputs": [],
   "source": [
    "import tensorflow as tf\n",
    "\n",
    "import forgi\n",
    "import forgi.graph.bulge_graph as fgb\n",
    "import forgi.threedee as ft\n",
    "\n",
    "import matplotlib.pyplot as plt\n",
    "import networkx"
   ]
  },
  {
   "cell_type": "code",
   "execution_count": null,
   "id": "fec1a7b3-8adc-45a3-83ab-7cb02f31a4af",
   "metadata": {},
   "outputs": [],
   "source": [
    "def td_model():\n",
    "    model = tf.keras.Sequential([\n",
    "        tf.nn.layer.graph_convolution.feature_steered_convolution_layer(),\n",
    "        tf.layers.Dense(1, activation=None)\n",
    "    ])\n",
    "td_model()"
   ]
  },
  {
   "cell_type": "code",
   "execution_count": 69,
   "id": "81afa4b6-ee92-4662-826b-de338ca595cf",
   "metadata": {},
   "outputs": [
    {
     "name": "stdout",
     "output_type": "stream",
     "text": [
      "{'h0', 's5', 's4', 'm1', 's2', 'i1', 'm2', 'm3', 's3', 's1', 'h1', 's0', 'h2', 'i0'}\n",
      "<forgi.threedee.model.stats.ConformationStats object at 0x7f92324a8b50>\n",
      "s0\n",
      "4\n",
      "(4, 4)\n",
      "i0\n",
      "1.0\n",
      "(1, 1)\n",
      "s1\n",
      "2\n",
      "(2, 2)\n",
      "i1\n",
      "0.5\n",
      "(1, 0)\n",
      "s2\n",
      "3\n",
      "(3, 3)\n",
      "m0\n",
      "7\n",
      "(7, 1000)\n",
      "s3\n",
      "4\n",
      "(4, 4)\n",
      "h0\n",
      "7\n",
      "(7, -1)\n",
      "m1\n",
      "1\n",
      "(1, 1000)\n",
      "s4\n",
      "6\n",
      "(6, 6)\n",
      "h1\n",
      "4\n",
      "(4, -1)\n",
      "m2\n",
      "2\n",
      "(2, 1000)\n",
      "s5\n",
      "4\n",
      "(4, 4)\n",
      "h2\n",
      "7\n",
      "(7, -1)\n",
      "m3\n",
      "2\n",
      "(2, 1000)\n",
      "graph G {\n",
      "\tgraph [overlap=false,splines=true];\n",
      "\tnode [shape=box];\n",
      "\t{node [style=filled,fillcolor=\"#B3E2CD\",fontsize=20,label=\"s0\\n(4)\"] s0};\n",
      "\t{node [style=filled,shape=circle,fillcolor=\"#FFF2AE\",fontsize=20,label=\"i0 \\n(1, 1)\",width=0.547723,heigh=0.547723] i0};\n",
      "\t{node [style=filled,fillcolor=\"#B3E2CD\",fontsize=20,label=\"s1\\n(2)\"] s1};\n",
      "\t{node [style=filled,shape=circle,fillcolor=\"#FFF2AE\",fontsize=20,label=\"i1 \\n(1, 0)\",width=0.387298,heigh=0.387298] i1};\n",
      "\t{node [style=filled,fillcolor=\"#B3E2CD\",fontsize=20,label=\"s2\\n(3)\"] s2};\n",
      "\t{node [style=filled,shape=circle,fillcolor=\"#F4CAE4\",fontsize=20,label=\"m0 \\n(7)\"] m0};\n",
      "\t{node [style=filled,fillcolor=\"#B3E2CD\",fontsize=20,label=\"s3\\n(4)\"] s3};\n",
      "\t{node [style=filled,shape=circle,fillcolor=\"#CBD5E8\",fontsize=20,label=\"h0 \\n(7)\"] h0};\n",
      "\t{node [style=filled,shape=circle,fillcolor=\"#FF9090\",fontsize=20,label=\"m1 \\n(1)\"] m1};\n",
      "\t{node [style=filled,fillcolor=\"#B3E2CD\",fontsize=20,label=\"s4\\n(6)\"] s4};\n",
      "\t{node [style=filled,shape=circle,fillcolor=\"#CBD5E8\",fontsize=20,label=\"h1 \\n(4)\"] h1};\n",
      "\t{node [style=filled,shape=circle,fillcolor=\"#FF9090\",fontsize=20,label=\"m2 \\n(2)\"] m2};\n",
      "\t{node [style=filled,fillcolor=\"#B3E2CD\",fontsize=20,label=\"s5\\n(4)\"] s5};\n",
      "\t{node [style=filled,shape=circle,fillcolor=\"#CBD5E8\",fontsize=20,label=\"h2 \\n(7)\"] h2};\n",
      "\t{node [style=filled,shape=circle,fillcolor=\"#FF9090\",fontsize=20,label=\"m3 \\n(2)\"] m3};\n",
      "\ts0 -- i0;\n",
      "\ts1 -- i1;\n",
      "\ts1 -- i0;\n",
      "\ts2 -- i1;\n",
      "\ts2 -- m3;\n",
      "\ts2 -- m0;\n",
      "\ts3 -- m1;\n",
      "\ts3 -- h0;\n",
      "\ts3 -- m0;\n",
      "\ts4 -- m2;\n",
      "\ts4 -- m1;\n",
      "\ts4 -- h1;\n",
      "\ts5 -- m2;\n",
      "\ts5 -- h2;\n",
      "\ts5 -- m3;\n",
      "}\n"
     ]
    },
    {
     "data": {
      "image/png": "[encoded data removed]",
      "text/plain": [
       "<Figure size 432x288 with 1 Axes>"
      ]
     },
     "metadata": {},
     "output_type": "display_data"
    }
   ],
   "source": [
    "'''\n",
    "Idea: load coarse grain representation with forgi,\n",
    "    use forgi to form a graph with nodes labeled as s/i/o/.. and twist, length, angle,...\n",
    "    use that graph to feed into model\n",
    "\n",
    "TODO: use elements to get coords\n",
    "    get elem connections\n",
    "    build graph (use neato?)\n",
    "    \n",
    "    find where ernwin writes the file for each n steps\n",
    "'''\n",
    "\n",
    "bg = fgb.BulgeGraph.from_bg_file(\"6cu1.cg\")\n",
    "\n",
    "print(bg.get_mst())\n",
    "\n",
    "stats = ft.model.stats.get_conformation_stats(\"6cu1.cg\")\n",
    "\n",
    "\n",
    "\n",
    "for elem in bg.sorted_element_iterator(): #get_domains():\n",
    "    print(elem)\n",
    "    print(bg.get_length(elem))\n",
    "    print(bg.get_node_dimensions(elem))\n",
    "\n",
    "#for e in bg.adjacent_stem_pairs_iterator():\n",
    "#    print(e)\n",
    "\n",
    "print(bg.to_neato_string())\n",
    "\n",
    "networkx.draw(bg.to_networkx())\n",
    "#print(bg.get_multiloop_nucleotides(bg.junctions[0]))"
   ]
  },
  {
   "cell_type": "code",
   "execution_count": null,
   "id": "2943be90-6647-4c26-b967-a2563a142877",
   "metadata": {},
   "outputs": [],
   "source": [
    "\n",
    "    "
   ]
  }
 ],
 "metadata": {
  "kernelspec": {
   "display_name": "Python 3 (ipykernel)",
   "language": "python",
   "name": "python3"
  },
  "language_info": {
   "codemirror_mode": {
    "name": "ipython",
    "version": 3
   },
   "file_extension": ".py",
   "mimetype": "text/x-python",
   "name": "python",
   "nbconvert_exporter": "python",
   "pygments_lexer": "ipython3",
   "version": "3.9.7"
  }
 },
 "nbformat": 4,
 "nbformat_minor": 5
}
