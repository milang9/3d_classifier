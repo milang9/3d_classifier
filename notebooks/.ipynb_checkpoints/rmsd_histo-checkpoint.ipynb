{
 "cells": [
  {
   "cell_type": "code",
   "execution_count": 5,
   "metadata": {},
   "outputs": [
    {
     "name": "stdout",
     "output_type": "stream",
     "text": [
      "Training Set\n",
      "Number of Structures: 1800\n",
      "RMSD <1: {'_br0': 12, '_br1': 10, 'e010': 3, 'e011': 2, 'e012': 2, '_br2': 9, 'e031': 3, 'e032': 1, 'e041': 2, 'e042': 1, 'e052': 2, 'e070': 1, 'e072': 1, 'e080': 3, 'e081': 3, 'e082': 2, 'e090': 2, 'e091': 2, 'rn04': 1, 'rn05': 1, 'rn13': 1, 'rn17': 1, 'rn25': 1, 'rn26': 1, 'rn36': 1, 'rn47': 1, 'rn48': 1, 'rn57': 1, 'rn62': 1, 'rn64': 1, 'rn69': 1, 'rn73': 1, 'rn75': 1, 'rn82': 1, 'rn83': 1, 'rn85': 1, 'rn88': 1, 'e020': 1, 'e050': 1, 'e051': 1, 'rn01': 1, 'rn27': 1, 'rn51': 1, 'rn55': 1, 'rn59': 1, 'e030': 2, 'e060': 1, 'e061': 1, 'e062': 1, 'e092': 1}\n",
      "RMSD = 0: 17\n"
     ]
    },
    {
     "data": {
      "image/png": "[encoded data removed]",
      "text/plain": [
       "<Figure size 576x432 with 1 Axes>"
      ]
     },
     "metadata": {
      "needs_background": "light"
     },
     "output_type": "display_data"
    }
   ],
   "source": [
    "import matplotlib.pyplot as plt\n",
    "\n",
    "for i, list in enumerate([\"/scr/risa/mgeyer/data/test_str_rmsd.txt\"]): #([\"../data/train_rmsd_list.txt\", \"../data/truncated_train_rmsd.txt\", \"../data/val_rmsd_list.txt\", \"../data/test_rmsd_list.txt\", \"../data/old_train_rmsd_list.txt\"]):\n",
    "    with open(list) as fh:\n",
    "        rmsd_list = []\n",
    "        count_dict = {}\n",
    "        rmsd_zero = 0\n",
    "        for line in fh.readlines():\n",
    "            name, rmsd = (line.rstrip()).split(\"\\t\")\n",
    "            rmsd = float(rmsd)\n",
    "            rmsd_list.append(rmsd)\n",
    "\n",
    "            if rmsd == 0:\n",
    "                rmsd_zero += 1    \n",
    "            if rmsd < 1:\n",
    "                if name[-6:-3] == \"001\" or name[-7:-5] == \"rf\":\n",
    "                    if \"pdb\" not in count_dict:\n",
    "                        count_dict[\"pdb\"] = 1\n",
    "                    else:\n",
    "                        count_dict[\"pdb\"] += 1\n",
    "                else:\n",
    "                    cat = name[-7:-3]\n",
    "                    if cat not in count_dict:\n",
    "                        count_dict[cat] = 1\n",
    "                    else:\n",
    "                        count_dict[cat] += 1\n",
    "    if i == 0:\n",
    "        print(\"Training Set\")\n",
    "    elif i == 1:\n",
    "        print(\"Truncated Training Set\")\n",
    "    elif i == 2:\n",
    "        print(\"Validation Set\")\n",
    "    elif i == 3:\n",
    "        print(\"Test Set\")\n",
    "    elif i == 4:\n",
    "        print(\"5S rRNAs and tRNAs with replica exchange\")\n",
    "    print(\"Number of Structures:\", len(rmsd_list))\n",
    "    print(\"RMSD <1:\", count_dict)\n",
    "    print(\"RMSD = 0:\", rmsd_zero)\n",
    "    fig, axs = plt.subplots(figsize=(8, 6))#layout='constrained', figsize=(8, 6))\n",
    "    axs.hist(rmsd_list, bins = range(int(min(rmsd_list)), int(max(rmsd_list))+1, 1))\n",
    "    axs.set_xlabel(\"RMSD\")\n",
    "    axs.set_ylabel(\"Number of Structures\")\n",
    "    plt.show()"
   ]
  }
 ],
 "metadata": {
  "kernelspec": {
   "display_name": "Python 3 (ipykernel)",
   "language": "python",
   "name": "python3"
  },
  "language_info": {
   "codemirror_mode": {
    "name": "ipython",
    "version": 3
   },
   "file_extension": ".py",
   "mimetype": "text/x-python",
   "name": "python",
   "nbconvert_exporter": "python",
   "pygments_lexer": "ipython3",
   "version": "3.9.13"
  },
  "vscode": {
   "interpreter": {
    "hash": "10fe118d5040c005d6beccdd2ef1998f288d7237aaf8a30c799b14583af81edf"
   }
  }
 },
 "nbformat": 4,
 "nbformat_minor": 4
}
