{
 "cells": [
  {
   "cell_type": "code",
   "execution_count": 5,
   "metadata": {},
   "outputs": [
    {
     "name": "stdout",
     "output_type": "stream",
     "text": [
      "Training Set\n",
      "Number of Structures: 1800\n",
      "RMSD <1: {'_br0': 12, '_br1': 10, 'e010': 3, 'e011': 2, 'e012': 2, '_br2': 9, 'e031': 3, 'e032': 1, 'e041': 2, 'e042': 1, 'e052': 2, 'e070': 1, 'e072': 1, 'e080': 3, 'e081': 3, 'e082': 2, 'e090': 2, 'e091': 2, 'rn04': 1, 'rn05': 1, 'rn13': 1, 'rn17': 1, 'rn25': 1, 'rn26': 1, 'rn36': 1, 'rn47': 1, 'rn48': 1, 'rn57': 1, 'rn62': 1, 'rn64': 1, 'rn69': 1, 'rn73': 1, 'rn75': 1, 'rn82': 1, 'rn83': 1, 'rn85': 1, 'rn88': 1, 'e020': 1, 'e050': 1, 'e051': 1, 'rn01': 1, 'rn27': 1, 'rn51': 1, 'rn55': 1, 'rn59': 1, 'e030': 2, 'e060': 1, 'e061': 1, 'e062': 1, 'e092': 1}\n",
      "RMSD = 0: 17\n"
     ]
    },
    {
     "data": {
      "image/png": "[encoded data removed]",
      "text/plain": [
       "<Figure size 576x432 with 1 Axes>"
      ]
     },
     "metadata": {
      "needs_background": "light"
     },
     "output_type": "display_data"
    }
   ],
   "source": [
    "import matplotlib.pyplot as plt\n",
    "\n",
    "for i, list in enumerate([\"/scr/risa/mgeyer/data/test_str_rmsd.txt\"]): #([\"../data/train_rmsd_list.txt\", \"../data/truncated_train_rmsd.txt\", \"../data/val_rmsd_list.txt\", \"../data/test_rmsd_list.txt\", \"../data/old_train_rmsd_list.txt\"]):\n",
    "    with open(list) as fh:\n",
    "        rmsd_list = []\n",
    "        count_dict = {}\n",
    "        rmsd_zero = 0\n",
    "        for line in fh.readlines():\n",
    "            name, rmsd = (line.rstrip()).split(\"\\t\")\n",
    "            rmsd = float(rmsd)\n",
    "            rmsd_list.append(rmsd)\n",
    "\n",
    "            if rmsd == 0:\n",
    "                rmsd_zero += 1    \n",
    "            if rmsd < 1:\n",
    "                if name[-6:-3] == \"001\" or name[-7:-5] == \"rf\":\n",
    "                    if \"pdb\" not in count_dict:\n",
    "                        count_dict[\"pdb\"] = 1\n",
    "                    else:\n",
    "                        count_dict[\"pdb\"] += 1\n",
    "                else:\n",
    "                    cat = name[-7:-3]\n",
    "                    if cat not in count_dict:\n",
    "                        count_dict[cat] = 1\n",
    "                    else:\n",
    "                        count_dict[cat] += 1\n",
    "    if i == 0:\n",
    "        print(\"Training Set\")\n",
    "    elif i == 1:\n",
    "        print(\"Truncated Training Set\")\n",
    "    elif i == 2:\n",
    "        print(\"Validation Set\")\n",
    "    elif i == 3:\n",
    "        print(\"Test Set\")\n",
    "    elif i == 4:\n",
    "        print(\"5S rRNAs and tRNAs with replica exchange\")\n",
    "    print(\"Number of Structures:\", len(rmsd_list))\n",
    "    print(\"RMSD <1:\", count_dict)\n",
    "    print(\"RMSD = 0:\", rmsd_zero)\n",
    "    fig, axs = plt.subplots(figsize=(8, 6))#layout='constrained', figsize=(8, 6))\n",
    "    axs.hist(rmsd_list, bins = range(int(min(rmsd_list)), int(max(rmsd_list))+1, 1))\n",
    "    axs.set_xlabel(\"RMSD\")\n",
    "    axs.set_ylabel(\"Number of Structures\")\n",
    "    plt.show()"
   ]
  },
  {
   "cell_type": "code",
   "execution_count": 1,
   "metadata": {},
   "outputs": [],
   "source": [
    "#comparison ares prediction and RMSD Calc of Ernwin Structures\n",
    "import csv\n",
    "import os\n",
    "\n",
    "rmsd_list = \"/scr/risa/mgeyer/data/ares_compare/trunc_test_rmsd.txt\"\n",
    "ares_csv = \"/scr/risa/mgeyer/data/ares_compare/ares_preds.csv\"\n",
    "\n",
    "rmsd_dict = {}\n",
    "with open(rmsd_list, \"r\") as rfh:\n",
    "    for line in rfh.readlines():\n",
    "        name, rmsd = (line.rstrip()).split(\"\\t\")\n",
    "        rmsd_dict[name[:-3]] = [float(rmsd)]\n",
    "\n",
    "with open(ares_csv, \"r\") as afh:\n",
    "    csv_r = csv.DictReader(afh)\n",
    "    for i, row in enumerate(csv_r):\n",
    "        name = row[\"id\"][:-16]\n",
    "        pred = float(row[\"pred\"])\n",
    "        rmsd_dict[name].append(pred)\n",
    "\n"
   ]
  },
  {
   "cell_type": "code",
   "execution_count": 25,
   "metadata": {},
   "outputs": [
    {
     "name": "stdout",
     "output_type": "stream",
     "text": [
      "LinregressResult(slope=3.5551986932148516, intercept=-12.319551255388816, rvalue=0.4531698074877785, pvalue=1.3425571682515767e-16, stderr=0.40511582109058186, intercept_stderr=3.93484698744883)\n"
     ]
    },
    {
     "ename": "AttributeError",
     "evalue": "'AxesSubplot' object has no attribute 'axline'",
     "output_type": "error",
     "traceback": [
      "\u001b[0;31m---------------------------------------------------------------------------\u001b[0m",
      "\u001b[0;31mAttributeError\u001b[0m                            Traceback (most recent call last)",
      "\u001b[0;32m/tmp/ipykernel_661985/758913227.py\u001b[0m in \u001b[0;36m<module>\u001b[0;34m\u001b[0m\n\u001b[1;32m     14\u001b[0m \u001b[0mfig\u001b[0m\u001b[0;34m,\u001b[0m \u001b[0max1\u001b[0m \u001b[0;34m=\u001b[0m \u001b[0mplt\u001b[0m\u001b[0;34m.\u001b[0m\u001b[0msubplots\u001b[0m\u001b[0;34m(\u001b[0m\u001b[0mfigsize\u001b[0m\u001b[0;34m=\u001b[0m\u001b[0;34m(\u001b[0m\u001b[0;36m10\u001b[0m\u001b[0;34m,\u001b[0m \u001b[0;36m6\u001b[0m\u001b[0;34m)\u001b[0m\u001b[0;34m)\u001b[0m\u001b[0;31m#, gridspec_kw={'width_ratios': [5, 1]})#, layout='constrained')\u001b[0m\u001b[0;34m\u001b[0m\u001b[0;34m\u001b[0m\u001b[0m\n\u001b[1;32m     15\u001b[0m \u001b[0max1\u001b[0m\u001b[0;34m.\u001b[0m\u001b[0mscatter\u001b[0m\u001b[0;34m(\u001b[0m\u001b[0mpred\u001b[0m\u001b[0;34m,\u001b[0m \u001b[0mtrue\u001b[0m\u001b[0;34m)\u001b[0m\u001b[0;34m\u001b[0m\u001b[0;34m\u001b[0m\u001b[0m\n\u001b[0;32m---> 16\u001b[0;31m \u001b[0max1\u001b[0m\u001b[0;34m.\u001b[0m\u001b[0maxline\u001b[0m\u001b[0;34m(\u001b[0m\u001b[0mxy1\u001b[0m\u001b[0;34m=\u001b[0m\u001b[0;34m(\u001b[0m\u001b[0;36m0\u001b[0m\u001b[0;34m,\u001b[0m \u001b[0mreg\u001b[0m\u001b[0;34m.\u001b[0m\u001b[0mintercept\u001b[0m\u001b[0;34m)\u001b[0m\u001b[0;34m,\u001b[0m \u001b[0mslope\u001b[0m\u001b[0;34m=\u001b[0m\u001b[0mreg\u001b[0m\u001b[0;34m.\u001b[0m\u001b[0mslope\u001b[0m\u001b[0;34m,\u001b[0m \u001b[0mlinestyle\u001b[0m\u001b[0;34m=\u001b[0m\u001b[0;34m\"--\"\u001b[0m\u001b[0;34m,\u001b[0m \u001b[0mcolor\u001b[0m\u001b[0;34m=\u001b[0m\u001b[0;34m\"k\"\u001b[0m\u001b[0;34m)\u001b[0m\u001b[0;34m\u001b[0m\u001b[0;34m\u001b[0m\u001b[0m\n\u001b[0m\u001b[1;32m     17\u001b[0m \u001b[0max1\u001b[0m\u001b[0;34m.\u001b[0m\u001b[0mtext\u001b[0m\u001b[0;34m(\u001b[0m\u001b[0;36m0.1\u001b[0m\u001b[0;34m,\u001b[0m \u001b[0mmax\u001b[0m\u001b[0;34m(\u001b[0m\u001b[0mtrue\u001b[0m\u001b[0;34m)\u001b[0m\u001b[0;34m,\u001b[0m \u001b[0;34mf\"R = {reg.rvalue:.4f}\"\u001b[0m\u001b[0;34m,\u001b[0m \u001b[0mfontsize\u001b[0m \u001b[0;34m=\u001b[0m \u001b[0;36m14\u001b[0m\u001b[0;34m,\u001b[0m \u001b[0mva\u001b[0m\u001b[0;34m=\u001b[0m\u001b[0;34m\"top\"\u001b[0m\u001b[0;34m,\u001b[0m \u001b[0mha\u001b[0m\u001b[0;34m=\u001b[0m\u001b[0;34m\"left\"\u001b[0m\u001b[0;34m)\u001b[0m\u001b[0;34m\u001b[0m\u001b[0;34m\u001b[0m\u001b[0m\n\u001b[1;32m     18\u001b[0m \u001b[0;31m#ax2.violinplot(losses, showextrema=True, showmedians=True, quantiles=[0.25, 0.75])# boxplot(losses)\u001b[0m\u001b[0;34m\u001b[0m\u001b[0;34m\u001b[0m\u001b[0m\n",
      "\u001b[0;31mAttributeError\u001b[0m: 'AxesSubplot' object has no attribute 'axline'"
     ]
    },
    {
     "data": {
      "image/png": "[encoded data removed]",
      "text/plain": [
       "<Figure size 720x432 with 1 Axes>"
      ]
     },
     "metadata": {
      "needs_background": "light"
     },
     "output_type": "display_data"
    }
   ],
   "source": [
    "import matplotlib.pyplot as plt\n",
    "from scipy.stats import linregress\n",
    "import math\n",
    "\n",
    "pred = []\n",
    "true = []\n",
    "for name, values in rmsd_dict.items():\n",
    "    if len(values) == 2:\n",
    "        true.append(values[0])\n",
    "        pred.append(values[1])\n",
    "\n",
    "reg = linregress(pred, true)\n",
    "print(reg)\n",
    "fig, ax1 = plt.subplots(figsize=(10, 6))#, gridspec_kw={'width_ratios': [5, 1]})#, layout='constrained')\n",
    "ax1.scatter(pred, true)\n",
    "ax1.axline(xy1=(0, reg.intercept), slope=reg.slope, linestyle=\"--\", color=\"k\")\n",
    "ax1.text(0.1, max(true), f\"R = {reg.rvalue:.4f}\", fontsize = 14, va=\"top\", ha=\"left\")\n",
    "#ax2.violinplot(losses, showextrema=True, showmedians=True, quantiles=[0.25, 0.75])# boxplot(losses)\n",
    "#ax1.set_title(\"Predicted vs True RMSDs\")\n",
    "ax1.set_ylabel(\"Compared RMSD\")\n",
    "ax1.set_xlabel(\"Ares Predicted RMSD\")\n",
    "ax1.set_ylim([0, math.ceil(max(true)) + 1])\n",
    "ax1.set_xlim([0, math.ceil(max(pred)) + 1])\n",
    "\n",
    "plt.show()"
   ]
  }
 ],
 "metadata": {
  "kernelspec": {
   "display_name": "Python 3 (ipykernel)",
   "language": "python",
   "name": "python3"
  },
  "language_info": {
   "codemirror_mode": {
    "name": "ipython",
    "version": 3
   },
   "file_extension": ".py",
   "mimetype": "text/x-python",
   "name": "python",
   "nbconvert_exporter": "python",
   "pygments_lexer": "ipython3",
   "version": "3.9.13"
  },
  "vscode": {
   "interpreter": {
    "hash": "10fe118d5040c005d6beccdd2ef1998f288d7237aaf8a30c799b14583af81edf"
   }
  }
 },
 "nbformat": 4,
 "nbformat_minor": 4
}
