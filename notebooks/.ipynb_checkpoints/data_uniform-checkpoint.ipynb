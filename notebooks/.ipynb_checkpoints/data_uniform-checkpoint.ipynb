{
 "cells": [
  {
   "cell_type": "code",
   "execution_count": 2,
   "metadata": {},
   "outputs": [
    {
     "data": {
      "image/png": "[encoded data removed]",
      "text/plain": [
       "<Figure size 576x432 with 1 Axes>"
      ]
     },
     "metadata": {
      "needs_background": "light"
     },
     "output_type": "display_data"
    }
   ],
   "source": [
    "import math\n",
    "import matplotlib.pyplot as plt\n",
    "\n",
    "file = \"/scr/risa/mgeyer/data/test_str_rmsd.txt\"#\"../data/train_rmsd_list.txt\" #\n",
    "\n",
    "with open(file) as fh:\n",
    "    rmsd_list = []\n",
    "    bin_dict = {}\n",
    "    rmsd_dict = {}\n",
    "    for line in fh.readlines():\n",
    "        name, rmsd = (line.rstrip()).split(\"\\t\")\n",
    "        rmsd = float(rmsd)\n",
    "        rmsd_list.append(rmsd)\n",
    "        ceil = math.ceil(rmsd)\n",
    "        rmsd_dict[name] = rmsd\n",
    "        if ceil not in bin_dict:\n",
    "            bin_dict[ceil] = [name]\n",
    "        else:\n",
    "            bin_dict[ceil].append(name)\n",
    "\n",
    "\n",
    "\n",
    "fig, axs = plt.subplots(figsize=(8, 6)) #layout='constrained',\n",
    "axs.hist(rmsd_list, bins = range(int(min(rmsd_list)), int(max(rmsd_list))+1, 1))\n",
    "plt.show()"
   ]
  },
  {
   "cell_type": "code",
   "execution_count": 3,
   "metadata": {},
   "outputs": [
    {
     "name": "stdout",
     "output_type": "stream",
     "text": [
      "10\n",
      "81\n"
     ]
    }
   ],
   "source": [
    "print(len(bin_dict[0]))\n",
    "print(len(bin_dict[1]))"
   ]
  },
  {
   "cell_type": "code",
   "execution_count": 8,
   "metadata": {},
   "outputs": [
    {
     "name": "stdout",
     "output_type": "stream",
     "text": [
      "Number of structures in the original set:\t 1800\n",
      "Number of structures in the truncated set:\t 460\n"
     ]
    },
    {
     "data": {
      "image/png": "[encoded data removed]",
      "text/plain": [
       "<Figure size 576x432 with 1 Axes>"
      ]
     },
     "metadata": {
      "needs_background": "light"
     },
     "output_type": "display_data"
    }
   ],
   "source": [
    "import random\n",
    "\n",
    "max_nr_bins = 10\n",
    "\n",
    "new_dict = {}\n",
    "rmsd_list_new = []\n",
    "\n",
    "for key in sorted(bin_dict):\n",
    "    k = min(len(bin_dict[key]), max_nr_bins)\n",
    "    new_list = random.choices(bin_dict[key], k=k)\n",
    "    new_dict[key] = new_list\n",
    "    for struc in new_list:\n",
    "        rmsd_list_new.append(rmsd_dict[struc])\n",
    "\n",
    "print(\"Number of structures in the original set:\\t\", len(rmsd_list))\n",
    "print(\"Number of structures in the truncated set:\\t\", len(rmsd_list_new))\n",
    "fig, axs = plt.subplots(figsize=(8, 6)) #layout='constrained', \n",
    "axs.hist(rmsd_list_new, bins = range(int(min(rmsd_list_new)), int(max(rmsd_list_new))+1, 1))\n",
    "plt.show()"
   ]
  },
  {
   "cell_type": "code",
   "execution_count": 14,
   "metadata": {},
   "outputs": [],
   "source": [
    "new_file = \"/scr/risa/mgeyer/data/reconstruct_str.txt\" #\"../data/truncated_train_rmsd.txt\"\n",
    "\n",
    "with open(new_file, \"w\") as fh:\n",
    "    for key in new_dict:\n",
    "        for struc in new_dict[key]:\n",
    "            if struc[0] == \"2\":\n",
    "                fh.write(str(struc)+ \"\\n\")# + \"\\t\" + str(rmsd_dict[struc]) + \"\\n\")"
   ]
  }
 ],
 "metadata": {
  "interpreter": {
   "hash": "10fe118d5040c005d6beccdd2ef1998f288d7237aaf8a30c799b14583af81edf"
  },
  "kernelspec": {
   "display_name": "Python 3 (ipykernel)",
   "language": "python",
   "name": "python3"
  },
  "language_info": {
   "codemirror_mode": {
    "name": "ipython",
    "version": 3
   },
   "file_extension": ".py",
   "mimetype": "text/x-python",
   "name": "python",
   "nbconvert_exporter": "python",
   "pygments_lexer": "ipython3",
   "version": "3.9.13"
  }
 },
 "nbformat": 4,
 "nbformat_minor": 4
}
