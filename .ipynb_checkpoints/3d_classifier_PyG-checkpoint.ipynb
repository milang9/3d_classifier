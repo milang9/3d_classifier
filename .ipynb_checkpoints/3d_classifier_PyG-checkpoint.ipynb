{
  "cells": [
    {
      "cell_type": "code",
      "execution_count": null,
      "id": "a683650d-9deb-45f7-8d82-17d0203ec8f9",
      "metadata": {
        "colab": {
          "base_uri": "https://localhost:8080/"
        },
        "id": "a683650d-9deb-45f7-8d82-17d0203ec8f9",
        "outputId": "02125c0e-6ef9-4797-fb72-ed290b969552"
      },
      "outputs": [
        {
          "output_type": "stream",
          "name": "stdout",
          "text": [
            "Collecting dgl\n",
            "  Downloading dgl-0.6.1-cp37-cp37m-manylinux1_x86_64.whl (4.4 MB)\n",
            "\u001b[K     |████████████████████████████████| 4.4 MB 5.5 MB/s \n",
            "\u001b[?25hRequirement already satisfied: scipy>=1.1.0 in /usr/local/lib/python3.7/dist-packages (from dgl) (1.4.1)\n",
            "Requirement already satisfied: networkx>=2.1 in /usr/local/lib/python3.7/dist-packages (from dgl) (2.6.3)\n",
            "Requirement already satisfied: numpy>=1.14.0 in /usr/local/lib/python3.7/dist-packages (from dgl) (1.19.5)\n",
            "Requirement already satisfied: requests>=2.19.0 in /usr/local/lib/python3.7/dist-packages (from dgl) (2.23.0)\n",
            "Requirement already satisfied: certifi>=2017.4.17 in /usr/local/lib/python3.7/dist-packages (from requests>=2.19.0->dgl) (2021.10.8)\n",
            "Requirement already satisfied: idna<3,>=2.5 in /usr/local/lib/python3.7/dist-packages (from requests>=2.19.0->dgl) (2.10)\n",
            "Requirement already satisfied: chardet<4,>=3.0.2 in /usr/local/lib/python3.7/dist-packages (from requests>=2.19.0->dgl) (3.0.4)\n",
            "Requirement already satisfied: urllib3!=1.25.0,!=1.25.1,<1.26,>=1.21.1 in /usr/local/lib/python3.7/dist-packages (from requests>=2.19.0->dgl) (1.24.3)\n",
            "Installing collected packages: dgl\n",
            "Successfully installed dgl-0.6.1\n",
            "Setting the default backend to \"pytorch\". You can change it in the ~/.dgl/config.json file or export the DGLBACKEND environment variable.  Valid options are: pytorch, mxnet, tensorflow (all lowercase)\n"
          ]
        },
        {
          "output_type": "stream",
          "name": "stderr",
          "text": [
            "DGL backend not selected or invalid.  Assuming PyTorch for now.\n",
            "Using backend: pytorch\n"
          ]
        },
        {
          "output_type": "stream",
          "name": "stdout",
          "text": [
            "Collecting forgi\n",
            "  Downloading forgi-2.1.2.tar.gz (26.8 MB)\n",
            "\u001b[K     |████████████████████████████████| 26.8 MB 55.6 MB/s \n",
            "\u001b[?25hRequirement already satisfied: numpy>=1.10.0 in /usr/local/lib/python3.7/dist-packages (from forgi) (1.19.5)\n",
            "Requirement already satisfied: scipy>=0.19.1 in /usr/local/lib/python3.7/dist-packages (from forgi) (1.4.1)\n",
            "Requirement already satisfied: pandas>=0.20 in /usr/local/lib/python3.7/dist-packages (from forgi) (1.1.5)\n",
            "Requirement already satisfied: future in /usr/local/lib/python3.7/dist-packages (from forgi) (0.16.0)\n",
            "Requirement already satisfied: networkx>=2.0 in /usr/local/lib/python3.7/dist-packages (from forgi) (2.6.3)\n",
            "Collecting biopython\n",
            "  Downloading biopython-1.79-cp37-cp37m-manylinux_2_5_x86_64.manylinux1_x86_64.whl (2.3 MB)\n",
            "\u001b[K     |████████████████████████████████| 2.3 MB 25.8 MB/s \n",
            "\u001b[?25hRequirement already satisfied: appdirs>=1.4 in /usr/local/lib/python3.7/dist-packages (from forgi) (1.4.4)\n",
            "Collecting logging_exceptions>=0.1.8\n",
            "  Downloading logging_exceptions-0.1.8-py2.py3-none-any.whl (10 kB)\n",
            "Requirement already satisfied: cython in /usr/local/lib/python3.7/dist-packages (from forgi) (0.29.24)\n",
            "Requirement already satisfied: pytz>=2017.2 in /usr/local/lib/python3.7/dist-packages (from pandas>=0.20->forgi) (2018.9)\n",
            "Requirement already satisfied: python-dateutil>=2.7.3 in /usr/local/lib/python3.7/dist-packages (from pandas>=0.20->forgi) (2.8.2)\n",
            "Requirement already satisfied: six>=1.5 in /usr/local/lib/python3.7/dist-packages (from python-dateutil>=2.7.3->pandas>=0.20->forgi) (1.15.0)\n",
            "Building wheels for collected packages: forgi\n",
            "  Building wheel for forgi (setup.py) ... \u001b[?25l\u001b[?25hdone\n",
            "  Created wheel for forgi: filename=forgi-2.1.2-cp37-cp37m-linux_x86_64.whl size=27791710 sha256=5cfa9fafd53b04790a5a6a43531c5df98bd0731450f73ca37524ba11572a378e\n",
            "  Stored in directory: /root/.cache/pip/wheels/48/70/42/e333b0de9960f1b0cea75cf70a2db08290bcc713288a607e1a\n",
            "Successfully built forgi\n",
            "Installing collected packages: logging-exceptions, biopython, forgi\n",
            "Successfully installed biopython-1.79 forgi-2.1.2 logging-exceptions-0.1.8\n"
          ]
        }
      ],
      "source": [
        "!pip install dgl\n",
        "#!DGLBACKEND=pytorch\n",
        "#!export $DGLBACKEND\n",
        "#import os\n",
        "#os.environ[\"DGLBACKEND\"] = \"pytorch\"\n",
        "#print(os.environ[\"DGLBACKEND\"])\n",
        "import dgl\n",
        "import numpy as np\n",
        "import torch as th\n",
        "\n",
        "\n",
        "!pip install forgi\n",
        "import forgi\n",
        "import forgi.graph.bulge_graph as fgb\n",
        "import forgi.threedee as ft\n",
        "import forgi.threedee.model.coarse_grain as ftmc\n",
        "\n",
        "\n",
        "import matplotlib.pyplot as plt\n",
        "import networkx as nx\n",
        "import os\n"
      ]
    },
    {
      "cell_type": "code",
      "execution_count": null,
      "id": "_MuRd2MIU0bz",
      "metadata": {
        "colab": {
          "base_uri": "https://localhost:8080/"
        },
        "id": "_MuRd2MIU0bz",
        "outputId": "45da830c-ff06-4d72-a7c1-b0e9b36043c1"
      },
      "outputs": [
        {
          "output_type": "stream",
          "name": "stdout",
          "text": [
            "1.10.0+cu111\n",
            "True\n",
            "cupy-cuda111                  9.4.0\n",
            "jaxlib                        0.1.71+cuda111\n"
          ]
        }
      ],
      "source": [
        "print(th.__version__)\n",
        "print(th.cuda.is_available())\n",
        "!pip list| grep \"cuda\"\n",
        "#!xz -d -v data.tar.xz\n",
        "!tar -xf data.tar.xz"
      ]
    },
    {
      "cell_type": "code",
      "source": [
        "!pip install torch-scatter torch-sparse torch-cluster torch-spline-conv torch-geometric -f https://data.pyg.org/whl/torch-1.10.0+cu113.html"
      ],
      "metadata": {
        "colab": {
          "base_uri": "https://localhost:8080/"
        },
        "id": "qieg79sh7wz0",
        "outputId": "a9ea2605-5ce3-4175-83de-bec6359c35cd"
      },
      "id": "qieg79sh7wz0",
      "execution_count": null,
      "outputs": [
        {
          "output_type": "stream",
          "name": "stdout",
          "text": [
            "Looking in links: https://data.pyg.org/whl/torch-1.10.0+cu113.html\n",
            "Collecting torch-scatter\n",
            "  Downloading https://data.pyg.org/whl/torch-1.10.0%2Bcu113/torch_scatter-2.0.9-cp37-cp37m-linux_x86_64.whl (7.9 MB)\n",
            "\u001b[K     |████████████████████████████████| 7.9 MB 5.4 MB/s \n",
            "\u001b[?25hCollecting torch-sparse\n",
            "  Downloading https://data.pyg.org/whl/torch-1.10.0%2Bcu113/torch_sparse-0.6.12-cp37-cp37m-linux_x86_64.whl (3.5 MB)\n",
            "\u001b[K     |████████████████████████████████| 3.5 MB 37.1 MB/s \n",
            "\u001b[?25hCollecting torch-cluster\n",
            "  Downloading https://data.pyg.org/whl/torch-1.10.0%2Bcu113/torch_cluster-1.5.9-cp37-cp37m-linux_x86_64.whl (2.3 MB)\n",
            "\u001b[K     |████████████████████████████████| 2.3 MB 7.7 MB/s \n",
            "\u001b[?25hCollecting torch-spline-conv\n",
            "  Downloading https://data.pyg.org/whl/torch-1.10.0%2Bcu113/torch_spline_conv-1.2.1-cp37-cp37m-linux_x86_64.whl (747 kB)\n",
            "\u001b[K     |████████████████████████████████| 747 kB 35.6 MB/s \n",
            "\u001b[?25hCollecting torch-geometric\n",
            "  Downloading torch_geometric-2.0.2.tar.gz (325 kB)\n",
            "\u001b[K     |████████████████████████████████| 325 kB 5.3 MB/s \n",
            "\u001b[?25hRequirement already satisfied: scipy in /usr/local/lib/python3.7/dist-packages (from torch-sparse) (1.4.1)\n",
            "Requirement already satisfied: numpy in /usr/local/lib/python3.7/dist-packages (from torch-geometric) (1.19.5)\n",
            "Requirement already satisfied: tqdm in /usr/local/lib/python3.7/dist-packages (from torch-geometric) (4.62.3)\n",
            "Requirement already satisfied: networkx in /usr/local/lib/python3.7/dist-packages (from torch-geometric) (2.6.3)\n",
            "Requirement already satisfied: scikit-learn in /usr/local/lib/python3.7/dist-packages (from torch-geometric) (1.0.1)\n",
            "Requirement already satisfied: requests in /usr/local/lib/python3.7/dist-packages (from torch-geometric) (2.23.0)\n",
            "Requirement already satisfied: pandas in /usr/local/lib/python3.7/dist-packages (from torch-geometric) (1.1.5)\n",
            "Collecting rdflib\n",
            "  Downloading rdflib-6.1.1-py3-none-any.whl (482 kB)\n",
            "\u001b[K     |████████████████████████████████| 482 kB 37.2 MB/s \n",
            "\u001b[?25hRequirement already satisfied: googledrivedownloader in /usr/local/lib/python3.7/dist-packages (from torch-geometric) (0.4)\n",
            "Requirement already satisfied: jinja2 in /usr/local/lib/python3.7/dist-packages (from torch-geometric) (2.11.3)\n",
            "Requirement already satisfied: pyparsing in /usr/local/lib/python3.7/dist-packages (from torch-geometric) (3.0.6)\n",
            "Collecting yacs\n",
            "  Downloading yacs-0.1.8-py3-none-any.whl (14 kB)\n",
            "Requirement already satisfied: PyYAML in /usr/local/lib/python3.7/dist-packages (from torch-geometric) (3.13)\n",
            "Requirement already satisfied: MarkupSafe>=0.23 in /usr/local/lib/python3.7/dist-packages (from jinja2->torch-geometric) (2.0.1)\n",
            "Requirement already satisfied: pytz>=2017.2 in /usr/local/lib/python3.7/dist-packages (from pandas->torch-geometric) (2018.9)\n",
            "Requirement already satisfied: python-dateutil>=2.7.3 in /usr/local/lib/python3.7/dist-packages (from pandas->torch-geometric) (2.8.2)\n",
            "Requirement already satisfied: six>=1.5 in /usr/local/lib/python3.7/dist-packages (from python-dateutil>=2.7.3->pandas->torch-geometric) (1.15.0)\n",
            "Collecting isodate\n",
            "  Downloading isodate-0.6.1-py2.py3-none-any.whl (41 kB)\n",
            "\u001b[K     |████████████████████████████████| 41 kB 613 kB/s \n",
            "\u001b[?25hRequirement already satisfied: importlib-metadata in /usr/local/lib/python3.7/dist-packages (from rdflib->torch-geometric) (4.8.2)\n",
            "Requirement already satisfied: setuptools in /usr/local/lib/python3.7/dist-packages (from rdflib->torch-geometric) (57.4.0)\n",
            "Requirement already satisfied: typing-extensions>=3.6.4 in /usr/local/lib/python3.7/dist-packages (from importlib-metadata->rdflib->torch-geometric) (3.10.0.2)\n",
            "Requirement already satisfied: zipp>=0.5 in /usr/local/lib/python3.7/dist-packages (from importlib-metadata->rdflib->torch-geometric) (3.6.0)\n",
            "Requirement already satisfied: urllib3!=1.25.0,!=1.25.1,<1.26,>=1.21.1 in /usr/local/lib/python3.7/dist-packages (from requests->torch-geometric) (1.24.3)\n",
            "Requirement already satisfied: chardet<4,>=3.0.2 in /usr/local/lib/python3.7/dist-packages (from requests->torch-geometric) (3.0.4)\n",
            "Requirement already satisfied: idna<3,>=2.5 in /usr/local/lib/python3.7/dist-packages (from requests->torch-geometric) (2.10)\n",
            "Requirement already satisfied: certifi>=2017.4.17 in /usr/local/lib/python3.7/dist-packages (from requests->torch-geometric) (2021.10.8)\n",
            "Requirement already satisfied: joblib>=0.11 in /usr/local/lib/python3.7/dist-packages (from scikit-learn->torch-geometric) (1.1.0)\n",
            "Requirement already satisfied: threadpoolctl>=2.0.0 in /usr/local/lib/python3.7/dist-packages (from scikit-learn->torch-geometric) (3.0.0)\n",
            "Building wheels for collected packages: torch-geometric\n",
            "  Building wheel for torch-geometric (setup.py) ... \u001b[?25l\u001b[?25hdone\n",
            "  Created wheel for torch-geometric: filename=torch_geometric-2.0.2-py3-none-any.whl size=535570 sha256=950fffd93b6f65462ef4ea5bcddfcd2a5e86b74eee50cddfb62ef10fb1909bab\n",
            "  Stored in directory: /root/.cache/pip/wheels/3f/08/13/2321517088bb2e95bfd0e45033bb9c923189e5b2078e0be4ef\n",
            "Successfully built torch-geometric\n",
            "Installing collected packages: isodate, yacs, rdflib, torch-spline-conv, torch-sparse, torch-scatter, torch-geometric, torch-cluster\n",
            "Successfully installed isodate-0.6.1 rdflib-6.1.1 torch-cluster-1.5.9 torch-geometric-2.0.2 torch-scatter-2.0.9 torch-sparse-0.6.12 torch-spline-conv-1.2.1 yacs-0.1.8\n"
          ]
        }
      ]
    },
    {
      "cell_type": "markdown",
      "id": "n2IxR1AxZdYn",
      "metadata": {
        "id": "n2IxR1AxZdYn"
      },
      "source": [
        "TODO:\n",
        "*  **include checkpoints, that save model parameters for later testing**\n",
        "*  implement gpu usage\n",
        "*  use dgl.save_graph() to store a graph, so the structure can be used for several steps?\n",
        "*  use forgi.threedee.model.coarse_grain.CoarseGrainRNA.rotate() to rotate cg RNAs and see if the classification changes\n",
        "*  future --> find where ernwin writes/stores output of structure for each n steps\n",
        "*  finetune the model\n",
        "*  make larger batch of training data for testing\n",
        "*  include logger (maybe wandb?)\n",
        "\n"
      ]
    },
    {
      "cell_type": "code",
      "execution_count": null,
      "id": "81afa4b6-ee92-4662-826b-de338ca595cf",
      "metadata": {
        "id": "81afa4b6-ee92-4662-826b-de338ca595cf",
        "tags": []
      },
      "outputs": [],
      "source": [
        "#Graph Building\n",
        "import torch_geometric.data\n",
        "from torch_geometric.data import Data\n",
        "\n",
        "#load coarse grain file\n",
        "def load_cg_file(file): \n",
        "    cg = ftmc.CoarseGrainRNA.from_bg_file(file) \n",
        "    c_dict = dict(cg.coords)\n",
        "    t_dict = dict(cg.twists)\n",
        "    coord_dict = {}\n",
        "    twist_dict = {}\n",
        "    for e in c_dict:\n",
        "        a = th.from_numpy(c_dict[e][0])\n",
        "        b = th.from_numpy(c_dict[e][1])\n",
        "        coord_dict[e] = a, b\n",
        "        if e in t_dict:\n",
        "            c = th.from_numpy(t_dict[e][0])\n",
        "            d = th.from_numpy(t_dict[e][1])\n",
        "            twist_dict[e] = c, d\n",
        "        \n",
        "    # Get elements and neighbours:\n",
        "    connections = {}\n",
        "    for elem in cg.sorted_element_iterator():\n",
        "        neighbours = cg.connections(elem)\n",
        "        if elem not in connections:\n",
        "            connections[elem] = cg.connections(elem)\n",
        "    return coord_dict, twist_dict, connections\n",
        "\n",
        "def build_graph(coord_dict, twist_dict, connections):\n",
        "    #dictionary to convert type\n",
        "    type_transl = {\n",
        "        \"h\": [1, 0, 0, 0, 0, 0],\n",
        "        \"i\": [0, 1, 0, 0, 0, 0],\n",
        "        \"m\": [0, 0, 1, 0, 0, 0],\n",
        "        \"s\": [0, 0, 0, 1, 0, 0],\n",
        "        \"f\": [0, 0, 0, 0, 1, 0],\n",
        "        \"t\": [0, 0, 0, 0, 0, 1]\n",
        "    } \n",
        "\n",
        "    #encode nodes numerically for dgl graph\n",
        "    num_graph = {}\n",
        "    elem_count = {}\n",
        "    for num, n in enumerate(sorted(connections)):\n",
        "        num_graph[n] = num\n",
        "        if n[0] not in elem_count:\n",
        "            elem_count[n[0]] = 1\n",
        "        else:\n",
        "            elem_count[n[0]] += 1\n",
        "\n",
        "    #build graph and edges\n",
        "    u = []\n",
        "    v = []\n",
        "    for node in connections:\n",
        "        for c in connections[node]:\n",
        "            u.append(num_graph[node])\n",
        "            v.append(num_graph[c])\n",
        "\n",
        "    edge_index = th.tensor(u, v, dtype=th.long)\n",
        "\n",
        "    #initialise node attributes\n",
        "    node_type = th.zeros(len(u), 6, dtype=th.float32)\n",
        "    coord = th.zeros(len(u), 6, dtype=th.float32) #seperate coords into 2 sets of 3, so that the information of start and end is added?\n",
        "    twist = th.zeros(len(u), 6, dtype=th.float32)\n",
        "\n",
        "    for elem in connections:\n",
        "        node_type[num_graph[elem]] = th.tensor(type_transl[elem[0]], dtype=th.float32) \n",
        "        coord[num_graph[elem]] = th.tensor(np.concatenate(coord_dict[elem]), dtype=th.float32)\n",
        "        if elem in twist_dict:\n",
        "            twist[num_graph[elem]] = th.tensor(np.concatenate(twist_dict[elem]), dtype=th.float32)\n",
        "    graph = Data(x = [node_type, coord, twist], edge_index = edge_index)\n",
        "    return graph\n"
      ]
    },
    {
      "cell_type": "code",
      "execution_count": null,
      "id": "65010c86-88ed-4940-b36f-5af93ea50a6d",
      "metadata": {
        "id": "65010c86-88ed-4940-b36f-5af93ea50a6d"
      },
      "outputs": [],
      "source": [
        "#create a dict with name and rmsd as labels\n",
        "def get_rmsd_dict(rmsd_list):\n",
        "    #rmsd_list = \"./play_set/RMSD_list.txt\"\n",
        "    rmsd_dict = {}\n",
        "    with open(rmsd_list, \"r\") as fh:\n",
        "        for line in fh.readlines():\n",
        "            name, rmsd = (line.rstrip()).split(\"\\t\")\n",
        "            rmsd_dict[name] = float(rmsd)\n",
        "    return rmsd_dict\n"
      ]
    },
    {
      "cell_type": "code",
      "execution_count": 19,
      "id": "ZU_znRFH141n",
      "metadata": {
        "id": "ZU_znRFH141n"
      },
      "outputs": [],
      "source": [
        "#Graph Dataset Class\n",
        "\n",
        "from torch_geometric.data import InMemoryDataset, download_url\n",
        "#from dgl.data import DGLDataset\n",
        "class CGDataset(InMemoryDataset):\n",
        "    def __init__(self, directory, rmsd_list):\n",
        "        self.file_path = directory\n",
        "        self.rmsd_list = rmsd_list\n",
        "        super(CGDataset, self).__init__()\n",
        "    \n",
        "    @property\n",
        "    def raw_file_names(self):\n",
        "        return next(os.walk(self.file_path), (None, None, []))[2]\n",
        "\n",
        "    def process(self):\n",
        "        self.graphs = []\n",
        "        rmsd_dict = get_rmsd_dict(self.rmsd_list)\n",
        "        self.labels = []\n",
        "        \n",
        "        files = []\n",
        "        #filenames = next(os.walk(self.file_path), (None, None, []))[2]\n",
        "\n",
        "        for file in raw_file_names():\n",
        "            if file.endswith(\".cg\"):\n",
        "                files.append(file)\n",
        "                self.labels.append(rmsd_dict[file])\n",
        "\n",
        "        for struc in files:\n",
        "            coord_dict, twist_dict, connections = load_cg_file(os.path.join(self.file_path, struc))\n",
        "            graph = build_graph(coord_dict, twist_dict, connections)\n",
        "            self.graphs.append(build_graph(coord_dict, twist_dict, connections))\n",
        "\n",
        "        self.labels = th.tensor(self.labels)\n",
        "  \n",
        "    def __getitem__(self, i):\n",
        "        return self.graphs[i], self.labels[i]\n",
        "\n",
        "    def __len__(self):\n",
        "        return len(self.graphs)\n",
        "\n",
        "    def download(self):\n",
        "        pass\n",
        "\n"
      ]
    },
    {
      "cell_type": "code",
      "execution_count": 20,
      "id": "35ebadfa-2a66-46ea-ac4d-e6ff32b2205b",
      "metadata": {
        "colab": {
          "base_uri": "https://localhost:8080/",
          "height": 237
        },
        "id": "35ebadfa-2a66-46ea-ac4d-e6ff32b2205b",
        "outputId": "e2e2e798-51ce-4527-956f-b56d3b7253a9"
      },
      "outputs": [
        {
          "output_type": "error",
          "ename": "AttributeError",
          "evalue": "ignored",
          "traceback": [
            "\u001b[0;31m---------------------------------------------------------------------------\u001b[0m",
            "\u001b[0;31mAttributeError\u001b[0m                            Traceback (most recent call last)",
            "\u001b[0;32m<ipython-input-20-1da85466a92d>\u001b[0m in \u001b[0;36m<module>\u001b[0;34m()\u001b[0m\n\u001b[1;32m     36\u001b[0m \u001b[0;34m\u001b[0m\u001b[0m\n\u001b[1;32m     37\u001b[0m \u001b[0;34m\u001b[0m\u001b[0m\n\u001b[0;32m---> 38\u001b[0;31m \u001b[0mfeat\u001b[0m \u001b[0;34m=\u001b[0m \u001b[0mtest_g\u001b[0m\u001b[0;34m.\u001b[0m\u001b[0mx\u001b[0m\u001b[0;34m\u001b[0m\u001b[0;34m\u001b[0m\u001b[0m\n\u001b[0m\u001b[1;32m     39\u001b[0m \u001b[0;34m\u001b[0m\u001b[0m\n\u001b[1;32m     40\u001b[0m \u001b[0mnew\u001b[0m\u001b[0;34m,\u001b[0m \u001b[0mh\u001b[0m \u001b[0;34m=\u001b[0m \u001b[0mdiffpool\u001b[0m\u001b[0;34m(\u001b[0m\u001b[0mtest_g\u001b[0m\u001b[0;34m,\u001b[0m \u001b[0mfeat\u001b[0m\u001b[0;34m)\u001b[0m\u001b[0;34m\u001b[0m\u001b[0;34m\u001b[0m\u001b[0m\n",
            "\u001b[0;31mAttributeError\u001b[0m: 'DGLHeteroGraph' object has no attribute 'x'"
          ]
        }
      ],
      "source": [
        "#play ground for diffpool\n",
        "#adapted from: https://github.com/dmlc/dgl/blob/master/examples/pytorch/diffpool/model/dgl_layers/gnn.py\n",
        "import numpy as np\n",
        "#import dgl.nn as dglnn\n",
        "import torch.nn.functional as F\n",
        "\n",
        "test_g = training_dataset[0][0]\n",
        "\n",
        "#Diffpool returns a new adjacency matrix\n",
        "# --> difficult/cant be used with the graph structure in dgl\n",
        "# --> use pytorch geometric instead of dgl (or in addition?) when trying out diffpool?\n",
        "\n",
        "def diffpool(g, feat):\n",
        "    feat_gc = dglnn.SAGEConv(6, 10, 'pool')\n",
        "    pool_gc = dglnn.SAGEConv(10, 6, 'pool')\n",
        "\n",
        "    feat = feat_gc(g, feat)\n",
        "    device = feat.device\n",
        "\n",
        "    assign_tensor = pool_gc(g, feat)  # size = (sum_N, N_a), N_a is num of nodes in pooled graph.\n",
        "    assign_tensor = F.softmax(assign_tensor, dim=1)\n",
        "    assign_tensor = th.split(assign_tensor, g.batch_num_nodes().tolist())\n",
        "    assign_tensor = th.block_diag(*assign_tensor)  # size = (sum_N, batch_size * N_a)\n",
        "\n",
        "    h = th.matmul(th.t(assign_tensor), feat)\n",
        "    adj = g.adjacency_matrix(transpose=True, ctx=device)\n",
        "    adj_new = th.sparse.mm(adj, assign_tensor)\n",
        "    adj_new = th.mm(th.t(assign_tensor), adj_new)\n",
        "\n",
        "    print(\"Graph\\n\", g)\n",
        "    print(\"Coords\\n\",g.ndata[\"coord\"])\n",
        "    print(\"Adjacency\\n\",adj)\n",
        "    print(\"Adjacency new\\n\",adj_new)\n",
        "    print(\"feature\\n\",h)\n",
        "    return adj_new, h\n",
        "\n",
        "\n",
        "feat = test_g.x\n",
        "\n",
        "new, h = diffpool(test_g, feat)\n",
        "#new, h = diffpool(new, h)\n",
        "\n",
        "s2s = dglnn.Set2Set(6, 3, 3)\n",
        "print(\"Set2Set\")\n",
        "print(s2s(test_g, feat))"
      ]
    },
    {
      "cell_type": "code",
      "execution_count": null,
      "id": "j4O333bvAQ1V",
      "metadata": {
        "id": "j4O333bvAQ1V"
      },
      "outputs": [],
      "source": [
        "#Dataloading\n",
        "import dgl.dataloading as dtl\n",
        "\n",
        "b_size = 50\n",
        "\n",
        "#load from cg files directly\n",
        "\n",
        "training_dir = \"./data/training_set\"\n",
        "rmsd_list = \"./data/train_rmsd_list.txt\"\n",
        "\n",
        "training_dataset = CGDataset(training_dir, rmsd_list)\n",
        "\n",
        "#add randomisation as in Defining Data Loader from https://docs.dgl.ai/tutorials/blitz/5_graph_classification.html\n",
        "train_dataloader = dtl.pytorch.GraphDataLoader(training_dataset, batch_size=b_size, shuffle=True) \n"
      ]
    },
    {
      "cell_type": "code",
      "execution_count": null,
      "id": "bq8dpernrILf",
      "metadata": {
        "id": "bq8dpernrILf"
      },
      "outputs": [],
      "source": [
        "#Validation set\n",
        "val_dir = \"./data/val_set\"\n",
        "val_rmsd = \"./data/val_rmsd_list.txt\"\n",
        "\n",
        "val_dataset = CGDataset(val_dir, val_rmsd)\n",
        "\n",
        "val_dataloader = dtl.pytorch.GraphDataLoader(val_dataset)"
      ]
    },
    {
      "cell_type": "code",
      "execution_count": null,
      "id": "fec1a7b3-8adc-45a3-83ab-7cb02f31a4af",
      "metadata": {
        "id": "fec1a7b3-8adc-45a3-83ab-7cb02f31a4af"
      },
      "outputs": [],
      "source": [
        "#Model\n",
        "import dgl.nn as dglnn\n",
        "import torch.nn.functional as F\n",
        "import dgl.function as fn\n",
        "from dgl.geometry import neighbor_matching\n",
        "\n",
        "#Coarse Grain RNA Classifier Model\n",
        "class CG_Classifier(th.nn.Module):\n",
        "    def __init__(self, num_features):\n",
        "        self.c = 0\n",
        "        super(CG_Classifier, self).__init__()\n",
        "        \n",
        "        self.conv1 = dglnn.TAGConv(6, 200, k=2, activation=F.relu)\n",
        "        self.conv2 = dglnn.TAGConv(200, 150, k=2, activation=F.relu)\n",
        "        self.conv3 = dglnn.TAGConv(150, 100, k=2, activation=F.relu)\n",
        "        self.conv4 = dglnn.TAGConv(100, 50, k=2, activation=F.relu)\n",
        "        self.conv5 = dglnn.TAGConv(50, 25, k=2, activation=F.relu)\n",
        "        \n",
        "        self.sage_conv1 = dglnn.SAGEConv(25*num_features, 60, 'pool') \n",
        "        self.sage_conv2 = dglnn.SAGEConv(60, 50, 'pool')\n",
        "        self.sage_conv3 = dglnn.SAGEConv(50, 40, 'pool')\n",
        "        self.sage_conv4 = dglnn.SAGEConv(40, 30, 'pool')\n",
        "        self.sage_conv5 = dglnn.SAGEConv(30, 20, 'pool')\n",
        "        \n",
        "        self.readout = dglnn.GlobalAttentionPooling(th.nn.Linear(20, 1)) #dglnn.Set2Set(15, 3, 3)\n",
        "        \n",
        "        self.classify = th.nn.Sequential(\n",
        "            th.nn.Linear(20, 512),\n",
        "            th.nn.ReLU(),\n",
        "            th.nn.Linear(512, 512),\n",
        "            th.nn.ReLU(),\n",
        "            th.nn.Linear(512, 512),\n",
        "            th.nn.ReLU(),\n",
        "            th.nn.Linear(512, 512),\n",
        "            th.nn.ReLU(),\n",
        "            th.nn.Linear(512, 1)\n",
        "        )\n",
        "\n",
        "    def forward(self, g):\n",
        "        #treat node features separately\n",
        "        nt = g.ndata[\"type\"]\n",
        "        nc = g.ndata[\"coord\"]\n",
        "        nw = g.ndata[\"twist\"]\n",
        "        \n",
        "        nt = self.conv1(g, nt)\n",
        "        nt = self.conv2(g, nt)\n",
        "        nt = self.conv3(g, nt)\n",
        "        nt = self.conv4(g, nt)\n",
        "        nt = self.conv5(g, nt)\n",
        "\n",
        "        nc = self.conv1(g, nc)\n",
        "        nc = self.conv2(g, nc)\n",
        "        nc = self.conv3(g, nc)\n",
        "        nc = self.conv4(g, nc)\n",
        "        nc = self.conv5(g, nc)\n",
        "        \n",
        "        nw = self.conv1(g, nw)\n",
        "        nw = self.conv2(g, nw)\n",
        "        nw = self.conv3(g, nw)\n",
        "        nw = self.conv4(g, nw)\n",
        "        nw = self.conv5(g, nw)\n",
        "        \n",
        "        #combine the features\n",
        "        g.ndata[\"combi\"] = th.cat((nt, nc, nw), 1)\n",
        "\n",
        "        combi = g.ndata[\"combi\"]\n",
        "        combi = self.sage_conv1(g, combi)\n",
        "        combi = self.sage_conv2(g, combi)\n",
        "        combi = self.sage_conv3(g, combi)\n",
        "        combi = self.sage_conv4(g, combi)\n",
        "        combi = self.sage_conv5(g, combi)\n",
        "        \n",
        "        tcw = self.readout(g, combi)\n",
        "        \n",
        "        #mean in dim 0 is used to get rid of list in list tensor.. i.e. shape [x, 1] becomes [x]\n",
        "        tcw_mean = tcw.mean(dim=0) #dgl.mean_nodes(g, combi)\n",
        "        \n",
        "        return self.classify(tcw_mean)"
      ]
    },
    {
      "cell_type": "code",
      "execution_count": null,
      "id": "2943be90-6647-4c26-b967-a2563a142877",
      "metadata": {
        "colab": {
          "base_uri": "https://localhost:8080/",
          "height": 1000
        },
        "id": "2943be90-6647-4c26-b967-a2563a142877",
        "outputId": "c21cd277-f7c2-44e7-fda6-a42d94bf3281"
      },
      "outputs": [
        {
          "name": "stdout",
          "output_type": "stream",
          "text": [
            "Epoch 0: Training loss 15.8954, Validation loss 8.7408\n",
            "Epoch 5: Training loss 5.6456, Validation loss 5.5741\n",
            "Epoch 10: Training loss 7.1659, Validation loss 6.7281\n",
            "Epoch 15: Training loss 5.4572, Validation loss 5.0724\n",
            "Epoch 20: Training loss 5.7320, Validation loss 8.2158\n",
            "Epoch 25: Training loss 6.1947, Validation loss 7.5315\n",
            "Epoch 30: Training loss 5.0838, Validation loss 6.9649\n",
            "Epoch 35: Training loss 4.4332, Validation loss 5.5448\n",
            "Epoch 40: Training loss 3.7064, Validation loss 5.6369\n",
            "Epoch 45: Training loss 3.7624, Validation loss 6.0696\n",
            "Epoch 50: Training loss 3.5095, Validation loss 5.7123\n",
            "Epoch 55: Training loss 3.9363, Validation loss 6.3261\n",
            "Epoch 60: Training loss 3.1756, Validation loss 5.7303\n",
            "Epoch 65: Training loss 3.0213, Validation loss 5.1343\n",
            "Epoch 70: Training loss 2.5013, Validation loss 5.0988\n",
            "Epoch 75: Training loss 2.4021, Validation loss 5.5596\n",
            "Epoch 80: Training loss 2.4474, Validation loss 5.0625\n",
            "Epoch 85: Training loss 3.4744, Validation loss 6.5194\n",
            "Epoch 90: Training loss 3.5272, Validation loss 6.1248\n",
            "Epoch 95: Training loss 3.5023, Validation loss 4.9338\n",
            "Training took 9.80 minutes\n"
          ]
        },
        {
          "data": {
            "text/plain": [
              "<function matplotlib.pyplot.draw()>"
            ]
          },
          "execution_count": 13,
          "metadata": {},
          "output_type": "execute_result"
        },
        {
          "data": {
            "image/png": "[encoded data removed]",
            "text/plain": [
              "<Figure size 432x288 with 1 Axes>"
            ]
          },
          "metadata": {
            "needs_background": "light"
          },
          "output_type": "display_data"
        }
      ],
      "source": [
        "#Training\n",
        "import time\n",
        "start = time.perf_counter()\n",
        "model = CG_Classifier(\n",
        "    num_features=3 #len(graph.ndata)\n",
        ")\n",
        "\n",
        "opt = th.optim.Adam(model.parameters(), lr=8e-4)\n",
        "model.train()\n",
        "#th.autograd.set_detect_anomaly(True)\n",
        "epochs = 100\n",
        "\n",
        "#val setup\n",
        "val_losses = []\n",
        "\n",
        "#training setup\n",
        "epoch_losses = []\n",
        "for epoch in range(epochs):\n",
        "    epoch_loss = 0\n",
        "    \n",
        "    for iter, (batched_graph, batch_labels) in enumerate(train_dataloader):\n",
        "        l = []\n",
        "        for graph in dgl.unbatch(batched_graph): #ist there a way to use directly the batched_graph object?\n",
        "            pred = model(graph)\n",
        "            l.append(pred)\n",
        "        \n",
        "        logits = th.cat(l)\n",
        "        loss = F.smooth_l1_loss(logits, batch_labels, reduction='mean')\n",
        "\n",
        "        opt.zero_grad()\n",
        "        loss.backward()\n",
        "        opt.step()\n",
        "        epoch_loss += loss.detach().item()\n",
        "    \n",
        "    epoch_loss /= (iter + 1)\n",
        "    epoch_losses.append(epoch_loss)\n",
        "\n",
        "    #val setup\n",
        "    val_loss = 0\n",
        "    for i, (v_graph, v_label) in enumerate(val_dataloader):\n",
        "        val_pred = model(v_graph)\n",
        "        v_loss = F.smooth_l1_loss(val_pred, v_label, reduction='mean')\n",
        "        val_loss += v_loss.detach().item()\n",
        "\n",
        "    val_loss /= (i + 1)\n",
        "    \n",
        "    val_losses.append(val_loss)\n",
        "\n",
        "    if epoch % 5 == 0:\n",
        "        print(\"Epoch {}: Training loss {:.4f}, Validation loss {:.4f}\".format(epoch, epoch_loss, val_loss))\n",
        "\n",
        "end = time.perf_counter()\n",
        "\n",
        "print(\"Training took {:.2f} minutes\".format((end - start)/60))\n",
        "\n",
        "#plot the training run\n",
        "plt.plot(epoch_losses)\n",
        "plt.plot(val_losses, 'r')\n",
        "plt.title(\"Training Loss\")\n",
        "plt.ylim(ymax=15, ymin=0)\n",
        "plt.draw"
      ]
    },
    {
      "cell_type": "code",
      "execution_count": null,
      "id": "eUo0_OJpxrV4",
      "metadata": {
        "colab": {
          "base_uri": "https://localhost:8080/"
        },
        "id": "eUo0_OJpxrV4",
        "outputId": "2b4717fb-92ff-48a4-8d56-b227c9de0995"
      },
      "outputs": [
        {
          "name": "stdout",
          "output_type": "stream",
          "text": [
            "tensor([0.4720]) tensor([34.3942], grad_fn=<AddBackward0>) 33.422245025634766\n",
            "Mean Test loss: \t 5.1613\n",
            "Std. Dev. of Test loss:  6.1488\n",
            "Min loss: \t \t 0.0001\n",
            "First Quantile: \t 0.8744\n",
            "Median: \t \t 3.0796\n",
            "Third Quantile: \t 6.5313\n",
            "Max Loss: \t \t 33.4222\n",
            "[18.59324073791504, 18.715986251831055, 22.483806610107422, 25.532941818237305, 33.422245025634766]\n"
          ]
        },
        {
          "data": {
            "image/png": "[encoded data removed]",
            "text/plain": [
              "<Figure size 432x288 with 1 Axes>"
            ]
          },
          "metadata": {
            "needs_background": "light"
          },
          "output_type": "display_data"
        }
      ],
      "source": [
        "#Test\n",
        "\n",
        "model.eval()\n",
        "test_dir = \"./data/test_set\"\n",
        "test_rmsd = \"./data/test_rmsd_list.txt\"\n",
        "\n",
        "test_dataset = CGDataset(test_dir, test_rmsd)\n",
        "\n",
        "test_dataloader = dtl.pytorch.GraphDataLoader(test_dataset)\n",
        "\n",
        "max_label = 0\n",
        "max_loss = 0\n",
        "max_pred = 0\n",
        "test_losses = []\n",
        "for test_graph, test_label in test_dataloader:\n",
        "    test_pred = model(test_graph)\n",
        "    test_loss = F.smooth_l1_loss(test_pred, test_label).item()\n",
        "    test_losses.append(test_loss)\n",
        "    #print(\"Test Prediction: {:.4f}; true RMSD: {:.4f}; loss: {:.4f}\".format(test_pred.item(), test_label.item(), test_loss))\n",
        "    if test_loss > max_loss:\n",
        "        max_loss = test_loss\n",
        "        max_label = test_label\n",
        "        max_pred = test_pred\n",
        "\n",
        "print(max_label, max_pred, max_loss)\n",
        "test_mean = np.mean(test_losses)\n",
        "test_std = np.std(test_losses)\n",
        "test_fq = np.quantile(test_losses, q=0.25)\n",
        "test_median = np.median(test_losses)\n",
        "test_tq = np.quantile(test_losses, q=0.75)\n",
        "print(\"Mean Test loss: \\t {:.4f}\".format(test_mean))\n",
        "print(\"Std. Dev. of Test loss:  {:.4f}\".format(test_std))\n",
        "print(\"Min loss: \\t \\t {:.4f}\".format(min(test_losses)))\n",
        "print(\"First Quantile: \\t {:.4f}\".format(test_fq))\n",
        "print(\"Median: \\t \\t {:.4f}\".format(test_median))\n",
        "print(\"Third Quantile: \\t {:.4f}\".format(test_tq))\n",
        "print(\"Max Loss: \\t \\t {:.4f}\".format(max(test_losses)))\n",
        "\n",
        "print(sorted(test_losses)[-5:])\n",
        "\n",
        "plt.plot(sorted(test_losses))\n",
        "plt.axhline(y = test_fq, color = 'r')\n",
        "plt.axhline(y = test_median, color = 'r')\n",
        "plt.axhline(y = test_tq, color = 'r')\n",
        "plt.draw()"
      ]
    },
    {
      "cell_type": "code",
      "execution_count": null,
      "id": "fb1a1064-da56-4fab-9ce5-fc0aa0952ef0",
      "metadata": {
        "id": "fb1a1064-da56-4fab-9ce5-fc0aa0952ef0"
      },
      "outputs": [],
      "source": [
        ""
      ]
    }
  ],
  "metadata": {
    "accelerator": "GPU",
    "colab": {
      "collapsed_sections": [],
      "name": "3d_classifier-PyG.ipynb",
      "provenance": []
    },
    "kernelspec": {
      "display_name": "Python 3 (ipykernel)",
      "language": "python",
      "name": "python3"
    },
    "language_info": {
      "codemirror_mode": {
        "name": "ipython",
        "version": 3
      },
      "file_extension": ".py",
      "mimetype": "text/x-python",
      "name": "python",
      "nbconvert_exporter": "python",
      "pygments_lexer": "ipython3",
      "version": "3.9.7"
    }
  },
  "nbformat": 4,
  "nbformat_minor": 5
}